{
 "cells": [
  {
   "cell_type": "code",
   "execution_count": 0,
   "metadata": {
    "application/vnd.databricks.v1+cell": {
     "cellMetadata": {
      "byteLimit": 2048000,
      "rowLimit": 10000
     },
     "inputWidgets": {},
     "nuid": "bb6f9c96-acf2-4e0c-970f-115c5305124b",
     "showTitle": false,
     "title": ""
    }
   },
   "outputs": [
    {
     "output_type": "execute_result",
     "data": {
      "text/plain": [
       "[SecretScope(name='asiangameskv_scope')]"
      ]
     },
     "execution_count": 1,
     "metadata": {},
     "output_type": "execute_result"
    }
   ],
   "source": [
    "#listing secret scopes\n",
    "dbutils.secrets.listScopes()"
   ]
  },
  {
   "cell_type": "code",
   "execution_count": 0,
   "metadata": {
    "application/vnd.databricks.v1+cell": {
     "cellMetadata": {
      "byteLimit": 2048000,
      "rowLimit": 10000
     },
     "inputWidgets": {},
     "nuid": "ef38a704-e5fd-46b4-9bf2-18119de3a9ca",
     "showTitle": false,
     "title": ""
    }
   },
   "outputs": [
    {
     "output_type": "execute_result",
     "data": {
      "text/plain": [
       "[SecretMetadata(key='app01clientid'),\n",
       " SecretMetadata(key='app01tenantid'),\n",
       " SecretMetadata(key='secretkey')]"
      ]
     },
     "execution_count": 3,
     "metadata": {},
     "output_type": "execute_result"
    }
   ],
   "source": [
    "dbutils.secrets.list(scope='asiangameskv_scope')"
   ]
  },
  {
   "cell_type": "code",
   "execution_count": 0,
   "metadata": {
    "application/vnd.databricks.v1+cell": {
     "cellMetadata": {
      "byteLimit": 2048000,
      "rowLimit": 10000
     },
     "inputWidgets": {},
     "nuid": "e4bc6c02-d80a-4630-95d8-64ac12f6133a",
     "showTitle": false,
     "title": ""
    }
   },
   "outputs": [
    {
     "output_type": "execute_result",
     "data": {
      "text/plain": [
       "str"
      ]
     },
     "execution_count": 5,
     "metadata": {},
     "output_type": "execute_result"
    }
   ],
   "source": [
    "type(dbutils.secrets.get('asiangameskv_scope','app01clientid'))"
   ]
  },
  {
   "cell_type": "code",
   "execution_count": 0,
   "metadata": {
    "application/vnd.databricks.v1+cell": {
     "cellMetadata": {
      "byteLimit": 2048000,
      "rowLimit": 10000
     },
     "inputWidgets": {},
     "nuid": "f9d1b32d-240c-466f-a2ef-e04c93b9ba26",
     "showTitle": false,
     "title": ""
    }
   },
   "outputs": [
    {
     "output_type": "display_data",
     "data": {
      "text/plain": [
       "\u001B[0;31m---------------------------------------------------------------------------\u001B[0m\n",
       "\u001B[0;31mExecutionError\u001B[0m                            Traceback (most recent call last)\n",
       "File \u001B[0;32m<command-2465342253492961>, line 8\u001B[0m\n",
       "\u001B[1;32m      1\u001B[0m configs \u001B[38;5;241m=\u001B[39m {\u001B[38;5;124m\"\u001B[39m\u001B[38;5;124mfs.azure.account.auth.type\u001B[39m\u001B[38;5;124m\"\u001B[39m: \u001B[38;5;124m\"\u001B[39m\u001B[38;5;124mOAuth\u001B[39m\u001B[38;5;124m\"\u001B[39m,\n",
       "\u001B[1;32m      2\u001B[0m \u001B[38;5;124m\"\u001B[39m\u001B[38;5;124mfs.azure.account.oauth.provider.type\u001B[39m\u001B[38;5;124m\"\u001B[39m: \u001B[38;5;124m\"\u001B[39m\u001B[38;5;124morg.apache.hadoop.fs.azurebfs.oauth2.ClientCredsTokenProvider\u001B[39m\u001B[38;5;124m\"\u001B[39m,\n",
       "\u001B[1;32m      3\u001B[0m \u001B[38;5;124m\"\u001B[39m\u001B[38;5;124mfs.azure.account.oauth2.client.id\u001B[39m\u001B[38;5;124m\"\u001B[39m: dbutils\u001B[38;5;241m.\u001B[39msecrets\u001B[38;5;241m.\u001B[39mget(\u001B[38;5;124m'\u001B[39m\u001B[38;5;124masiangameskv_scope\u001B[39m\u001B[38;5;124m'\u001B[39m,\u001B[38;5;124m'\u001B[39m\u001B[38;5;124mapp01clientid\u001B[39m\u001B[38;5;124m'\u001B[39m), \u001B[38;5;66;03m#add client id of storage account\u001B[39;00m\n",
       "\u001B[1;32m      4\u001B[0m \u001B[38;5;124m\"\u001B[39m\u001B[38;5;124mfs.azure.account.oauth2.client.secret\u001B[39m\u001B[38;5;124m\"\u001B[39m: dbutils\u001B[38;5;241m.\u001B[39msecrets\u001B[38;5;241m.\u001B[39mget(\u001B[38;5;124m'\u001B[39m\u001B[38;5;124masiangameskv_scope\u001B[39m\u001B[38;5;124m'\u001B[39m,\u001B[38;5;124m'\u001B[39m\u001B[38;5;124msecretkey\u001B[39m\u001B[38;5;124m'\u001B[39m),\n",
       "\u001B[1;32m      5\u001B[0m \u001B[38;5;124m\"\u001B[39m\u001B[38;5;124mfs.azure.account.oauth2.client.endpoint\u001B[39m\u001B[38;5;124m\"\u001B[39m: \u001B[38;5;124m\"\u001B[39m\u001B[38;5;124mhttps://login.microsoftonline.com/\u001B[39m\u001B[38;5;124m\"\u001B[39m\u001B[38;5;241m+\u001B[39mdbutils\u001B[38;5;241m.\u001B[39msecrets\u001B[38;5;241m.\u001B[39mget(\u001B[38;5;124m'\u001B[39m\u001B[38;5;124masiangameskv_scope\u001B[39m\u001B[38;5;124m'\u001B[39m,\u001B[38;5;124m'\u001B[39m\u001B[38;5;124mapp01tenantid\u001B[39m\u001B[38;5;124m'\u001B[39m)\u001B[38;5;241m+\u001B[39m\u001B[38;5;124m\"\u001B[39m\u001B[38;5;124m/oauth2/token\u001B[39m\u001B[38;5;124m\"\u001B[39m}\n",
       "\u001B[0;32m----> 8\u001B[0m dbutils\u001B[38;5;241m.\u001B[39mfs\u001B[38;5;241m.\u001B[39mmount(\n",
       "\u001B[1;32m      9\u001B[0m source \u001B[38;5;241m=\u001B[39m \u001B[38;5;124m\"\u001B[39m\u001B[38;5;124mabfss://asiangames@asiangamesdata.dfs.core.windows.net\u001B[39m\u001B[38;5;124m\"\u001B[39m, \u001B[38;5;66;03m# contrainer@storageacc\u001B[39;00m\n",
       "\u001B[1;32m     10\u001B[0m mount_point \u001B[38;5;241m=\u001B[39m \u001B[38;5;124m\"\u001B[39m\u001B[38;5;124m/mnt/asiangames\u001B[39m\u001B[38;5;124m\"\u001B[39m,\n",
       "\u001B[1;32m     11\u001B[0m extra_configs \u001B[38;5;241m=\u001B[39m configs)\n",
       "\n",
       "File \u001B[0;32m/databricks/python_shell/dbruntime/dbutils.py:362\u001B[0m, in \u001B[0;36mDBUtils.FSHandler.prettify_exception_message.<locals>.f_with_exception_handling\u001B[0;34m(*args, **kwargs)\u001B[0m\n",
       "\u001B[1;32m    360\u001B[0m exc\u001B[38;5;241m.\u001B[39m__context__ \u001B[38;5;241m=\u001B[39m \u001B[38;5;28;01mNone\u001B[39;00m\n",
       "\u001B[1;32m    361\u001B[0m exc\u001B[38;5;241m.\u001B[39m__cause__ \u001B[38;5;241m=\u001B[39m \u001B[38;5;28;01mNone\u001B[39;00m\n",
       "\u001B[0;32m--> 362\u001B[0m \u001B[38;5;28;01mraise\u001B[39;00m exc\n",
       "\n",
       "\u001B[0;31mExecutionError\u001B[0m: An error occurred while calling o420.mount.\n",
       ": java.rmi.RemoteException: java.lang.IllegalArgumentException: requirement failed: Directory already mounted: /mnt/asiangames; nested exception is: \n",
       "\tjava.lang.IllegalArgumentException: requirement failed: Directory already mounted: /mnt/asiangames\n",
       "\tat com.databricks.backend.daemon.data.client.DbfsClient.send0(DbfsClient.scala:135)\n",
       "\tat com.databricks.backend.daemon.data.client.DbfsClient.sendIdempotent(DbfsClient.scala:69)\n",
       "\tat com.databricks.backend.daemon.dbutils.DBUtilsCore.createOrUpdateMount(DBUtilsCore.scala:1077)\n",
       "\tat com.databricks.backend.daemon.dbutils.DBUtilsCore.$anonfun$mount$1(DBUtilsCore.scala:1103)\n",
       "\tat com.databricks.logging.UsageLogging.$anonfun$recordOperation$1(UsageLogging.scala:573)\n",
       "\tat com.databricks.logging.UsageLogging.executeThunkAndCaptureResultTags$1(UsageLogging.scala:668)\n",
       "\tat com.databricks.logging.UsageLogging.$anonfun$recordOperationWithResultTags$4(UsageLogging.scala:686)\n",
       "\tat com.databricks.logging.UsageLogging.$anonfun$withAttributionContext$1(UsageLogging.scala:426)\n",
       "\tat scala.util.DynamicVariable.withValue(DynamicVariable.scala:62)\n",
       "\tat com.databricks.logging.AttributionContext$.withValue(AttributionContext.scala:216)\n",
       "\tat com.databricks.logging.UsageLogging.withAttributionContext(UsageLogging.scala:424)\n",
       "\tat com.databricks.logging.UsageLogging.withAttributionContext$(UsageLogging.scala:418)\n",
       "\tat com.databricks.backend.daemon.dbutils.FSUtils.withAttributionContext(DBUtilsCore.scala:70)\n",
       "\tat com.databricks.logging.UsageLogging.withAttributionTags(UsageLogging.scala:472)\n",
       "\tat com.databricks.logging.UsageLogging.withAttributionTags$(UsageLogging.scala:455)\n",
       "\tat com.databricks.backend.daemon.dbutils.FSUtils.withAttributionTags(DBUtilsCore.scala:70)\n",
       "\tat com.databricks.logging.UsageLogging.recordOperationWithResultTags(UsageLogging.scala:663)\n",
       "\tat com.databricks.logging.UsageLogging.recordOperationWithResultTags$(UsageLogging.scala:582)\n",
       "\tat com.databricks.backend.daemon.dbutils.FSUtils.recordOperationWithResultTags(DBUtilsCore.scala:70)\n",
       "\tat com.databricks.logging.UsageLogging.recordOperation(UsageLogging.scala:573)\n",
       "\tat com.databricks.logging.UsageLogging.recordOperation$(UsageLogging.scala:542)\n",
       "\tat com.databricks.backend.daemon.dbutils.FSUtils.recordOperation(DBUtilsCore.scala:70)\n",
       "\tat com.databricks.backend.daemon.dbutils.FSUtils.recordDbutilsFsOp(DBUtilsCore.scala:134)\n",
       "\tat com.databricks.backend.daemon.dbutils.DBUtilsCore.mount(DBUtilsCore.scala:1097)\n",
       "\tat sun.reflect.NativeMethodAccessorImpl.invoke0(Native Method)\n",
       "\tat sun.reflect.NativeMethodAccessorImpl.invoke(NativeMethodAccessorImpl.java:62)\n",
       "\tat sun.reflect.DelegatingMethodAccessorImpl.invoke(DelegatingMethodAccessorImpl.java:43)\n",
       "\tat java.lang.reflect.Method.invoke(Method.java:498)\n",
       "\tat py4j.reflection.MethodInvoker.invoke(MethodInvoker.java:244)\n",
       "\tat py4j.reflection.ReflectionEngine.invoke(ReflectionEngine.java:397)\n",
       "\tat py4j.Gateway.invoke(Gateway.java:306)\n",
       "\tat py4j.commands.AbstractCommand.invokeMethod(AbstractCommand.java:132)\n",
       "\tat py4j.commands.CallCommand.execute(CallCommand.java:79)\n",
       "\tat py4j.ClientServerConnection.waitForCommands(ClientServerConnection.java:195)\n",
       "\tat py4j.ClientServerConnection.run(ClientServerConnection.java:115)\n",
       "\tat java.lang.Thread.run(Thread.java:750)\n",
       "Caused by: java.lang.IllegalArgumentException: requirement failed: Directory already mounted: /mnt/asiangames\n",
       "\tat scala.Predef$.require(Predef.scala:281)\n",
       "\tat com.databricks.backend.daemon.data.server.DefaultMetadataManager.$anonfun$insertMount$1(MetadataManager.scala:580)\n",
       "\tat com.databricks.backend.daemon.data.server.DefaultMetadataManager.$anonfun$modifyAndVerify$2(MetadataManager.scala:948)\n",
       "\tat scala.runtime.java8.JFunction0$mcV$sp.apply(JFunction0$mcV$sp.java:23)\n",
       "\tat com.databricks.backend.daemon.data.server.DefaultMetadataManager.withRetries(MetadataManager.scala:729)\n",
       "\tat com.databricks.backend.daemon.data.server.DefaultMetadataManager.modifyAndVerify(MetadataManager.scala:937)\n",
       "\tat com.databricks.backend.daemon.data.server.DefaultMetadataManager.insertMount(MetadataManager.scala:588)\n",
       "\tat com.databricks.backend.daemon.data.server.handler.MountHandler.receive(MountHandler.scala:120)\n",
       "\tat com.databricks.backend.daemon.data.server.session.SessionContext.$anonfun$queryHandlers$1(SessionContext.scala:54)\n",
       "\tat com.databricks.backend.daemon.data.server.session.SessionContext.$anonfun$queryHandlers$1$adapted(SessionContext.scala:53)\n",
       "\tat scala.collection.immutable.List.foreach(List.scala:431)\n",
       "\tat com.databricks.backend.daemon.data.server.session.SessionContext.queryHandlers(SessionContext.scala:53)\n",
       "\tat com.databricks.backend.daemon.data.server.DbfsServerBackend$$anonfun$receive$4.$anonfun$applyOrElse$5(DbfsServerBackend.scala:375)\n",
       "\tat com.databricks.logging.UsageLogging.$anonfun$withAttributionContext$1(UsageLogging.scala:426)\n",
       "\tat scala.util.DynamicVariable.withValue(DynamicVariable.scala:62)\n",
       "\tat com.databricks.logging.AttributionContext$.withValue(AttributionContext.scala:216)\n",
       "\tat com.databricks.logging.UsageLogging.withAttributionContext(UsageLogging.scala:424)\n",
       "\tat com.databricks.logging.UsageLogging.withAttributionContext$(UsageLogging.scala:418)\n",
       "\tat com.databricks.rpc.ServerBackend.withAttributionContext(ServerBackend.scala:22)\n",
       "\tat com.databricks.logging.UsageLogging.withAttributionTags(UsageLogging.scala:472)\n",
       "\tat com.databricks.logging.UsageLogging.withAttributionTags$(UsageLogging.scala:455)\n",
       "\tat com.databricks.rpc.ServerBackend.withAttributionTags(ServerBackend.scala:22)\n",
       "\tat com.databricks.backend.daemon.data.server.DbfsServerBackend$$anonfun$receive$4.applyOrElse(DbfsServerBackend.scala:375)\n",
       "\tat com.databricks.backend.daemon.data.server.DbfsServerBackend$$anonfun$receive$4.applyOrElse(DbfsServerBackend.scala:319)\n",
       "\tat com.databricks.rpc.ServerBackend.$anonfun$internalReceive0$2(ServerBackend.scala:174)\n",
       "\tat com.databricks.rpc.ServerBackend$$anonfun$commonReceive$1.applyOrElse(ServerBackend.scala:200)\n",
       "\tat com.databricks.rpc.ServerBackend$$anonfun$commonReceive$1.applyOrElse(ServerBackend.scala:200)\n",
       "\tat com.databricks.rpc.ServerBackend.internalReceive0(ServerBackend.scala:171)\n",
       "\tat com.databricks.rpc.ServerBackend.$anonfun$internalReceive$1(ServerBackend.scala:147)\n",
       "\tat com.databricks.logging.UsageLogging.$anonfun$recordOperation$1(UsageLogging.scala:573)\n",
       "\tat com.databricks.logging.UsageLogging.executeThunkAndCaptureResultTags$1(UsageLogging.scala:668)\n",
       "\tat com.databricks.logging.UsageLogging.$anonfun$recordOperationWithResultTags$4(UsageLogging.scala:686)\n",
       "\tat com.databricks.logging.UsageLogging.$anonfun$withAttributionContext$1(UsageLogging.scala:426)\n",
       "\tat scala.util.DynamicVariable.withValue(DynamicVariable.scala:62)\n",
       "\tat com.databricks.logging.AttributionContext$.withValue(AttributionContext.scala:216)\n",
       "\tat com.databricks.logging.UsageLogging.withAttributionContext(UsageLogging.scala:424)\n",
       "\tat com.databricks.logging.UsageLogging.withAttributionContext$(UsageLogging.scala:418)\n",
       "\tat com.databricks.rpc.ServerBackend.withAttributionContext(ServerBackend.scala:22)\n",
       "\tat com.databricks.logging.UsageLogging.withAttributionTags(UsageLogging.scala:472)\n",
       "\tat com.databricks.logging.UsageLogging.withAttributionTags$(UsageLogging.scala:455)\n",
       "\tat com.databricks.rpc.ServerBackend.withAttributionTags(ServerBackend.scala:22)\n",
       "\tat com.databricks.logging.UsageLogging.recordOperationWithResultTags(UsageLogging.scala:663)\n",
       "\tat com.databricks.logging.UsageLogging.recordOperationWithResultTags$(UsageLogging.scala:582)\n",
       "\tat com.databricks.rpc.ServerBackend.recordOperationWithResultTags(ServerBackend.scala:22)\n",
       "\tat com.databricks.logging.UsageLogging.recordOperation(UsageLogging.scala:573)\n",
       "\tat com.databricks.logging.UsageLogging.recordOperation$(UsageLogging.scala:542)\n",
       "\tat com.databricks.rpc.ServerBackend.recordOperation(ServerBackend.scala:22)\n",
       "\tat com.databricks.rpc.ServerBackend.internalReceive(ServerBackend.scala:147)\n",
       "\tat com.databricks.rpc.JettyServer$RequestManager.handleRPC(JettyServer.scala:1020)\n",
       "\tat com.databricks.rpc.JettyServer$RequestManager.handleRequestAndRespond(JettyServer.scala:941)\n",
       "\tat com.databricks.rpc.JettyServer$RequestManager.$anonfun$handleHttp$6(JettyServer.scala:545)\n",
       "\tat com.databricks.rpc.JettyServer$RequestManager.$anonfun$handleHttp$6$adapted(JettyServer.scala:514)\n",
       "\tat com.databricks.logging.activity.ActivityContextFactory$.$anonfun$withActivityInternal$4(ActivityContextFactory.scala:402)\n",
       "\tat com.databricks.logging.UsageLogging.$anonfun$withAttributionContext$1(UsageLogging.scala:426)\n",
       "\tat scala.util.DynamicVariable.withValue(DynamicVariable.scala:62)\n",
       "\tat com.databricks.logging.AttributionContext$.withValue(AttributionContext.scala:216)\n",
       "\tat com.databricks.logging.UsageLogging.withAttributionContext(UsageLogging.scala:424)\n",
       "\tat com.databricks.logging.UsageLogging.withAttributionContext$(UsageLogging.scala:418)\n",
       "\tat com.databricks.logging.activity.ActivityContextFactory$.withAttributionContext(ActivityContextFactory.scala:56)\n",
       "\tat com.databricks.logging.activity.ActivityContextFactory$.$anonfun$withActivityInternal$1(ActivityContextFactory.scala:402)\n",
       "\tat com.databricks.context.integrity.IntegrityCheckContext$ThreadLocalStorage$.withValue(IntegrityCheckContext.scala:35)\n",
       "\tat com.databricks.logging.activity.ActivityContextFactory$.withActivityInternal(ActivityContextFactory.scala:377)\n",
       "\tat com.databricks.logging.activity.ActivityContextFactory$.withServiceRequestActivity(ActivityContextFactory.scala:157)\n",
       "\tat com.databricks.rpc.JettyServer$RequestManager.handleHttp(JettyServer.scala:514)\n",
       "\tat com.databricks.rpc.JettyServer$RequestManager.doPost(JettyServer.scala:404)\n",
       "\tat javax.servlet.http.HttpServlet.service(HttpServlet.java:665)\n",
       "\tat com.databricks.rpc.HttpServletWithPatch.service(HttpServletWithPatch.scala:33)\n",
       "\tat javax.servlet.http.HttpServlet.service(HttpServlet.java:750)\n",
       "\tat org.eclipse.jetty.servlet.ServletHolder.handle(ServletHolder.java:848)\n",
       "\tat org.eclipse.jetty.servlet.ServletHandler.doHandle(ServletHandler.java:585)\n",
       "\tat org.eclipse.jetty.servlet.ServletHandler.doScope(ServletHandler.java:515)\n",
       "\tat org.eclipse.jetty.server.handler.ScopedHandler.handle(ScopedHandler.java:141)\n",
       "\tat org.eclipse.jetty.server.handler.HandlerWrapper.handle(HandlerWrapper.java:134)\n",
       "\tat org.eclipse.jetty.server.Server.handle(Server.java:539)\n",
       "\tat org.eclipse.jetty.server.HttpChannel.handle(HttpChannel.java:333)\n",
       "\tat org.eclipse.jetty.server.HttpConnection.onFillable(HttpConnection.java:251)\n",
       "\tat org.eclipse.jetty.io.AbstractConnection$ReadCallback.succeeded(AbstractConnection.java:283)\n",
       "\tat org.eclipse.jetty.io.FillInterest.fillable(FillInterest.java:108)\n",
       "\tat org.eclipse.jetty.io.SelectChannelEndPoint$2.run(SelectChannelEndPoint.java:93)\n",
       "\tat org.eclipse.jetty.util.thread.strategy.ExecuteProduceConsume.executeProduceConsume(ExecuteProduceConsume.java:303)\n",
       "\tat org.eclipse.jetty.util.thread.strategy.ExecuteProduceConsume.produceConsume(ExecuteProduceConsume.java:148)\n",
       "\tat org.eclipse.jetty.util.thread.strategy.ExecuteProduceConsume.run(ExecuteProduceConsume.java:136)\n",
       "\tat com.databricks.rpc.InstrumentedQueuedThreadPool$$anon$1.$anonfun$run$1(InstrumentedQueuedThreadPool.scala:81)\n",
       "\tat scala.runtime.java8.JFunction0$mcV$sp.apply(JFunction0$mcV$sp.java:23)\n",
       "\tat com.databricks.instrumentation.QueuedThreadPoolInstrumenter.trackActiveThreads(QueuedThreadPoolInstrumenter.scala:66)\n",
       "\tat com.databricks.instrumentation.QueuedThreadPoolInstrumenter.trackActiveThreads$(QueuedThreadPoolInstrumenter.scala:63)\n",
       "\tat com.databricks.rpc.InstrumentedQueuedThreadPool.trackActiveThreads(InstrumentedQueuedThreadPool.scala:47)\n",
       "\tat com.databricks.rpc.InstrumentedQueuedThreadPool$$anon$1.run(InstrumentedQueuedThreadPool.scala:76)\n",
       "\tat org.eclipse.jetty.util.thread.QueuedThreadPool.runJob(QueuedThreadPool.java:671)\n",
       "\tat org.eclipse.jetty.util.thread.QueuedThreadPool$2.run(QueuedThreadPool.java:589)\n",
       "\t... 1 more\n"
      ]
     },
     "metadata": {
      "application/vnd.databricks.v1+output": {
       "arguments": {},
       "data": "\u001B[0;31m---------------------------------------------------------------------------\u001B[0m\n\u001B[0;31mExecutionError\u001B[0m                            Traceback (most recent call last)\nFile \u001B[0;32m<command-2465342253492961>, line 8\u001B[0m\n\u001B[1;32m      1\u001B[0m configs \u001B[38;5;241m=\u001B[39m {\u001B[38;5;124m\"\u001B[39m\u001B[38;5;124mfs.azure.account.auth.type\u001B[39m\u001B[38;5;124m\"\u001B[39m: \u001B[38;5;124m\"\u001B[39m\u001B[38;5;124mOAuth\u001B[39m\u001B[38;5;124m\"\u001B[39m,\n\u001B[1;32m      2\u001B[0m \u001B[38;5;124m\"\u001B[39m\u001B[38;5;124mfs.azure.account.oauth.provider.type\u001B[39m\u001B[38;5;124m\"\u001B[39m: \u001B[38;5;124m\"\u001B[39m\u001B[38;5;124morg.apache.hadoop.fs.azurebfs.oauth2.ClientCredsTokenProvider\u001B[39m\u001B[38;5;124m\"\u001B[39m,\n\u001B[1;32m      3\u001B[0m \u001B[38;5;124m\"\u001B[39m\u001B[38;5;124mfs.azure.account.oauth2.client.id\u001B[39m\u001B[38;5;124m\"\u001B[39m: dbutils\u001B[38;5;241m.\u001B[39msecrets\u001B[38;5;241m.\u001B[39mget(\u001B[38;5;124m'\u001B[39m\u001B[38;5;124masiangameskv_scope\u001B[39m\u001B[38;5;124m'\u001B[39m,\u001B[38;5;124m'\u001B[39m\u001B[38;5;124mapp01clientid\u001B[39m\u001B[38;5;124m'\u001B[39m), \u001B[38;5;66;03m#add client id of storage account\u001B[39;00m\n\u001B[1;32m      4\u001B[0m \u001B[38;5;124m\"\u001B[39m\u001B[38;5;124mfs.azure.account.oauth2.client.secret\u001B[39m\u001B[38;5;124m\"\u001B[39m: dbutils\u001B[38;5;241m.\u001B[39msecrets\u001B[38;5;241m.\u001B[39mget(\u001B[38;5;124m'\u001B[39m\u001B[38;5;124masiangameskv_scope\u001B[39m\u001B[38;5;124m'\u001B[39m,\u001B[38;5;124m'\u001B[39m\u001B[38;5;124msecretkey\u001B[39m\u001B[38;5;124m'\u001B[39m),\n\u001B[1;32m      5\u001B[0m \u001B[38;5;124m\"\u001B[39m\u001B[38;5;124mfs.azure.account.oauth2.client.endpoint\u001B[39m\u001B[38;5;124m\"\u001B[39m: \u001B[38;5;124m\"\u001B[39m\u001B[38;5;124mhttps://login.microsoftonline.com/\u001B[39m\u001B[38;5;124m\"\u001B[39m\u001B[38;5;241m+\u001B[39mdbutils\u001B[38;5;241m.\u001B[39msecrets\u001B[38;5;241m.\u001B[39mget(\u001B[38;5;124m'\u001B[39m\u001B[38;5;124masiangameskv_scope\u001B[39m\u001B[38;5;124m'\u001B[39m,\u001B[38;5;124m'\u001B[39m\u001B[38;5;124mapp01tenantid\u001B[39m\u001B[38;5;124m'\u001B[39m)\u001B[38;5;241m+\u001B[39m\u001B[38;5;124m\"\u001B[39m\u001B[38;5;124m/oauth2/token\u001B[39m\u001B[38;5;124m\"\u001B[39m}\n\u001B[0;32m----> 8\u001B[0m dbutils\u001B[38;5;241m.\u001B[39mfs\u001B[38;5;241m.\u001B[39mmount(\n\u001B[1;32m      9\u001B[0m source \u001B[38;5;241m=\u001B[39m \u001B[38;5;124m\"\u001B[39m\u001B[38;5;124mabfss://asiangames@asiangamesdata.dfs.core.windows.net\u001B[39m\u001B[38;5;124m\"\u001B[39m, \u001B[38;5;66;03m# contrainer@storageacc\u001B[39;00m\n\u001B[1;32m     10\u001B[0m mount_point \u001B[38;5;241m=\u001B[39m \u001B[38;5;124m\"\u001B[39m\u001B[38;5;124m/mnt/asiangames\u001B[39m\u001B[38;5;124m\"\u001B[39m,\n\u001B[1;32m     11\u001B[0m extra_configs \u001B[38;5;241m=\u001B[39m configs)\n\nFile \u001B[0;32m/databricks/python_shell/dbruntime/dbutils.py:362\u001B[0m, in \u001B[0;36mDBUtils.FSHandler.prettify_exception_message.<locals>.f_with_exception_handling\u001B[0;34m(*args, **kwargs)\u001B[0m\n\u001B[1;32m    360\u001B[0m exc\u001B[38;5;241m.\u001B[39m__context__ \u001B[38;5;241m=\u001B[39m \u001B[38;5;28;01mNone\u001B[39;00m\n\u001B[1;32m    361\u001B[0m exc\u001B[38;5;241m.\u001B[39m__cause__ \u001B[38;5;241m=\u001B[39m \u001B[38;5;28;01mNone\u001B[39;00m\n\u001B[0;32m--> 362\u001B[0m \u001B[38;5;28;01mraise\u001B[39;00m exc\n\n\u001B[0;31mExecutionError\u001B[0m: An error occurred while calling o420.mount.\n: java.rmi.RemoteException: java.lang.IllegalArgumentException: requirement failed: Directory already mounted: /mnt/asiangames; nested exception is: \n\tjava.lang.IllegalArgumentException: requirement failed: Directory already mounted: /mnt/asiangames\n\tat com.databricks.backend.daemon.data.client.DbfsClient.send0(DbfsClient.scala:135)\n\tat com.databricks.backend.daemon.data.client.DbfsClient.sendIdempotent(DbfsClient.scala:69)\n\tat com.databricks.backend.daemon.dbutils.DBUtilsCore.createOrUpdateMount(DBUtilsCore.scala:1077)\n\tat com.databricks.backend.daemon.dbutils.DBUtilsCore.$anonfun$mount$1(DBUtilsCore.scala:1103)\n\tat com.databricks.logging.UsageLogging.$anonfun$recordOperation$1(UsageLogging.scala:573)\n\tat com.databricks.logging.UsageLogging.executeThunkAndCaptureResultTags$1(UsageLogging.scala:668)\n\tat com.databricks.logging.UsageLogging.$anonfun$recordOperationWithResultTags$4(UsageLogging.scala:686)\n\tat com.databricks.logging.UsageLogging.$anonfun$withAttributionContext$1(UsageLogging.scala:426)\n\tat scala.util.DynamicVariable.withValue(DynamicVariable.scala:62)\n\tat com.databricks.logging.AttributionContext$.withValue(AttributionContext.scala:216)\n\tat com.databricks.logging.UsageLogging.withAttributionContext(UsageLogging.scala:424)\n\tat com.databricks.logging.UsageLogging.withAttributionContext$(UsageLogging.scala:418)\n\tat com.databricks.backend.daemon.dbutils.FSUtils.withAttributionContext(DBUtilsCore.scala:70)\n\tat com.databricks.logging.UsageLogging.withAttributionTags(UsageLogging.scala:472)\n\tat com.databricks.logging.UsageLogging.withAttributionTags$(UsageLogging.scala:455)\n\tat com.databricks.backend.daemon.dbutils.FSUtils.withAttributionTags(DBUtilsCore.scala:70)\n\tat com.databricks.logging.UsageLogging.recordOperationWithResultTags(UsageLogging.scala:663)\n\tat com.databricks.logging.UsageLogging.recordOperationWithResultTags$(UsageLogging.scala:582)\n\tat com.databricks.backend.daemon.dbutils.FSUtils.recordOperationWithResultTags(DBUtilsCore.scala:70)\n\tat com.databricks.logging.UsageLogging.recordOperation(UsageLogging.scala:573)\n\tat com.databricks.logging.UsageLogging.recordOperation$(UsageLogging.scala:542)\n\tat com.databricks.backend.daemon.dbutils.FSUtils.recordOperation(DBUtilsCore.scala:70)\n\tat com.databricks.backend.daemon.dbutils.FSUtils.recordDbutilsFsOp(DBUtilsCore.scala:134)\n\tat com.databricks.backend.daemon.dbutils.DBUtilsCore.mount(DBUtilsCore.scala:1097)\n\tat sun.reflect.NativeMethodAccessorImpl.invoke0(Native Method)\n\tat sun.reflect.NativeMethodAccessorImpl.invoke(NativeMethodAccessorImpl.java:62)\n\tat sun.reflect.DelegatingMethodAccessorImpl.invoke(DelegatingMethodAccessorImpl.java:43)\n\tat java.lang.reflect.Method.invoke(Method.java:498)\n\tat py4j.reflection.MethodInvoker.invoke(MethodInvoker.java:244)\n\tat py4j.reflection.ReflectionEngine.invoke(ReflectionEngine.java:397)\n\tat py4j.Gateway.invoke(Gateway.java:306)\n\tat py4j.commands.AbstractCommand.invokeMethod(AbstractCommand.java:132)\n\tat py4j.commands.CallCommand.execute(CallCommand.java:79)\n\tat py4j.ClientServerConnection.waitForCommands(ClientServerConnection.java:195)\n\tat py4j.ClientServerConnection.run(ClientServerConnection.java:115)\n\tat java.lang.Thread.run(Thread.java:750)\nCaused by: java.lang.IllegalArgumentException: requirement failed: Directory already mounted: /mnt/asiangames\n\tat scala.Predef$.require(Predef.scala:281)\n\tat com.databricks.backend.daemon.data.server.DefaultMetadataManager.$anonfun$insertMount$1(MetadataManager.scala:580)\n\tat com.databricks.backend.daemon.data.server.DefaultMetadataManager.$anonfun$modifyAndVerify$2(MetadataManager.scala:948)\n\tat scala.runtime.java8.JFunction0$mcV$sp.apply(JFunction0$mcV$sp.java:23)\n\tat com.databricks.backend.daemon.data.server.DefaultMetadataManager.withRetries(MetadataManager.scala:729)\n\tat com.databricks.backend.daemon.data.server.DefaultMetadataManager.modifyAndVerify(MetadataManager.scala:937)\n\tat com.databricks.backend.daemon.data.server.DefaultMetadataManager.insertMount(MetadataManager.scala:588)\n\tat com.databricks.backend.daemon.data.server.handler.MountHandler.receive(MountHandler.scala:120)\n\tat com.databricks.backend.daemon.data.server.session.SessionContext.$anonfun$queryHandlers$1(SessionContext.scala:54)\n\tat com.databricks.backend.daemon.data.server.session.SessionContext.$anonfun$queryHandlers$1$adapted(SessionContext.scala:53)\n\tat scala.collection.immutable.List.foreach(List.scala:431)\n\tat com.databricks.backend.daemon.data.server.session.SessionContext.queryHandlers(SessionContext.scala:53)\n\tat com.databricks.backend.daemon.data.server.DbfsServerBackend$$anonfun$receive$4.$anonfun$applyOrElse$5(DbfsServerBackend.scala:375)\n\tat com.databricks.logging.UsageLogging.$anonfun$withAttributionContext$1(UsageLogging.scala:426)\n\tat scala.util.DynamicVariable.withValue(DynamicVariable.scala:62)\n\tat com.databricks.logging.AttributionContext$.withValue(AttributionContext.scala:216)\n\tat com.databricks.logging.UsageLogging.withAttributionContext(UsageLogging.scala:424)\n\tat com.databricks.logging.UsageLogging.withAttributionContext$(UsageLogging.scala:418)\n\tat com.databricks.rpc.ServerBackend.withAttributionContext(ServerBackend.scala:22)\n\tat com.databricks.logging.UsageLogging.withAttributionTags(UsageLogging.scala:472)\n\tat com.databricks.logging.UsageLogging.withAttributionTags$(UsageLogging.scala:455)\n\tat com.databricks.rpc.ServerBackend.withAttributionTags(ServerBackend.scala:22)\n\tat com.databricks.backend.daemon.data.server.DbfsServerBackend$$anonfun$receive$4.applyOrElse(DbfsServerBackend.scala:375)\n\tat com.databricks.backend.daemon.data.server.DbfsServerBackend$$anonfun$receive$4.applyOrElse(DbfsServerBackend.scala:319)\n\tat com.databricks.rpc.ServerBackend.$anonfun$internalReceive0$2(ServerBackend.scala:174)\n\tat com.databricks.rpc.ServerBackend$$anonfun$commonReceive$1.applyOrElse(ServerBackend.scala:200)\n\tat com.databricks.rpc.ServerBackend$$anonfun$commonReceive$1.applyOrElse(ServerBackend.scala:200)\n\tat com.databricks.rpc.ServerBackend.internalReceive0(ServerBackend.scala:171)\n\tat com.databricks.rpc.ServerBackend.$anonfun$internalReceive$1(ServerBackend.scala:147)\n\tat com.databricks.logging.UsageLogging.$anonfun$recordOperation$1(UsageLogging.scala:573)\n\tat com.databricks.logging.UsageLogging.executeThunkAndCaptureResultTags$1(UsageLogging.scala:668)\n\tat com.databricks.logging.UsageLogging.$anonfun$recordOperationWithResultTags$4(UsageLogging.scala:686)\n\tat com.databricks.logging.UsageLogging.$anonfun$withAttributionContext$1(UsageLogging.scala:426)\n\tat scala.util.DynamicVariable.withValue(DynamicVariable.scala:62)\n\tat com.databricks.logging.AttributionContext$.withValue(AttributionContext.scala:216)\n\tat com.databricks.logging.UsageLogging.withAttributionContext(UsageLogging.scala:424)\n\tat com.databricks.logging.UsageLogging.withAttributionContext$(UsageLogging.scala:418)\n\tat com.databricks.rpc.ServerBackend.withAttributionContext(ServerBackend.scala:22)\n\tat com.databricks.logging.UsageLogging.withAttributionTags(UsageLogging.scala:472)\n\tat com.databricks.logging.UsageLogging.withAttributionTags$(UsageLogging.scala:455)\n\tat com.databricks.rpc.ServerBackend.withAttributionTags(ServerBackend.scala:22)\n\tat com.databricks.logging.UsageLogging.recordOperationWithResultTags(UsageLogging.scala:663)\n\tat com.databricks.logging.UsageLogging.recordOperationWithResultTags$(UsageLogging.scala:582)\n\tat com.databricks.rpc.ServerBackend.recordOperationWithResultTags(ServerBackend.scala:22)\n\tat com.databricks.logging.UsageLogging.recordOperation(UsageLogging.scala:573)\n\tat com.databricks.logging.UsageLogging.recordOperation$(UsageLogging.scala:542)\n\tat com.databricks.rpc.ServerBackend.recordOperation(ServerBackend.scala:22)\n\tat com.databricks.rpc.ServerBackend.internalReceive(ServerBackend.scala:147)\n\tat com.databricks.rpc.JettyServer$RequestManager.handleRPC(JettyServer.scala:1020)\n\tat com.databricks.rpc.JettyServer$RequestManager.handleRequestAndRespond(JettyServer.scala:941)\n\tat com.databricks.rpc.JettyServer$RequestManager.$anonfun$handleHttp$6(JettyServer.scala:545)\n\tat com.databricks.rpc.JettyServer$RequestManager.$anonfun$handleHttp$6$adapted(JettyServer.scala:514)\n\tat com.databricks.logging.activity.ActivityContextFactory$.$anonfun$withActivityInternal$4(ActivityContextFactory.scala:402)\n\tat com.databricks.logging.UsageLogging.$anonfun$withAttributionContext$1(UsageLogging.scala:426)\n\tat scala.util.DynamicVariable.withValue(DynamicVariable.scala:62)\n\tat com.databricks.logging.AttributionContext$.withValue(AttributionContext.scala:216)\n\tat com.databricks.logging.UsageLogging.withAttributionContext(UsageLogging.scala:424)\n\tat com.databricks.logging.UsageLogging.withAttributionContext$(UsageLogging.scala:418)\n\tat com.databricks.logging.activity.ActivityContextFactory$.withAttributionContext(ActivityContextFactory.scala:56)\n\tat com.databricks.logging.activity.ActivityContextFactory$.$anonfun$withActivityInternal$1(ActivityContextFactory.scala:402)\n\tat com.databricks.context.integrity.IntegrityCheckContext$ThreadLocalStorage$.withValue(IntegrityCheckContext.scala:35)\n\tat com.databricks.logging.activity.ActivityContextFactory$.withActivityInternal(ActivityContextFactory.scala:377)\n\tat com.databricks.logging.activity.ActivityContextFactory$.withServiceRequestActivity(ActivityContextFactory.scala:157)\n\tat com.databricks.rpc.JettyServer$RequestManager.handleHttp(JettyServer.scala:514)\n\tat com.databricks.rpc.JettyServer$RequestManager.doPost(JettyServer.scala:404)\n\tat javax.servlet.http.HttpServlet.service(HttpServlet.java:665)\n\tat com.databricks.rpc.HttpServletWithPatch.service(HttpServletWithPatch.scala:33)\n\tat javax.servlet.http.HttpServlet.service(HttpServlet.java:750)\n\tat org.eclipse.jetty.servlet.ServletHolder.handle(ServletHolder.java:848)\n\tat org.eclipse.jetty.servlet.ServletHandler.doHandle(ServletHandler.java:585)\n\tat org.eclipse.jetty.servlet.ServletHandler.doScope(ServletHandler.java:515)\n\tat org.eclipse.jetty.server.handler.ScopedHandler.handle(ScopedHandler.java:141)\n\tat org.eclipse.jetty.server.handler.HandlerWrapper.handle(HandlerWrapper.java:134)\n\tat org.eclipse.jetty.server.Server.handle(Server.java:539)\n\tat org.eclipse.jetty.server.HttpChannel.handle(HttpChannel.java:333)\n\tat org.eclipse.jetty.server.HttpConnection.onFillable(HttpConnection.java:251)\n\tat org.eclipse.jetty.io.AbstractConnection$ReadCallback.succeeded(AbstractConnection.java:283)\n\tat org.eclipse.jetty.io.FillInterest.fillable(FillInterest.java:108)\n\tat org.eclipse.jetty.io.SelectChannelEndPoint$2.run(SelectChannelEndPoint.java:93)\n\tat org.eclipse.jetty.util.thread.strategy.ExecuteProduceConsume.executeProduceConsume(ExecuteProduceConsume.java:303)\n\tat org.eclipse.jetty.util.thread.strategy.ExecuteProduceConsume.produceConsume(ExecuteProduceConsume.java:148)\n\tat org.eclipse.jetty.util.thread.strategy.ExecuteProduceConsume.run(ExecuteProduceConsume.java:136)\n\tat com.databricks.rpc.InstrumentedQueuedThreadPool$$anon$1.$anonfun$run$1(InstrumentedQueuedThreadPool.scala:81)\n\tat scala.runtime.java8.JFunction0$mcV$sp.apply(JFunction0$mcV$sp.java:23)\n\tat com.databricks.instrumentation.QueuedThreadPoolInstrumenter.trackActiveThreads(QueuedThreadPoolInstrumenter.scala:66)\n\tat com.databricks.instrumentation.QueuedThreadPoolInstrumenter.trackActiveThreads$(QueuedThreadPoolInstrumenter.scala:63)\n\tat com.databricks.rpc.InstrumentedQueuedThreadPool.trackActiveThreads(InstrumentedQueuedThreadPool.scala:47)\n\tat com.databricks.rpc.InstrumentedQueuedThreadPool$$anon$1.run(InstrumentedQueuedThreadPool.scala:76)\n\tat org.eclipse.jetty.util.thread.QueuedThreadPool.runJob(QueuedThreadPool.java:671)\n\tat org.eclipse.jetty.util.thread.QueuedThreadPool$2.run(QueuedThreadPool.java:589)\n\t... 1 more\n",
       "errorSummary": "java.rmi.RemoteException: java.lang.IllegalArgumentException: requirement failed: Directory already mounted: /mnt/asiangames; nested exception is: ",
       "errorTraceType": "ansi",
       "metadata": {},
       "type": "ipynbError"
      }
     },
     "output_type": "display_data"
    }
   ],
   "source": [
    "configs = {\"fs.azure.account.auth.type\": \"OAuth\",\n",
    "\"fs.azure.account.oauth.provider.type\": \"org.apache.hadoop.fs.azurebfs.oauth2.ClientCredsTokenProvider\",\n",
    "\"fs.azure.account.oauth2.client.id\": dbutils.secrets.get('asiangameskv_scope','app01clientid'), #add client id of storage account\n",
    "\"fs.azure.account.oauth2.client.secret\": dbutils.secrets.get('asiangameskv_scope','secretkey'),\n",
    "\"fs.azure.account.oauth2.client.endpoint\": \"https://login.microsoftonline.com/\"+dbutils.secrets.get('asiangameskv_scope','app01tenantid')+\"/oauth2/token\"}\n",
    "\n",
    "\n",
    "dbutils.fs.mount(\n",
    "source = \"abfss://asiangames@asiangamesdata.dfs.core.windows.net\", # contrainer@storageacc\n",
    "mount_point = \"/mnt/asiangames\",\n",
    "extra_configs = configs)"
   ]
  },
  {
   "cell_type": "code",
   "execution_count": 0,
   "metadata": {
    "application/vnd.databricks.v1+cell": {
     "cellMetadata": {
      "byteLimit": 2048000,
      "rowLimit": 10000
     },
     "inputWidgets": {},
     "nuid": "a0ce7c6e-9c1e-4263-9eb7-40b8cdaba976",
     "showTitle": false,
     "title": ""
    }
   },
   "outputs": [
    {
     "output_type": "display_data",
     "data": {
      "text/html": [
       "<style scoped>\n",
       "  .table-result-container {\n",
       "    max-height: 300px;\n",
       "    overflow: auto;\n",
       "  }\n",
       "  table, th, td {\n",
       "    border: 1px solid black;\n",
       "    border-collapse: collapse;\n",
       "  }\n",
       "  th, td {\n",
       "    padding: 5px;\n",
       "  }\n",
       "  th {\n",
       "    text-align: left;\n",
       "  }\n",
       "</style><div class='table-result-container'><table class='table-result'><thead style='background-color: white'><tr><th>path</th><th>name</th><th>size</th><th>modificationTime</th></tr></thead><tbody><tr><td>dbfs:/mnt/asiangames/rawdata/</td><td>rawdata/</td><td>0</td><td>1698009882000</td></tr><tr><td>dbfs:/mnt/asiangames/transformeddata/</td><td>transformeddata/</td><td>0</td><td>1698009892000</td></tr></tbody></table></div>"
      ]
     },
     "metadata": {
      "application/vnd.databricks.v1+output": {
       "addedWidgets": {},
       "aggData": [],
       "aggError": "",
       "aggOverflow": false,
       "aggSchema": [],
       "aggSeriesLimitReached": false,
       "aggType": "",
       "arguments": {},
       "columnCustomDisplayInfos": {},
       "data": [
        [
         "dbfs:/mnt/asiangames/rawdata/",
         "rawdata/",
         0,
         1698009882000
        ],
        [
         "dbfs:/mnt/asiangames/transformeddata/",
         "transformeddata/",
         0,
         1698009892000
        ]
       ],
       "datasetInfos": [],
       "dbfsResultPath": null,
       "isJsonSchema": true,
       "metadata": {
        "isDbfsCommandResult": false
       },
       "overflow": false,
       "plotOptions": {
        "customPlotOptions": {},
        "displayType": "table",
        "pivotAggregation": null,
        "pivotColumns": null,
        "xColumns": null,
        "yColumns": null
       },
       "removedWidgets": [],
       "schema": [
        {
         "metadata": "{}",
         "name": "path",
         "type": "\"string\""
        },
        {
         "metadata": "{}",
         "name": "name",
         "type": "\"string\""
        },
        {
         "metadata": "{}",
         "name": "size",
         "type": "\"long\""
        },
        {
         "metadata": "{}",
         "name": "modificationTime",
         "type": "\"long\""
        }
       ],
       "type": "table"
      }
     },
     "output_type": "display_data"
    }
   ],
   "source": [
    "%fs\n",
    "\n",
    "ls \"/mnt/asiangames\""
   ]
  },
  {
   "cell_type": "code",
   "execution_count": 0,
   "metadata": {
    "application/vnd.databricks.v1+cell": {
     "cellMetadata": {
      "byteLimit": 2048000,
      "rowLimit": 10000
     },
     "inputWidgets": {},
     "nuid": "0a33ccfc-3a4e-4245-9d80-dc20c1012a64",
     "showTitle": false,
     "title": ""
    }
   },
   "outputs": [
    {
     "output_type": "execute_result",
     "data": {
      "text/html": [
       "\n",
       "            <div>\n",
       "                <p><b>SparkSession - hive</b></p>\n",
       "                \n",
       "        <div>\n",
       "            <p><b>SparkContext</b></p>\n",
       "\n",
       "            <p><a href=\"/?o=4931510808642898#setting/sparkui/1022-220710-zvqp1dqv/driver-6509660893592254019\">Spark UI</a></p>\n",
       "\n",
       "            <dl>\n",
       "              <dt>Version</dt>\n",
       "                <dd><code>v3.5.0</code></dd>\n",
       "              <dt>Master</dt>\n",
       "                <dd><code>local[*, 4]</code></dd>\n",
       "              <dt>AppName</dt>\n",
       "                <dd><code>Databricks Shell</code></dd>\n",
       "            </dl>\n",
       "        </div>\n",
       "        \n",
       "            </div>\n",
       "        "
      ],
      "text/plain": [
       "<pyspark.sql.session.SparkSession at 0x7f058479ce50>"
      ]
     },
     "execution_count": 5,
     "metadata": {},
     "output_type": "execute_result"
    }
   ],
   "source": [
    "spark"
   ]
  },
  {
   "cell_type": "code",
   "execution_count": 0,
   "metadata": {
    "application/vnd.databricks.v1+cell": {
     "cellMetadata": {
      "byteLimit": 2048000,
      "rowLimit": 10000
     },
     "inputWidgets": {},
     "nuid": "27360bee-68b2-4ed2-adfa-a4c6bc60083a",
     "showTitle": false,
     "title": ""
    }
   },
   "outputs": [],
   "source": [
    "df = spark.read.format('csv').option(\"inferSchema\", \"true\").option('header','true').load('/mnt/asiangames/rawdata/asiangamestop10.csv')"
   ]
  },
  {
   "cell_type": "code",
   "execution_count": 0,
   "metadata": {
    "application/vnd.databricks.v1+cell": {
     "cellMetadata": {
      "byteLimit": 2048000,
      "rowLimit": 10000
     },
     "inputWidgets": {},
     "nuid": "4b9852c8-5598-42d8-b694-e5b76d5e60ba",
     "showTitle": false,
     "title": ""
    }
   },
   "outputs": [
    {
     "output_type": "display_data",
     "data": {
      "text/html": [
       "<style scoped>\n",
       "  .table-result-container {\n",
       "    max-height: 300px;\n",
       "    overflow: auto;\n",
       "  }\n",
       "  table, th, td {\n",
       "    border: 1px solid black;\n",
       "    border-collapse: collapse;\n",
       "  }\n",
       "  th, td {\n",
       "    padding: 5px;\n",
       "  }\n",
       "  th {\n",
       "    text-align: left;\n",
       "  }\n",
       "</style><div class='table-result-container'><table class='table-result'><thead style='background-color: white'><tr><th>Year</th><th>NOC</th><th>Gold</th><th>Silver</th><th>Bronze</th><th>Total</th></tr></thead><tbody><tr><td>1951</td><td>Japan (JPN)</td><td>24</td><td>21</td><td>15</td><td>60</td></tr><tr><td>1951</td><td>India (IND)</td><td>15</td><td>16</td><td>20</td><td>51</td></tr><tr><td>1951</td><td>Iran (IRI)</td><td>8</td><td>6</td><td>2</td><td>16</td></tr><tr><td>1951</td><td>Singapore (SGP)</td><td>5</td><td>7</td><td>2</td><td>14</td></tr><tr><td>1951</td><td>Philippines (PHI)</td><td>5</td><td>6</td><td>8</td><td>19</td></tr><tr><td>1951</td><td>Ceylon (CEY)</td><td>0</td><td>1</td><td>0</td><td>1</td></tr><tr><td>1951</td><td>Indonesia (INA)</td><td>0</td><td>0</td><td>5</td><td>5</td></tr><tr><td>1951</td><td>Burma (BIR)</td><td>0</td><td>0</td><td>3</td><td>3</td></tr><tr><td>1954</td><td>Japan (JPN)</td><td>38</td><td>36</td><td>24</td><td>98</td></tr><tr><td>1954</td><td>Philippines (PHI)</td><td>14</td><td>14</td><td>17</td><td>45</td></tr><tr><td>1954</td><td>South Korea (KOR)</td><td>8</td><td>6</td><td>5</td><td>19</td></tr><tr><td>1954</td><td>Pakistan (PAK)</td><td>5</td><td>6</td><td>2</td><td>13</td></tr><tr><td>1954</td><td>India (IND)</td><td>5</td><td>4</td><td>8</td><td>17</td></tr><tr><td>1954</td><td>Republic of China (ROC)</td><td>2</td><td>4</td><td>7</td><td>13</td></tr><tr><td>1954</td><td>Israel (ISR)</td><td>2</td><td>1</td><td>1</td><td>4</td></tr><tr><td>1954</td><td>Burma (BIR)</td><td>2</td><td>0</td><td>2</td><td>4</td></tr><tr><td>1954</td><td>Singapore (SGP)</td><td>1</td><td>4</td><td>4</td><td>9</td></tr><tr><td>1954</td><td>Ceylon (CEY)</td><td>0</td><td>1</td><td>1</td><td>2</td></tr><tr><td>1954</td><td>Afghanistan (AFG)</td><td>0</td><td>1</td><td>0</td><td>1</td></tr><tr><td>1954</td><td>Indonesia (INA)</td><td>0</td><td>0</td><td>3</td><td>3</td></tr><tr><td>1954</td><td>Hong Kong (HKG)</td><td>0</td><td>0</td><td>1</td><td>1</td></tr><tr><td>1958</td><td>Japan (JPN)</td><td>67</td><td>41</td><td>30</td><td>138</td></tr><tr><td>1958</td><td>Philippines (PHI)</td><td>8</td><td>19</td><td>21</td><td>48</td></tr><tr><td>1958</td><td>South Korea (KOR)</td><td>8</td><td>7</td><td>12</td><td>27</td></tr><tr><td>1958</td><td>Iran (IRI)</td><td>7</td><td>14</td><td>11</td><td>32</td></tr><tr><td>1958</td><td>Republic of China (ROC)</td><td>6</td><td>11</td><td>17</td><td>34</td></tr><tr><td>1958</td><td>Pakistan (PAK)</td><td>6</td><td>11</td><td>9</td><td>26</td></tr><tr><td>1958</td><td>India (IND)</td><td>5</td><td>4</td><td>4</td><td>13</td></tr><tr><td>1958</td><td>South Vietnam (VNM)</td><td>2</td><td>0</td><td>4</td><td>6</td></tr><tr><td>1958</td><td>Burma (BIR)</td><td>1</td><td>2</td><td>1</td><td>4</td></tr><tr><td>1958</td><td>Singapore (SGP)</td><td>1</td><td>1</td><td>1</td><td>3</td></tr><tr><td>1958</td><td>Ceylon (CEY)</td><td>1</td><td>0</td><td>1</td><td>2</td></tr><tr><td>1958</td><td>Thailand (THA)</td><td>0</td><td>1</td><td>3</td><td>4</td></tr><tr><td>1958</td><td>Hong Kong (HKG)</td><td>0</td><td>1</td><td>1</td><td>2</td></tr><tr><td>1958</td><td>Indonesia (INA)</td><td>0</td><td>0</td><td>6</td><td>6</td></tr><tr><td>1958</td><td>Malaya (MAL)</td><td>0</td><td>0</td><td>3</td><td>3</td></tr><tr><td>1958</td><td>Israel (ISR)</td><td>0</td><td>0</td><td>2</td><td>2</td></tr><tr><td>1962</td><td>Japan (JPN)</td><td>73</td><td>56</td><td>23</td><td>152</td></tr><tr><td>1962</td><td>Indonesia (INA)</td><td>11</td><td>12</td><td>28</td><td>51</td></tr><tr><td>1962</td><td>India (IND)</td><td>10</td><td>13</td><td>10</td><td>33</td></tr><tr><td>1962</td><td>Pakistan (PAK)</td><td>8</td><td>11</td><td>9</td><td>28</td></tr><tr><td>1962</td><td>Philippines (PHI)</td><td>7</td><td>6</td><td>24</td><td>37</td></tr><tr><td>1962</td><td>South Korea (KOR)</td><td>4</td><td>9</td><td>10</td><td>23</td></tr><tr><td>1962</td><td>Thailand (THA)</td><td>2</td><td>6</td><td>4</td><td>12</td></tr><tr><td>1962</td><td>Malaya (MAL)</td><td>2</td><td>4</td><td>9</td><td>15</td></tr><tr><td>1962</td><td>Burma (BIR)</td><td>2</td><td>1</td><td>5</td><td>8</td></tr><tr><td>1962</td><td>Singapore (SGP)</td><td>1</td><td>0</td><td>2</td><td>3</td></tr><tr><td>1962</td><td>Ceylon (CEY)</td><td>0</td><td>2</td><td>3</td><td>5</td></tr><tr><td>1962</td><td>Hong Kong (HKG)</td><td>0</td><td>2</td><td>0</td><td>2</td></tr><tr><td>1962</td><td>Afghanistan (AFG)</td><td>0</td><td>0</td><td>1</td><td>1</td></tr><tr><td>1962</td><td>Cambodia (CAM)</td><td>0</td><td>0</td><td>1</td><td>1</td></tr><tr><td>1962</td><td>South Vietnam (VNM)</td><td>0</td><td>0</td><td>1</td><td>1</td></tr><tr><td>1966</td><td>Japan (JPN)</td><td>78</td><td>53</td><td>33</td><td>164</td></tr><tr><td>1966</td><td>South Korea (KOR)</td><td>12</td><td>18</td><td>21</td><td>51</td></tr><tr><td>1966</td><td>Thailand (THA)</td><td>12</td><td>14</td><td>11</td><td>37</td></tr><tr><td>1966</td><td>Malaysia (MAS)</td><td>7</td><td>5</td><td>6</td><td>18</td></tr><tr><td>1966</td><td>India (IND)</td><td>7</td><td>3</td><td>11</td><td>21</td></tr><tr><td>1966</td><td>Iran (IRI)</td><td>6</td><td>8</td><td>17</td><td>31</td></tr><tr><td>1966</td><td>Indonesia (INA)</td><td>5</td><td>5</td><td>12</td><td>22</td></tr><tr><td>1966</td><td>Republic of China (ROC)</td><td>5</td><td>4</td><td>10</td><td>19</td></tr><tr><td>1966</td><td>Israel (ISR)</td><td>3</td><td>5</td><td>3</td><td>11</td></tr><tr><td>1966</td><td>Philippines (PHI)</td><td>2</td><td>15</td><td>25</td><td>42</td></tr><tr><td>1966</td><td>Pakistan (PAK)</td><td>2</td><td>4</td><td>2</td><td>8</td></tr><tr><td>1966</td><td>Burma (BIR)</td><td>1</td><td>0</td><td>4</td><td>5</td></tr><tr><td>1966</td><td>Singapore (SGP)</td><td>0</td><td>5</td><td>7</td><td>12</td></tr><tr><td>1966</td><td>South Vietnam (VNM)</td><td>0</td><td>1</td><td>1</td><td>2</td></tr><tr><td>1966</td><td>Ceylon (CEY)</td><td>0</td><td>0</td><td>6</td><td>6</td></tr><tr><td>1966</td><td>Hong Kong (HKG)</td><td>0</td><td>0</td><td>1</td><td>1</td></tr><tr><td>1970</td><td>Japan (JPN)</td><td>74</td><td>47</td><td>23</td><td>144</td></tr><tr><td>1970</td><td>South Korea (KOR)</td><td>18</td><td>13</td><td>23</td><td>54</td></tr><tr><td>1970</td><td>Thailand (THA)</td><td>9</td><td>17</td><td>13</td><td>39</td></tr><tr><td>1970</td><td>Iran (IRI)</td><td>9</td><td>7</td><td>7</td><td>23</td></tr><tr><td>1970</td><td>India (IND)</td><td>6</td><td>9</td><td>10</td><td>25</td></tr><tr><td>1970</td><td>Israel (ISR)</td><td>6</td><td>6</td><td>5</td><td>17</td></tr><tr><td>1970</td><td>Malaysia (MAS)</td><td>5</td><td>1</td><td>7</td><td>13</td></tr><tr><td>1970</td><td>Burma (BIR)</td><td>3</td><td>2</td><td>7</td><td>12</td></tr><tr><td>1970</td><td>Indonesia (INA)</td><td>2</td><td>5</td><td>13</td><td>20</td></tr><tr><td>1970</td><td>Ceylon (CEY)</td><td>2</td><td>2</td><td>0</td><td>4</td></tr><tr><td>1970</td><td>Philippines (PHI)</td><td>1</td><td>9</td><td>12</td><td>22</td></tr><tr><td>1970</td><td>Republic of China (ROC)</td><td>1</td><td>5</td><td>12</td><td>18</td></tr><tr><td>1970</td><td>Pakistan (PAK)</td><td>1</td><td>2</td><td>7</td><td>10</td></tr><tr><td>1970</td><td>Singapore (SGP)</td><td>0</td><td>6</td><td>9</td><td>15</td></tr><tr><td>1970</td><td>Khmer Republic (KHM)</td><td>0</td><td>2</td><td>3</td><td>5</td></tr><tr><td>1970</td><td>South Vietnam (VNM)</td><td>0</td><td>0</td><td>2</td><td>2</td></tr><tr><td>1974</td><td>Japan (JPN)</td><td>75</td><td>49</td><td>51</td><td>175</td></tr><tr><td>1974</td><td>Iran (IRI)</td><td>36</td><td>28</td><td>17</td><td>81</td></tr><tr><td>1974</td><td>China (CHN)</td><td>33</td><td>46</td><td>27</td><td>106</td></tr><tr><td>1974</td><td>South Korea (KOR)</td><td>16</td><td>26</td><td>15</td><td>57</td></tr><tr><td>1974</td><td>North Korea (PRK)</td><td>15</td><td>14</td><td>17</td><td>46</td></tr><tr><td>1974</td><td>Israel (ISR)</td><td>7</td><td>4</td><td>8</td><td>19</td></tr><tr><td>1974</td><td>India (IND)</td><td>4</td><td>12</td><td>12</td><td>28</td></tr><tr><td>1974</td><td>Thailand (THA)</td><td>4</td><td>2</td><td>8</td><td>14</td></tr><tr><td>1974</td><td>Indonesia (INA)</td><td>3</td><td>4</td><td>4</td><td>11</td></tr><tr><td>1974</td><td>Mongolia (MGL)</td><td>2</td><td>5</td><td>8</td><td>15</td></tr><tr><td>1974</td><td>Pakistan (PAK)</td><td>2</td><td>0</td><td>9</td><td>11</td></tr><tr><td>1974</td><td>Sri Lanka (SRI)</td><td>2</td><td>0</td><td>0</td><td>2</td></tr><tr><td>1974</td><td>Singapore (SGP)</td><td>1</td><td>3</td><td>7</td><td>11</td></tr><tr><td>1974</td><td>Burma (BIR)</td><td>1</td><td>2</td><td>3</td><td>6</td></tr><tr><td>1974</td><td>Iraq (IRQ)</td><td>1</td><td>0</td><td>5</td><td>6</td></tr><tr><td>1974</td><td>Philippines (PHI)</td><td>0</td><td>2</td><td>12</td><td>14</td></tr><tr><td>1974</td><td>Malaysia (MAS)</td><td>0</td><td>1</td><td>4</td><td>5</td></tr><tr><td>1974</td><td>Kuwait (KUW)</td><td>0</td><td>1</td><td>0</td><td>1</td></tr><tr><td>1974</td><td>Afghanistan (AFG)</td><td>0</td><td>0</td><td>1</td><td>1</td></tr><tr><td>1978</td><td>Japan (JPN)</td><td>70</td><td>59</td><td>49</td><td>178</td></tr><tr><td>1978</td><td>China (CHN)</td><td>51</td><td>54</td><td>46</td><td>151</td></tr><tr><td>1978</td><td>South Korea (KOR)</td><td>18</td><td>20</td><td>31</td><td>69</td></tr><tr><td>1978</td><td>North Korea (PRK)</td><td>15</td><td>13</td><td>15</td><td>43</td></tr><tr><td>1978</td><td>Thailand (THA)</td><td>11</td><td>12</td><td>19</td><td>42</td></tr><tr><td>1978</td><td>India (IND)</td><td>11</td><td>11</td><td>6</td><td>28</td></tr><tr><td>1978</td><td>Indonesia (INA)</td><td>8</td><td>7</td><td>18</td><td>33</td></tr><tr><td>1978</td><td>Pakistan (PAK)</td><td>4</td><td>4</td><td>9</td><td>17</td></tr><tr><td>1978</td><td>Philippines (PHI)</td><td>4</td><td>4</td><td>6</td><td>14</td></tr><tr><td>1978</td><td>Iraq (IRQ)</td><td>2</td><td>4</td><td>6</td><td>12</td></tr><tr><td>1978</td><td>Singapore (SGP)</td><td>2</td><td>1</td><td>4</td><td>7</td></tr><tr><td>1978</td><td>Malaysia (MAS)</td><td>2</td><td>1</td><td>3</td><td>6</td></tr><tr><td>1978</td><td>Mongolia (MGL)</td><td>1</td><td>3</td><td>5</td><td>9</td></tr><tr><td>1978</td><td>Lebanon (LBN)</td><td>1</td><td>1</td><td>0</td><td>2</td></tr><tr><td>1978</td><td>Syria (SYR)</td><td>1</td><td>0</td><td>0</td><td>1</td></tr><tr><td>1978</td><td>Burma (BIR)</td><td>0</td><td>3</td><td>3</td><td>6</td></tr><tr><td>1978</td><td>Hong Kong (HKG)</td><td>0</td><td>2</td><td>3</td><td>5</td></tr><tr><td>1978</td><td>Sri Lanka (SRI)</td><td>0</td><td>0</td><td>2</td><td>2</td></tr><tr><td>1978</td><td>Kuwait (KUW)</td><td>0</td><td>0</td><td>1</td><td>1</td></tr><tr><td>1982</td><td>China (CHN)</td><td>61</td><td>51</td><td>41</td><td>153</td></tr><tr><td>1982</td><td>Japan (JPN)</td><td>57</td><td>52</td><td>44</td><td>153</td></tr><tr><td>1982</td><td>South Korea (KOR)</td><td>28</td><td>28</td><td>37</td><td>93</td></tr><tr><td>1982</td><td>North Korea (PRK)</td><td>17</td><td>19</td><td>20</td><td>56</td></tr><tr><td>1982</td><td>India (IND)</td><td>13</td><td>19</td><td>25</td><td>57</td></tr><tr><td>1982</td><td>Indonesia (INA)</td><td>4</td><td>4</td><td>7</td><td>15</td></tr><tr><td>1982</td><td>Iran (IRI)</td><td>4</td><td>4</td><td>4</td><td>12</td></tr><tr><td>1982</td><td>Pakistan (PAK)</td><td>3</td><td>3</td><td>5</td><td>11</td></tr><tr><td>1982</td><td>Mongolia (MGL)</td><td>3</td><td>3</td><td>1</td><td>7</td></tr><tr><td>1982</td><td>Philippines (PHI)</td><td>2</td><td>3</td><td>9</td><td>14</td></tr><tr><td>1982</td><td>Iraq (IRQ)</td><td>2</td><td>3</td><td>4</td><td>9</td></tr><tr><td>1982</td><td>Thailand (THA)</td><td>1</td><td>5</td><td>4</td><td>10</td></tr><tr><td>1982</td><td>Kuwait (KUW)</td><td>1</td><td>3</td><td>3</td><td>7</td></tr><tr><td>1982</td><td>Syria (SYR)</td><td>1</td><td>1</td><td>1</td><td>3</td></tr><tr><td>1982</td><td>Malaysia (MAS)</td><td>1</td><td>0</td><td>3</td><td>4</td></tr><tr><td>1982</td><td>Singapore (SGP)</td><td>1</td><td>0</td><td>2</td><td>3</td></tr><tr><td>1982</td><td>Afghanistan (AFG)</td><td>0</td><td>1</td><td>0</td><td>1</td></tr><tr><td>1982</td><td>Lebanon (LBN)</td><td>0</td><td>1</td><td>0</td><td>1</td></tr><tr><td>1982</td><td>Bahrain (BRN)</td><td>0</td><td>0</td><td>1</td><td>1</td></tr><tr><td>1982</td><td>Hong Kong (HKG)</td><td>0</td><td>0</td><td>1</td><td>1</td></tr><tr><td>1982</td><td>Saudi Arabia (KSA)</td><td>0</td><td>0</td><td>1</td><td>1</td></tr><tr><td>1982</td><td>Qatar (QAT)</td><td>0</td><td>0</td><td>1</td><td>1</td></tr><tr><td>1982</td><td>Vietnam (VIE)</td><td>0</td><td>0</td><td>1</td><td>1</td></tr><tr><td>1986</td><td>China (CHN)</td><td>94</td><td>82</td><td>46</td><td>222</td></tr><tr><td>1986</td><td>South Korea (KOR)</td><td>93</td><td>55</td><td>76</td><td>224</td></tr><tr><td>1986</td><td>Japan (JPN)</td><td>58</td><td>76</td><td>77</td><td>211</td></tr><tr><td>1986</td><td>Iran (IRI)</td><td>6</td><td>6</td><td>10</td><td>22</td></tr><tr><td>1986</td><td>India (IND)</td><td>5</td><td>9</td><td>23</td><td>37</td></tr><tr><td>1986</td><td>Philippines (PHI)</td><td>4</td><td>5</td><td>9</td><td>18</td></tr><tr><td>1986</td><td>Thailand (THA)</td><td>3</td><td>10</td><td>13</td><td>26</td></tr><tr><td>1986</td><td>Pakistan (PAK)</td><td>2</td><td>3</td><td>4</td><td>9</td></tr><tr><td>1986</td><td>Indonesia (INA)</td><td>1</td><td>5</td><td>14</td><td>20</td></tr><tr><td>1986</td><td>Hong Kong (HKG)</td><td>1</td><td>1</td><td>3</td><td>5</td></tr><tr><td>1986</td><td>Qatar (QAT)</td><td>1</td><td>0</td><td>3</td><td>4</td></tr><tr><td>1986</td><td>Bahrain (BRN)</td><td>1</td><td>0</td><td>1</td><td>2</td></tr><tr><td>1986</td><td>Lebanon (LBN)</td><td>1</td><td>0</td><td>1</td><td>2</td></tr><tr><td>1986</td><td>Malaysia (MAS)</td><td>0</td><td>5</td><td>5</td><td>10</td></tr><tr><td>1986</td><td>Iraq (IRQ)</td><td>0</td><td>5</td><td>2</td><td>7</td></tr><tr><td>1986</td><td>Jordan (JOR)</td><td>0</td><td>3</td><td>1</td><td>4</td></tr><tr><td>1986</td><td>Kuwait (KUW)</td><td>0</td><td>1</td><td>8</td><td>9</td></tr><tr><td>1986</td><td>Singapore (SGP)</td><td>0</td><td>1</td><td>4</td><td>5</td></tr><tr><td>1986</td><td>Saudi Arabia (KSA)</td><td>0</td><td>1</td><td>0</td><td>1</td></tr><tr><td>1986</td><td>Nepal (NEP)</td><td>0</td><td>0</td><td>8</td><td>8</td></tr><tr><td>1986</td><td>Bangladesh (BAN)</td><td>0</td><td>0</td><td>1</td><td>1</td></tr><tr><td>1986</td><td>Oman (OMA)</td><td>0</td><td>0</td><td>1</td><td>1</td></tr><tr><td>1990</td><td>China (CHN)</td><td>183</td><td>107</td><td>51</td><td>341</td></tr><tr><td>1990</td><td>South Korea (KOR)</td><td>54</td><td>54</td><td>73</td><td>181</td></tr><tr><td>1990</td><td>Japan (JPN)</td><td>38</td><td>60</td><td>76</td><td>174</td></tr><tr><td>1990</td><td>North Korea (PRK)</td><td>12</td><td>31</td><td>39</td><td>82</td></tr><tr><td>1990</td><td>Iran (IRI)</td><td>4</td><td>6</td><td>8</td><td>18</td></tr><tr><td>1990</td><td>Pakistan (PAK)</td><td>4</td><td>1</td><td>7</td><td>12</td></tr><tr><td>1990</td><td>Indonesia (INA)</td><td>3</td><td>6</td><td>21</td><td>30</td></tr><tr><td>1990</td><td>Qatar (QAT)</td><td>3</td><td>2</td><td>1</td><td>6</td></tr><tr><td>1990</td><td>Thailand (THA)</td><td>2</td><td>7</td><td>8</td><td>17</td></tr><tr><td>1990</td><td>Malaysia (MAS)</td><td>2</td><td>2</td><td>4</td><td>8</td></tr><tr><td>1990</td><td>India (IND)</td><td>1</td><td>8</td><td>14</td><td>23</td></tr><tr><td>1990</td><td>Mongolia (MGL)</td><td>1</td><td>7</td><td>9</td><td>17</td></tr><tr><td>1990</td><td>Philippines (PHI)</td><td>1</td><td>2</td><td>7</td><td>10</td></tr><tr><td>1990</td><td>Syria (SYR)</td><td>1</td><td>0</td><td>2</td><td>3</td></tr><tr><td>1990</td><td>Oman (OMA)</td><td>1</td><td>0</td><td>0</td><td>1</td></tr><tr><td>1990</td><td>Chinese Taipei (TPE)</td><td>0</td><td>10</td><td>21</td><td>31</td></tr><tr><td>1990</td><td>Hong Kong (HKG)</td><td>0</td><td>2</td><td>5</td><td>7</td></tr><tr><td>1990</td><td>Sri Lanka (SRI)</td><td>0</td><td>2</td><td>1</td><td>3</td></tr><tr><td>1990</td><td>Singapore (SGP)</td><td>0</td><td>1</td><td>4</td><td>5</td></tr><tr><td>1990</td><td>Bangladesh (BAN)</td><td>0</td><td>1</td><td>0</td><td>1</td></tr><tr><td>1990</td><td>Myanmar (MYA)</td><td>0</td><td>0</td><td>2</td><td>2</td></tr><tr><td>1990</td><td>Saudi Arabia (KSA)</td><td>0</td><td>0</td><td>1</td><td>1</td></tr><tr><td>1990</td><td>Laos (LAO)</td><td>0</td><td>0</td><td>1</td><td>1</td></tr><tr><td>1990</td><td>Macau (MAC)</td><td>0</td><td>0</td><td>1</td><td>1</td></tr><tr><td>1990</td><td>Nepal (NEP)</td><td>0</td><td>0</td><td>1</td><td>1</td></tr><tr><td>1994</td><td>China (CHN)</td><td>126</td><td>83</td><td>57</td><td>266</td></tr><tr><td>1994</td><td>Japan (JPN)</td><td>64</td><td>75</td><td>79</td><td>218</td></tr><tr><td>1994</td><td>South Korea (KOR)</td><td>63</td><td>56</td><td>64</td><td>183</td></tr><tr><td>1994</td><td>Kazakhstan (KAZ)</td><td>27</td><td>25</td><td>27</td><td>79</td></tr><tr><td>1994</td><td>Uzbekistan (UZB)</td><td>11</td><td>12</td><td>19</td><td>42</td></tr><tr><td>1994</td><td>Iran (IRI)</td><td>9</td><td>9</td><td>8</td><td>26</td></tr><tr><td>1994</td><td>Chinese Taipei (TPE)</td><td>7</td><td>13</td><td>24</td><td>44</td></tr><tr><td>1994</td><td>India (IND)</td><td>4</td><td>3</td><td>16</td><td>23</td></tr><tr><td>1994</td><td>Malaysia (MAS)</td><td>4</td><td>2</td><td>13</td><td>19</td></tr><tr><td>1994</td><td>Qatar (QAT)</td><td>4</td><td>1</td><td>5</td><td>10</td></tr><tr><td>1994</td><td>Indonesia (INA)</td><td>3</td><td>12</td><td>11</td><td>26</td></tr><tr><td>1994</td><td>Thailand (THA)</td><td>3</td><td>9</td><td>14</td><td>26</td></tr><tr><td>1994</td><td>Syria (SYR)</td><td>3</td><td>3</td><td>1</td><td>7</td></tr><tr><td>1994</td><td>Philippines (PHI)</td><td>3</td><td>2</td><td>8</td><td>13</td></tr><tr><td>1994</td><td>Kuwait (KUW)</td><td>3</td><td>1</td><td>5</td><td>9</td></tr><tr><td>1994</td><td>Saudi Arabia (KSA)</td><td>1</td><td>3</td><td>5</td><td>9</td></tr><tr><td>1994</td><td>Turkmenistan (TKM)</td><td>1</td><td>3</td><td>3</td><td>7</td></tr><tr><td>1994</td><td>Mongolia (MGL)</td><td>1</td><td>2</td><td>6</td><td>9</td></tr><tr><td>1994</td><td>Vietnam (VIE)</td><td>1</td><td>2</td><td>0</td><td>3</td></tr><tr><td>1994</td><td>Singapore (SGP)</td><td>1</td><td>1</td><td>5</td><td>7</td></tr><tr><td>1994</td><td>Hong Kong (HKG)</td><td>0</td><td>6</td><td>7</td><td>13</td></tr><tr><td>1994</td><td>Pakistan (PAK)</td><td>0</td><td>4</td><td>6</td><td>10</td></tr><tr><td>1994</td><td>Kyrgyzstan (KGZ)</td><td>0</td><td>4</td><td>5</td><td>9</td></tr><tr><td>1994</td><td>Jordan (JOR)</td><td>0</td><td>2</td><td>2</td><td>4</td></tr><tr><td>1994</td><td>United Arab Emirates (UAE)</td><td>0</td><td>1</td><td>3</td><td>4</td></tr><tr><td>1994</td><td>Macau (MAC)</td><td>0</td><td>1</td><td>1</td><td>2</td></tr><tr><td>1994</td><td>Sri Lanka (SRI)</td><td>0</td><td>1</td><td>1</td><td>2</td></tr><tr><td>1994</td><td>Bangladesh (BAN)</td><td>0</td><td>1</td><td>0</td><td>1</td></tr><tr><td>1994</td><td>Brunei (BRU)</td><td>0</td><td>0</td><td>2</td><td>2</td></tr><tr><td>1994</td><td>Myanmar (MYA)</td><td>0</td><td>0</td><td>2</td><td>2</td></tr><tr><td>1994</td><td>Nepal (NEP)</td><td>0</td><td>0</td><td>2</td><td>2</td></tr><tr><td>1994</td><td>Tajikistan (TJK)</td><td>0</td><td>0</td><td>2</td><td>2</td></tr><tr><td>1998</td><td>China (CHN)</td><td>129</td><td>78</td><td>67</td><td>274</td></tr><tr><td>1998</td><td>South Korea (KOR)</td><td>65</td><td>46</td><td>53</td><td>164</td></tr><tr><td>1998</td><td>Japan (JPN)</td><td>52</td><td>61</td><td>68</td><td>181</td></tr><tr><td>1998</td><td>Thailand (THA)</td><td>24</td><td>26</td><td>40</td><td>90</td></tr><tr><td>1998</td><td>Kazakhstan (KAZ)</td><td>24</td><td>24</td><td>30</td><td>78</td></tr><tr><td>1998</td><td>Chinese Taipei (TPE)</td><td>19</td><td>17</td><td>41</td><td>77</td></tr><tr><td>1998</td><td>Iran (IRI)</td><td>10</td><td>11</td><td>13</td><td>34</td></tr><tr><td>1998</td><td>North Korea (PRK)</td><td>7</td><td>14</td><td>12</td><td>33</td></tr><tr><td>1998</td><td>India (IND)</td><td>7</td><td>11</td><td>17</td><td>35</td></tr><tr><td>1998</td><td>Uzbekistan (UZB)</td><td>6</td><td>22</td><td>12</td><td>40</td></tr><tr><td>1998</td><td>Indonesia (INA)</td><td>6</td><td>10</td><td>11</td><td>27</td></tr><tr><td>1998</td><td>Malaysia (MAS)</td><td>5</td><td>10</td><td>14</td><td>29</td></tr><tr><td>1998</td><td>Hong Kong (HKG)</td><td>5</td><td>6</td><td>6</td><td>17</td></tr><tr><td>1998</td><td>Kuwait (KUW)</td><td>4</td><td>6</td><td>4</td><td>14</td></tr><tr><td>1998</td><td>Sri Lanka (SRI)</td><td>3</td><td>0</td><td>3</td><td>6</td></tr><tr><td>1998</td><td>Pakistan (PAK)</td><td>2</td><td>4</td><td>9</td><td>15</td></tr><tr><td>1998</td><td>Singapore (SGP)</td><td>2</td><td>3</td><td>9</td><td>14</td></tr><tr><td>1998</td><td>Qatar (QAT)</td><td>2</td><td>3</td><td>3</td><td>8</td></tr><tr><td>1998</td><td>Mongolia (MGL)</td><td>2</td><td>2</td><td>10</td><td>14</td></tr><tr><td>1998</td><td>Myanmar (MYA)</td><td>1</td><td>6</td><td>4</td><td>11</td></tr><tr><td>1998</td><td>Philippines (PHI)</td><td>1</td><td>5</td><td>12</td><td>18</td></tr><tr><td>1998</td><td>Vietnam (VIE)</td><td>1</td><td>5</td><td>11</td><td>17</td></tr><tr><td>1998</td><td>Turkmenistan (TKM)</td><td>1</td><td>0</td><td>1</td><td>2</td></tr><tr><td>1998</td><td>Kyrgyzstan (KGZ)</td><td>0</td><td>3</td><td>3</td><td>6</td></tr><tr><td>1998</td><td>Jordan (JOR)</td><td>0</td><td>3</td><td>2</td><td>5</td></tr><tr><td>1998</td><td>Syria (SYR)</td><td>0</td><td>2</td><td>4</td><td>6</td></tr><tr><td>1998</td><td>Nepal (NEP)</td><td>0</td><td>1</td><td>3</td><td>4</td></tr><tr><td>1998</td><td>Macau (MAC)</td><td>0</td><td>1</td><td>0</td><td>1</td></tr><tr><td>1998</td><td>Bangladesh (BAN)</td><td>0</td><td>0</td><td>1</td><td>1</td></tr><tr><td>1998</td><td>Brunei (BRU)</td><td>0</td><td>0</td><td>1</td><td>1</td></tr><tr><td>1998</td><td>Laos (LAO)</td><td>0</td><td>0</td><td>1</td><td>1</td></tr><tr><td>1998</td><td>Oman (OMA)</td><td>0</td><td>0</td><td>1</td><td>1</td></tr><tr><td>1998</td><td>United Arab Emirates (UAE)</td><td>0</td><td>0</td><td>1</td><td>1</td></tr><tr><td>2002</td><td>China (CHN)</td><td>150</td><td>84</td><td>74</td><td>308</td></tr><tr><td>2002</td><td>South Korea (KOR)</td><td>96</td><td>80</td><td>84</td><td>260</td></tr><tr><td>2002</td><td>Japan (JPN)</td><td>44</td><td>73</td><td>72</td><td>189</td></tr><tr><td>2002</td><td>Kazakhstan (KAZ)</td><td>20</td><td>26</td><td>30</td><td>76</td></tr><tr><td>2002</td><td>Uzbekistan (UZB)</td><td>15</td><td>12</td><td>24</td><td>51</td></tr><tr><td>2002</td><td>Thailand (THA)</td><td>14</td><td>19</td><td>10</td><td>43</td></tr><tr><td>2002</td><td>India (IND)</td><td>11</td><td>12</td><td>13</td><td>36</td></tr><tr><td>2002</td><td>Chinese Taipei (TPE)</td><td>10</td><td>17</td><td>25</td><td>52</td></tr><tr><td>2002</td><td>North Korea (PRK)</td><td>9</td><td>11</td><td>13</td><td>33</td></tr><tr><td>2002</td><td>Iran (IRI)</td><td>8</td><td>14</td><td>14</td><td>36</td></tr><tr><td>2002</td><td>Saudi Arabia (KSA)</td><td>7</td><td>1</td><td>1</td><td>9</td></tr><tr><td>2002</td><td>Malaysia (MAS)</td><td>6</td><td>8</td><td>16</td><td>30</td></tr><tr><td>2002</td><td>Singapore (SGP)</td><td>5</td><td>2</td><td>10</td><td>17</td></tr><tr><td>2002</td><td>Indonesia (INA)</td><td>4</td><td>7</td><td>12</td><td>23</td></tr><tr><td>2002</td><td>Vietnam (VIE)</td><td>4</td><td>7</td><td>7</td><td>18</td></tr><tr><td>2002</td><td>Hong Kong (HKG)</td><td>4</td><td>6</td><td>11</td><td>21</td></tr><tr><td>2002</td><td>Qatar (QAT)</td><td>4</td><td>5</td><td>8</td><td>17</td></tr><tr><td>2002</td><td>Philippines (PHI)</td><td>3</td><td>7</td><td>16</td><td>26</td></tr><tr><td>2002</td><td>Bahrain (BRN)</td><td>3</td><td>2</td><td>2</td><td>7</td></tr><tr><td>2002</td><td>Kuwait (KUW)</td><td>2</td><td>1</td><td>5</td><td>8</td></tr><tr><td>2002</td><td>Sri Lanka (SRI)</td><td>2</td><td>1</td><td>3</td><td>6</td></tr><tr><td>2002</td><td>Pakistan (PAK)</td><td>1</td><td>6</td><td>6</td><td>13</td></tr><tr><td>2002</td><td>Kyrgyzstan (KGZ)</td><td>1</td><td>5</td><td>6</td><td>12</td></tr><tr><td>2002</td><td>Myanmar (MYA)</td><td>1</td><td>5</td><td>6</td><td>12</td></tr><tr><td>2002</td><td>Turkmenistan (TKM)</td><td>1</td><td>2</td><td>1</td><td>4</td></tr><tr><td>2002</td><td>Mongolia (MGL)</td><td>1</td><td>1</td><td>12</td><td>14</td></tr><tr><td>2002</td><td>Lebanon (LBN)</td><td>1</td><td>0</td><td>0</td><td>1</td></tr><tr><td>2002</td><td>Tajikistan (TJK)</td><td>0</td><td>2</td><td>4</td><td>6</td></tr><tr><td>2002</td><td>Macau (MAC)</td><td>0</td><td>2</td><td>2</td><td>4</td></tr><tr><td>2002</td><td>United Arab Emirates (UAE)</td><td>0</td><td>2</td><td>1</td><td>3</td></tr><tr><td>2002</td><td>Bangladesh (BAN)</td><td>0</td><td>1</td><td>0</td><td>1</td></tr><tr><td>2002</td><td>Nepal (NEP)</td><td>0</td><td>0</td><td>3</td><td>3</td></tr><tr><td>2002</td><td>Syria (SYR)</td><td>0</td><td>0</td><td>3</td><td>3</td></tr><tr><td>2002</td><td>Jordan (JOR)</td><td>0</td><td>0</td><td>2</td><td>2</td></tr><tr><td>2002</td><td>Laos (LAO)</td><td>0</td><td>0</td><td>2</td><td>2</td></tr><tr><td>2002</td><td>Afghanistan (AFG)</td><td>0</td><td>0</td><td>1</td><td>1</td></tr><tr><td>2002</td><td>Brunei (BRU)</td><td>0</td><td>0</td><td>1</td><td>1</td></tr><tr><td>2002</td><td>Palestine (PLE)</td><td>0</td><td>0</td><td>1</td><td>1</td></tr><tr><td>2002</td><td>Yemen (YEM)</td><td>0</td><td>0</td><td>1</td><td>1</td></tr><tr><td>2006</td><td>China (CHN)</td><td>165</td><td>88</td><td>63</td><td>316</td></tr><tr><td>2006</td><td>South Korea (KOR)</td><td>58</td><td>52</td><td>83</td><td>193</td></tr><tr><td>2006</td><td>Japan (JPN)</td><td>50</td><td>72</td><td>78</td><td>200</td></tr><tr><td>2006</td><td>Kazakhstan (KAZ)</td><td>23</td><td>20</td><td>42</td><td>85</td></tr><tr><td>2006</td><td>Thailand (THA)</td><td>13</td><td>15</td><td>26</td><td>54</td></tr><tr><td>2006</td><td>Iran (IRI)</td><td>11</td><td>15</td><td>22</td><td>48</td></tr><tr><td>2006</td><td>Uzbekistan (UZB)</td><td>11</td><td>14</td><td>15</td><td>40</td></tr><tr><td>2006</td><td>India (IND)</td><td>10</td><td>17</td><td>26</td><td>53</td></tr><tr><td>2006</td><td>Qatar (QAT)</td><td>9</td><td>12</td><td>11</td><td>32</td></tr><tr><td>2006</td><td>Chinese Taipei (TPE)</td><td>9</td><td>10</td><td>27</td><td>46</td></tr><tr><td>2006</td><td>Malaysia (MAS)</td><td>8</td><td>17</td><td>17</td><td>42</td></tr><tr><td>2006</td><td>Singapore (SGP)</td><td>8</td><td>7</td><td>12</td><td>27</td></tr><tr><td>2006</td><td>Saudi Arabia (KSA)</td><td>8</td><td>0</td><td>6</td><td>14</td></tr><tr><td>2006</td><td>Bahrain (BRN)</td><td>7</td><td>9</td><td>4</td><td>20</td></tr><tr><td>2006</td><td>Hong Kong (HKG)</td><td>6</td><td>12</td><td>11</td><td>29</td></tr><tr><td>2006</td><td>North Korea (PRK)</td><td>6</td><td>8</td><td>15</td><td>29</td></tr><tr><td>2006</td><td>Kuwait (KUW)</td><td>6</td><td>5</td><td>2</td><td>13</td></tr><tr><td>2006</td><td>Philippines (PHI)</td><td>4</td><td>6</td><td>9</td><td>19</td></tr><tr><td>2006</td><td>Vietnam (VIE)</td><td>3</td><td>13</td><td>7</td><td>23</td></tr><tr><td>2006</td><td>United Arab Emirates (UAE)</td><td>3</td><td>4</td><td>3</td><td>10</td></tr><tr><td>2006</td><td>Mongolia (MGL)</td><td>2</td><td>5</td><td>8</td><td>15</td></tr><tr><td>2006</td><td>Indonesia (INA)</td><td>2</td><td>4</td><td>14</td><td>20</td></tr><tr><td>2006</td><td>Syria (SYR)</td><td>2</td><td>2</td><td>2</td><td>6</td></tr><tr><td>2006</td><td>Tajikistan (TJK)</td><td>2</td><td>0</td><td>2</td><td>4</td></tr><tr><td>2006</td><td>Jordan (JOR)</td><td>1</td><td>3</td><td>4</td><td>8</td></tr><tr><td>2006</td><td>Lebanon (LBN)</td><td>1</td><td>0</td><td>2</td><td>3</td></tr><tr><td>2006</td><td>Myanmar (MYA)</td><td>0</td><td>4</td><td>7</td><td>11</td></tr><tr><td>2006</td><td>Kyrgyzstan (KGZ)</td><td>0</td><td>2</td><td>6</td><td>8</td></tr><tr><td>2006</td><td>Iraq (IRQ)</td><td>0</td><td>2</td><td>1</td><td>3</td></tr><tr><td>2006</td><td>Macau (MAC)</td><td>0</td><td>1</td><td>6</td><td>7</td></tr><tr><td>2006</td><td>Pakistan (PAK)</td><td>0</td><td>1</td><td>3</td><td>4</td></tr><tr><td>2006</td><td>Sri Lanka (SRI)</td><td>0</td><td>1</td><td>2</td><td>3</td></tr><tr><td>2006</td><td>Laos (LAO)</td><td>0</td><td>1</td><td>0</td><td>1</td></tr><tr><td>2006</td><td>Turkmenistan (TKM)</td><td>0</td><td>1</td><td>0</td><td>1</td></tr><tr><td>2006</td><td>Nepal (NEP)</td><td>0</td><td>0</td><td>3</td><td>3</td></tr><tr><td>2006</td><td>Afghanistan (AFG)</td><td>0</td><td>0</td><td>1</td><td>1</td></tr><tr><td>2006</td><td>Bangladesh (BAN)</td><td>0</td><td>0</td><td>1</td><td>1</td></tr><tr><td>2006</td><td>Yemen (YEM)</td><td>0</td><td>0</td><td>1</td><td>1</td></tr><tr><td>2010</td><td>China (CHN)</td><td>199</td><td>119</td><td>98</td><td>416</td></tr><tr><td>2010</td><td>South Korea (KOR)</td><td>76</td><td>65</td><td>91</td><td>232</td></tr><tr><td>2010</td><td>Japan (JPN)</td><td>48</td><td>74</td><td>94</td><td>216</td></tr><tr><td>2010</td><td>Iran (IRI)</td><td>20</td><td>15</td><td>24</td><td>59</td></tr><tr><td>2010</td><td>Kazakhstan (KAZ)</td><td>18</td><td>23</td><td>38</td><td>79</td></tr><tr><td>2010</td><td>India (IND)</td><td>14</td><td>17</td><td>34</td><td>65</td></tr><tr><td>2010</td><td>Chinese Taipei (TPE)</td><td>13</td><td>16</td><td>38</td><td>67</td></tr><tr><td>2010</td><td>Uzbekistan (UZB)</td><td>11</td><td>22</td><td>23</td><td>56</td></tr><tr><td>2010</td><td>Thailand (THA)</td><td>11</td><td>9</td><td>32</td><td>52</td></tr><tr><td>2010</td><td>Malaysia (MAS)</td><td>9</td><td>18</td><td>14</td><td>41</td></tr><tr><td>2010</td><td>Hong Kong (HKG)</td><td>8</td><td>15</td><td>17</td><td>40</td></tr><tr><td>2010</td><td>North Korea (PRK)</td><td>6</td><td>10</td><td>20</td><td>36</td></tr><tr><td>2010</td><td>Saudi Arabia (KSA)</td><td>5</td><td>3</td><td>5</td><td>13</td></tr><tr><td>2010</td><td>Bahrain (BRN)</td><td>5</td><td>0</td><td>4</td><td>9</td></tr><tr><td>2010</td><td>Indonesia (INA)</td><td>4</td><td>9</td><td>13</td><td>26</td></tr><tr><td>2010</td><td>Singapore (SGP)</td><td>4</td><td>7</td><td>6</td><td>17</td></tr><tr><td>2010</td><td>Athletes from Kuwait (IOC)</td><td>4</td><td>6</td><td>1</td><td>11</td></tr><tr><td>2010</td><td>Qatar (QAT)</td><td>4</td><td>4</td><td>7</td><td>15</td></tr><tr><td>2010</td><td>Philippines (PHI)</td><td>3</td><td>4</td><td>9</td><td>16</td></tr><tr><td>2010</td><td>Pakistan (PAK)</td><td>3</td><td>2</td><td>3</td><td>8</td></tr><tr><td>2010</td><td>Mongolia (MGL)</td><td>2</td><td>5</td><td>9</td><td>16</td></tr><tr><td>2010</td><td>Myanmar (MYA)</td><td>2</td><td>5</td><td>3</td><td>10</td></tr><tr><td>2010</td><td>Jordan (JOR)</td><td>2</td><td>2</td><td>2</td><td>6</td></tr><tr><td>2010</td><td>Vietnam (VIE)</td><td>1</td><td>17</td><td>15</td><td>33</td></tr><tr><td>2010</td><td>Kyrgyzstan (KGZ)</td><td>1</td><td>2</td><td>2</td><td>5</td></tr><tr><td>2010</td><td>Macau (MAC)</td><td>1</td><td>1</td><td>4</td><td>6</td></tr><tr><td>2010</td><td>Bangladesh (BAN)</td><td>1</td><td>1</td><td>1</td><td>3</td></tr><tr><td>2010</td><td>Tajikistan (TJK)</td><td>1</td><td>0</td><td>3</td><td>4</td></tr><tr><td>2010</td><td>Syria (SYR)</td><td>1</td><td>0</td><td>1</td><td>2</td></tr><tr><td>2010</td><td>United Arab Emirates (UAE)</td><td>0</td><td>4</td><td>1</td><td>5</td></tr><tr><td>2010</td><td>Afghanistan (AFG)</td><td>0</td><td>2</td><td>1</td><td>3</td></tr><tr><td>2010</td><td>Iraq (IRQ)</td><td>0</td><td>1</td><td>2</td><td>3</td></tr><tr><td>2010</td><td>Lebanon (LBN)</td><td>0</td><td>1</td><td>2</td><td>3</td></tr><tr><td>2010</td><td>Laos (LAO)</td><td>0</td><td>0</td><td>2</td><td>2</td></tr><tr><td>2010</td><td>Nepal (NEP)</td><td>0</td><td>0</td><td>1</td><td>1</td></tr><tr><td>2010</td><td>Oman (OMA)</td><td>0</td><td>0</td><td>1</td><td>1</td></tr><tr><td>2014</td><td>China (CHN)</td><td>151</td><td>109</td><td>85</td><td>345</td></tr><tr><td>2014</td><td>South Korea (KOR)*</td><td>79</td><td>70</td><td>79</td><td>228</td></tr><tr><td>2014</td><td>Japan (JPN)</td><td>47</td><td>77</td><td>76</td><td>200</td></tr><tr><td>2014</td><td>Kazakhstan (KAZ)</td><td>28</td><td>23</td><td>33</td><td>84</td></tr><tr><td>2014</td><td>Iran (IRI)</td><td>21</td><td>18</td><td>18</td><td>57</td></tr><tr><td>2014</td><td>Thailand (THA)</td><td>12</td><td>7</td><td>28</td><td>47</td></tr><tr><td>2014</td><td>North Korea (PRK)</td><td>11</td><td>11</td><td>14</td><td>36</td></tr><tr><td>2014</td><td>India (IND)</td><td>11</td><td>10</td><td>36</td><td>57</td></tr><tr><td>2014</td><td>Chinese Taipei (TPE)</td><td>10</td><td>18</td><td>23</td><td>51</td></tr><tr><td>2014</td><td>Qatar (QAT)</td><td>10</td><td>0</td><td>4</td><td>14</td></tr><tr><td>2014</td><td>Uzbekistan (UZB)</td><td>9</td><td>14</td><td>22</td><td>45</td></tr><tr><td>2014</td><td>Bahrain (BRN)</td><td>9</td><td>6</td><td>4</td><td>19</td></tr><tr><td>2014</td><td>Hong Kong (HKG)</td><td>6</td><td>12</td><td>25</td><td>43</td></tr><tr><td>2014</td><td>Malaysia (MAS)</td><td>5</td><td>14</td><td>14</td><td>33</td></tr><tr><td>2014</td><td>Singapore (SGP)</td><td>5</td><td>6</td><td>14</td><td>25</td></tr><tr><td>2014</td><td>Mongolia (MGL)</td><td>5</td><td>4</td><td>12</td><td>21</td></tr><tr><td>2014</td><td>Indonesia (INA)</td><td>4</td><td>5</td><td>11</td><td>20</td></tr><tr><td>2014</td><td>Kuwait (KUW)</td><td>3</td><td>5</td><td>4</td><td>12</td></tr><tr><td>2014</td><td>Saudi Arabia (KSA)</td><td>3</td><td>3</td><td>1</td><td>7</td></tr><tr><td>2014</td><td>Myanmar (MYA)</td><td>2</td><td>1</td><td>1</td><td>4</td></tr><tr><td>2014</td><td>Vietnam (VIE)</td><td>1</td><td>10</td><td>25</td><td>36</td></tr><tr><td>2014</td><td>Philippines (PHI)</td><td>1</td><td>3</td><td>11</td><td>15</td></tr><tr><td>2014</td><td>Pakistan (PAK)</td><td>1</td><td>1</td><td>3</td><td>5</td></tr><tr><td>2014</td><td>Tajikistan (TJK)</td><td>1</td><td>1</td><td>3</td><td>5</td></tr><tr><td>2014</td><td>Iraq (IRQ)</td><td>1</td><td>0</td><td>3</td><td>4</td></tr><tr><td>2014</td><td>United Arab Emirates (UAE)</td><td>1</td><td>0</td><td>3</td><td>4</td></tr><tr><td>2014</td><td>Sri Lanka (SRI)</td><td>1</td><td>0</td><td>1</td><td>2</td></tr><tr><td>2014</td><td>Cambodia (CAM)</td><td>1</td><td>0</td><td>0</td><td>1</td></tr><tr><td>2014</td><td>Macau (MAC)</td><td>0</td><td>3</td><td>4</td><td>7</td></tr><tr><td>2014</td><td>Kyrgyzstan (KGZ)</td><td>0</td><td>2</td><td>4</td><td>6</td></tr><tr><td>2014</td><td>Jordan (JOR)</td><td>0</td><td>2</td><td>2</td><td>4</td></tr><tr><td>2014</td><td>Turkmenistan (TKM)</td><td>0</td><td>1</td><td>5</td><td>6</td></tr><tr><td>2014</td><td>Bangladesh (BAN)</td><td>0</td><td>1</td><td>2</td><td>3</td></tr><tr><td>2014</td><td>Laos (LAO)</td><td>0</td><td>1</td><td>2</td><td>3</td></tr><tr><td>2014</td><td>Afghanistan (AFG)</td><td>0</td><td>1</td><td>1</td><td>2</td></tr><tr><td>2014</td><td>Lebanon (LBN)</td><td>0</td><td>1</td><td>1</td><td>2</td></tr><tr><td>2014</td><td>Nepal (NEP)</td><td>0</td><td>0</td><td>1</td><td>1</td></tr><tr><td>2018</td><td>China (CHN)</td><td>132</td><td>92</td><td>65</td><td>289</td></tr><tr><td>2018</td><td>Japan (JPN)</td><td>75</td><td>56</td><td>74</td><td>205</td></tr><tr><td>2018</td><td>South Korea (KOR)</td><td>49</td><td>58</td><td>70</td><td>177</td></tr><tr><td>2018</td><td>Indonesia (INA)*</td><td>31</td><td>24</td><td>43</td><td>98</td></tr><tr><td>2018</td><td>Uzbekistan (UZB)</td><td>21</td><td>24</td><td>25</td><td>70</td></tr><tr><td>2018</td><td>Iran (IRI)</td><td>20</td><td>20</td><td>22</td><td>62</td></tr><tr><td>2018</td><td>Chinese Taipei (TPE)</td><td>17</td><td>19</td><td>31</td><td>67</td></tr><tr><td>2018</td><td>India (IND)</td><td>15</td><td>24</td><td>30</td><td>69</td></tr><tr><td>2018</td><td>Kazakhstan (KAZ)</td><td>15</td><td>17</td><td>44</td><td>76</td></tr><tr><td>2018</td><td>North Korea (PRK)</td><td>12</td><td>12</td><td>13</td><td>37</td></tr><tr><td>2018</td><td>Bahrain (BRN)</td><td>12</td><td>7</td><td>7</td><td>26</td></tr><tr><td>2018</td><td>Thailand (THA)</td><td>11</td><td>16</td><td>46</td><td>73</td></tr><tr><td>2018</td><td>Hong Kong (HKG)</td><td>8</td><td>18</td><td>20</td><td>46</td></tr><tr><td>2018</td><td>Malaysia (MAS)</td><td>7</td><td>13</td><td>16</td><td>36</td></tr><tr><td>2018</td><td>Qatar (QAT)</td><td>6</td><td>4</td><td>3</td><td>13</td></tr><tr><td>2018</td><td>Vietnam (VIE)</td><td>4</td><td>16</td><td>18</td><td>38</td></tr><tr><td>2018</td><td>Mongolia (MGL)</td><td>4</td><td>9</td><td>11</td><td>24</td></tr><tr><td>2018</td><td>Singapore (SGP)</td><td>4</td><td>4</td><td>14</td><td>22</td></tr><tr><td>2018</td><td>Philippines (PHI)</td><td>4</td><td>2</td><td>15</td><td>21</td></tr><tr><td>2018</td><td>United Arab Emirates (UAE)</td><td>3</td><td>6</td><td>5</td><td>14</td></tr><tr><td>2018</td><td>Kuwait (KUW)</td><td>3</td><td>1</td><td>2</td><td>6</td></tr><tr><td>2018</td><td>Kyrgyzstan (KGZ)</td><td>2</td><td>6</td><td>12</td><td>20</td></tr><tr><td>2018</td><td>Jordan (JOR)</td><td>2</td><td>1</td><td>9</td><td>12</td></tr><tr><td>2018</td><td>Cambodia (CAM)</td><td>2</td><td>0</td><td>1</td><td>3</td></tr><tr><td>2018</td><td>Saudi Arabia (KSA)</td><td>1</td><td>2</td><td>3</td><td>6</td></tr><tr><td>2018</td><td>Macau (MAC)</td><td>1</td><td>2</td><td>2</td><td>5</td></tr><tr><td>2018</td><td>Iraq (IRQ)</td><td>1</td><td>2</td><td>0</td><td>3</td></tr><tr><td>2018</td><td>Korea (COR)</td><td>1</td><td>1</td><td>2</td><td>4</td></tr><tr><td>2018</td><td>Lebanon (LBN)</td><td>1</td><td>1</td><td>2</td><td>4</td></tr><tr><td>2018</td><td>Tajikistan (TJK)</td><td>0</td><td>4</td><td>3</td><td>7</td></tr><tr><td>2018</td><td>Laos (LAO)</td><td>0</td><td>2</td><td>3</td><td>5</td></tr><tr><td>2018</td><td>Turkmenistan (TKM)</td><td>0</td><td>1</td><td>2</td><td>3</td></tr><tr><td>2018</td><td>Nepal (NEP)</td><td>0</td><td>1</td><td>0</td><td>1</td></tr><tr><td>2018</td><td>Pakistan (PAK)</td><td>0</td><td>0</td><td>4</td><td>4</td></tr><tr><td>2018</td><td>Afghanistan (AFG)</td><td>0</td><td>0</td><td>2</td><td>2</td></tr><tr><td>2018</td><td>Myanmar (MYA)</td><td>0</td><td>0</td><td>2</td><td>2</td></tr><tr><td>2018</td><td>Syria (SYR)</td><td>0</td><td>0</td><td>1</td><td>1</td></tr></tbody></table></div>"
      ]
     },
     "metadata": {
      "application/vnd.databricks.v1+output": {
       "addedWidgets": {},
       "aggData": [],
       "aggError": "",
       "aggOverflow": false,
       "aggSchema": [],
       "aggSeriesLimitReached": false,
       "aggType": "",
       "arguments": {},
       "columnCustomDisplayInfos": {},
       "data": [
        [
         1951,
         "Japan (JPN)",
         24,
         21,
         15,
         60
        ],
        [
         1951,
         "India (IND)",
         15,
         16,
         20,
         51
        ],
        [
         1951,
         "Iran (IRI)",
         8,
         6,
         2,
         16
        ],
        [
         1951,
         "Singapore (SGP)",
         5,
         7,
         2,
         14
        ],
        [
         1951,
         "Philippines (PHI)",
         5,
         6,
         8,
         19
        ],
        [
         1951,
         "Ceylon (CEY)",
         0,
         1,
         0,
         1
        ],
        [
         1951,
         "Indonesia (INA)",
         0,
         0,
         5,
         5
        ],
        [
         1951,
         "Burma (BIR)",
         0,
         0,
         3,
         3
        ],
        [
         1954,
         "Japan (JPN)",
         38,
         36,
         24,
         98
        ],
        [
         1954,
         "Philippines (PHI)",
         14,
         14,
         17,
         45
        ],
        [
         1954,
         "South Korea (KOR)",
         8,
         6,
         5,
         19
        ],
        [
         1954,
         "Pakistan (PAK)",
         5,
         6,
         2,
         13
        ],
        [
         1954,
         "India (IND)",
         5,
         4,
         8,
         17
        ],
        [
         1954,
         "Republic of China (ROC)",
         2,
         4,
         7,
         13
        ],
        [
         1954,
         "Israel (ISR)",
         2,
         1,
         1,
         4
        ],
        [
         1954,
         "Burma (BIR)",
         2,
         0,
         2,
         4
        ],
        [
         1954,
         "Singapore (SGP)",
         1,
         4,
         4,
         9
        ],
        [
         1954,
         "Ceylon (CEY)",
         0,
         1,
         1,
         2
        ],
        [
         1954,
         "Afghanistan (AFG)",
         0,
         1,
         0,
         1
        ],
        [
         1954,
         "Indonesia (INA)",
         0,
         0,
         3,
         3
        ],
        [
         1954,
         "Hong Kong (HKG)",
         0,
         0,
         1,
         1
        ],
        [
         1958,
         "Japan (JPN)",
         67,
         41,
         30,
         138
        ],
        [
         1958,
         "Philippines (PHI)",
         8,
         19,
         21,
         48
        ],
        [
         1958,
         "South Korea (KOR)",
         8,
         7,
         12,
         27
        ],
        [
         1958,
         "Iran (IRI)",
         7,
         14,
         11,
         32
        ],
        [
         1958,
         "Republic of China (ROC)",
         6,
         11,
         17,
         34
        ],
        [
         1958,
         "Pakistan (PAK)",
         6,
         11,
         9,
         26
        ],
        [
         1958,
         "India (IND)",
         5,
         4,
         4,
         13
        ],
        [
         1958,
         "South Vietnam (VNM)",
         2,
         0,
         4,
         6
        ],
        [
         1958,
         "Burma (BIR)",
         1,
         2,
         1,
         4
        ],
        [
         1958,
         "Singapore (SGP)",
         1,
         1,
         1,
         3
        ],
        [
         1958,
         "Ceylon (CEY)",
         1,
         0,
         1,
         2
        ],
        [
         1958,
         "Thailand (THA)",
         0,
         1,
         3,
         4
        ],
        [
         1958,
         "Hong Kong (HKG)",
         0,
         1,
         1,
         2
        ],
        [
         1958,
         "Indonesia (INA)",
         0,
         0,
         6,
         6
        ],
        [
         1958,
         "Malaya (MAL)",
         0,
         0,
         3,
         3
        ],
        [
         1958,
         "Israel (ISR)",
         0,
         0,
         2,
         2
        ],
        [
         1962,
         "Japan (JPN)",
         73,
         56,
         23,
         152
        ],
        [
         1962,
         "Indonesia (INA)",
         11,
         12,
         28,
         51
        ],
        [
         1962,
         "India (IND)",
         10,
         13,
         10,
         33
        ],
        [
         1962,
         "Pakistan (PAK)",
         8,
         11,
         9,
         28
        ],
        [
         1962,
         "Philippines (PHI)",
         7,
         6,
         24,
         37
        ],
        [
         1962,
         "South Korea (KOR)",
         4,
         9,
         10,
         23
        ],
        [
         1962,
         "Thailand (THA)",
         2,
         6,
         4,
         12
        ],
        [
         1962,
         "Malaya (MAL)",
         2,
         4,
         9,
         15
        ],
        [
         1962,
         "Burma (BIR)",
         2,
         1,
         5,
         8
        ],
        [
         1962,
         "Singapore (SGP)",
         1,
         0,
         2,
         3
        ],
        [
         1962,
         "Ceylon (CEY)",
         0,
         2,
         3,
         5
        ],
        [
         1962,
         "Hong Kong (HKG)",
         0,
         2,
         0,
         2
        ],
        [
         1962,
         "Afghanistan (AFG)",
         0,
         0,
         1,
         1
        ],
        [
         1962,
         "Cambodia (CAM)",
         0,
         0,
         1,
         1
        ],
        [
         1962,
         "South Vietnam (VNM)",
         0,
         0,
         1,
         1
        ],
        [
         1966,
         "Japan (JPN)",
         78,
         53,
         33,
         164
        ],
        [
         1966,
         "South Korea (KOR)",
         12,
         18,
         21,
         51
        ],
        [
         1966,
         "Thailand (THA)",
         12,
         14,
         11,
         37
        ],
        [
         1966,
         "Malaysia (MAS)",
         7,
         5,
         6,
         18
        ],
        [
         1966,
         "India (IND)",
         7,
         3,
         11,
         21
        ],
        [
         1966,
         "Iran (IRI)",
         6,
         8,
         17,
         31
        ],
        [
         1966,
         "Indonesia (INA)",
         5,
         5,
         12,
         22
        ],
        [
         1966,
         "Republic of China (ROC)",
         5,
         4,
         10,
         19
        ],
        [
         1966,
         "Israel (ISR)",
         3,
         5,
         3,
         11
        ],
        [
         1966,
         "Philippines (PHI)",
         2,
         15,
         25,
         42
        ],
        [
         1966,
         "Pakistan (PAK)",
         2,
         4,
         2,
         8
        ],
        [
         1966,
         "Burma (BIR)",
         1,
         0,
         4,
         5
        ],
        [
         1966,
         "Singapore (SGP)",
         0,
         5,
         7,
         12
        ],
        [
         1966,
         "South Vietnam (VNM)",
         0,
         1,
         1,
         2
        ],
        [
         1966,
         "Ceylon (CEY)",
         0,
         0,
         6,
         6
        ],
        [
         1966,
         "Hong Kong (HKG)",
         0,
         0,
         1,
         1
        ],
        [
         1970,
         "Japan (JPN)",
         74,
         47,
         23,
         144
        ],
        [
         1970,
         "South Korea (KOR)",
         18,
         13,
         23,
         54
        ],
        [
         1970,
         "Thailand (THA)",
         9,
         17,
         13,
         39
        ],
        [
         1970,
         "Iran (IRI)",
         9,
         7,
         7,
         23
        ],
        [
         1970,
         "India (IND)",
         6,
         9,
         10,
         25
        ],
        [
         1970,
         "Israel (ISR)",
         6,
         6,
         5,
         17
        ],
        [
         1970,
         "Malaysia (MAS)",
         5,
         1,
         7,
         13
        ],
        [
         1970,
         "Burma (BIR)",
         3,
         2,
         7,
         12
        ],
        [
         1970,
         "Indonesia (INA)",
         2,
         5,
         13,
         20
        ],
        [
         1970,
         "Ceylon (CEY)",
         2,
         2,
         0,
         4
        ],
        [
         1970,
         "Philippines (PHI)",
         1,
         9,
         12,
         22
        ],
        [
         1970,
         "Republic of China (ROC)",
         1,
         5,
         12,
         18
        ],
        [
         1970,
         "Pakistan (PAK)",
         1,
         2,
         7,
         10
        ],
        [
         1970,
         "Singapore (SGP)",
         0,
         6,
         9,
         15
        ],
        [
         1970,
         "Khmer Republic (KHM)",
         0,
         2,
         3,
         5
        ],
        [
         1970,
         "South Vietnam (VNM)",
         0,
         0,
         2,
         2
        ],
        [
         1974,
         "Japan (JPN)",
         75,
         49,
         51,
         175
        ],
        [
         1974,
         "Iran (IRI)",
         36,
         28,
         17,
         81
        ],
        [
         1974,
         "China (CHN)",
         33,
         46,
         27,
         106
        ],
        [
         1974,
         "South Korea (KOR)",
         16,
         26,
         15,
         57
        ],
        [
         1974,
         "North Korea (PRK)",
         15,
         14,
         17,
         46
        ],
        [
         1974,
         "Israel (ISR)",
         7,
         4,
         8,
         19
        ],
        [
         1974,
         "India (IND)",
         4,
         12,
         12,
         28
        ],
        [
         1974,
         "Thailand (THA)",
         4,
         2,
         8,
         14
        ],
        [
         1974,
         "Indonesia (INA)",
         3,
         4,
         4,
         11
        ],
        [
         1974,
         "Mongolia (MGL)",
         2,
         5,
         8,
         15
        ],
        [
         1974,
         "Pakistan (PAK)",
         2,
         0,
         9,
         11
        ],
        [
         1974,
         "Sri Lanka (SRI)",
         2,
         0,
         0,
         2
        ],
        [
         1974,
         "Singapore (SGP)",
         1,
         3,
         7,
         11
        ],
        [
         1974,
         "Burma (BIR)",
         1,
         2,
         3,
         6
        ],
        [
         1974,
         "Iraq (IRQ)",
         1,
         0,
         5,
         6
        ],
        [
         1974,
         "Philippines (PHI)",
         0,
         2,
         12,
         14
        ],
        [
         1974,
         "Malaysia (MAS)",
         0,
         1,
         4,
         5
        ],
        [
         1974,
         "Kuwait (KUW)",
         0,
         1,
         0,
         1
        ],
        [
         1974,
         "Afghanistan (AFG)",
         0,
         0,
         1,
         1
        ],
        [
         1978,
         "Japan (JPN)",
         70,
         59,
         49,
         178
        ],
        [
         1978,
         "China (CHN)",
         51,
         54,
         46,
         151
        ],
        [
         1978,
         "South Korea (KOR)",
         18,
         20,
         31,
         69
        ],
        [
         1978,
         "North Korea (PRK)",
         15,
         13,
         15,
         43
        ],
        [
         1978,
         "Thailand (THA)",
         11,
         12,
         19,
         42
        ],
        [
         1978,
         "India (IND)",
         11,
         11,
         6,
         28
        ],
        [
         1978,
         "Indonesia (INA)",
         8,
         7,
         18,
         33
        ],
        [
         1978,
         "Pakistan (PAK)",
         4,
         4,
         9,
         17
        ],
        [
         1978,
         "Philippines (PHI)",
         4,
         4,
         6,
         14
        ],
        [
         1978,
         "Iraq (IRQ)",
         2,
         4,
         6,
         12
        ],
        [
         1978,
         "Singapore (SGP)",
         2,
         1,
         4,
         7
        ],
        [
         1978,
         "Malaysia (MAS)",
         2,
         1,
         3,
         6
        ],
        [
         1978,
         "Mongolia (MGL)",
         1,
         3,
         5,
         9
        ],
        [
         1978,
         "Lebanon (LBN)",
         1,
         1,
         0,
         2
        ],
        [
         1978,
         "Syria (SYR)",
         1,
         0,
         0,
         1
        ],
        [
         1978,
         "Burma (BIR)",
         0,
         3,
         3,
         6
        ],
        [
         1978,
         "Hong Kong (HKG)",
         0,
         2,
         3,
         5
        ],
        [
         1978,
         "Sri Lanka (SRI)",
         0,
         0,
         2,
         2
        ],
        [
         1978,
         "Kuwait (KUW)",
         0,
         0,
         1,
         1
        ],
        [
         1982,
         "China (CHN)",
         61,
         51,
         41,
         153
        ],
        [
         1982,
         "Japan (JPN)",
         57,
         52,
         44,
         153
        ],
        [
         1982,
         "South Korea (KOR)",
         28,
         28,
         37,
         93
        ],
        [
         1982,
         "North Korea (PRK)",
         17,
         19,
         20,
         56
        ],
        [
         1982,
         "India (IND)",
         13,
         19,
         25,
         57
        ],
        [
         1982,
         "Indonesia (INA)",
         4,
         4,
         7,
         15
        ],
        [
         1982,
         "Iran (IRI)",
         4,
         4,
         4,
         12
        ],
        [
         1982,
         "Pakistan (PAK)",
         3,
         3,
         5,
         11
        ],
        [
         1982,
         "Mongolia (MGL)",
         3,
         3,
         1,
         7
        ],
        [
         1982,
         "Philippines (PHI)",
         2,
         3,
         9,
         14
        ],
        [
         1982,
         "Iraq (IRQ)",
         2,
         3,
         4,
         9
        ],
        [
         1982,
         "Thailand (THA)",
         1,
         5,
         4,
         10
        ],
        [
         1982,
         "Kuwait (KUW)",
         1,
         3,
         3,
         7
        ],
        [
         1982,
         "Syria (SYR)",
         1,
         1,
         1,
         3
        ],
        [
         1982,
         "Malaysia (MAS)",
         1,
         0,
         3,
         4
        ],
        [
         1982,
         "Singapore (SGP)",
         1,
         0,
         2,
         3
        ],
        [
         1982,
         "Afghanistan (AFG)",
         0,
         1,
         0,
         1
        ],
        [
         1982,
         "Lebanon (LBN)",
         0,
         1,
         0,
         1
        ],
        [
         1982,
         "Bahrain (BRN)",
         0,
         0,
         1,
         1
        ],
        [
         1982,
         "Hong Kong (HKG)",
         0,
         0,
         1,
         1
        ],
        [
         1982,
         "Saudi Arabia (KSA)",
         0,
         0,
         1,
         1
        ],
        [
         1982,
         "Qatar (QAT)",
         0,
         0,
         1,
         1
        ],
        [
         1982,
         "Vietnam (VIE)",
         0,
         0,
         1,
         1
        ],
        [
         1986,
         "China (CHN)",
         94,
         82,
         46,
         222
        ],
        [
         1986,
         "South Korea (KOR)",
         93,
         55,
         76,
         224
        ],
        [
         1986,
         "Japan (JPN)",
         58,
         76,
         77,
         211
        ],
        [
         1986,
         "Iran (IRI)",
         6,
         6,
         10,
         22
        ],
        [
         1986,
         "India (IND)",
         5,
         9,
         23,
         37
        ],
        [
         1986,
         "Philippines (PHI)",
         4,
         5,
         9,
         18
        ],
        [
         1986,
         "Thailand (THA)",
         3,
         10,
         13,
         26
        ],
        [
         1986,
         "Pakistan (PAK)",
         2,
         3,
         4,
         9
        ],
        [
         1986,
         "Indonesia (INA)",
         1,
         5,
         14,
         20
        ],
        [
         1986,
         "Hong Kong (HKG)",
         1,
         1,
         3,
         5
        ],
        [
         1986,
         "Qatar (QAT)",
         1,
         0,
         3,
         4
        ],
        [
         1986,
         "Bahrain (BRN)",
         1,
         0,
         1,
         2
        ],
        [
         1986,
         "Lebanon (LBN)",
         1,
         0,
         1,
         2
        ],
        [
         1986,
         "Malaysia (MAS)",
         0,
         5,
         5,
         10
        ],
        [
         1986,
         "Iraq (IRQ)",
         0,
         5,
         2,
         7
        ],
        [
         1986,
         "Jordan (JOR)",
         0,
         3,
         1,
         4
        ],
        [
         1986,
         "Kuwait (KUW)",
         0,
         1,
         8,
         9
        ],
        [
         1986,
         "Singapore (SGP)",
         0,
         1,
         4,
         5
        ],
        [
         1986,
         "Saudi Arabia (KSA)",
         0,
         1,
         0,
         1
        ],
        [
         1986,
         "Nepal (NEP)",
         0,
         0,
         8,
         8
        ],
        [
         1986,
         "Bangladesh (BAN)",
         0,
         0,
         1,
         1
        ],
        [
         1986,
         "Oman (OMA)",
         0,
         0,
         1,
         1
        ],
        [
         1990,
         "China (CHN)",
         183,
         107,
         51,
         341
        ],
        [
         1990,
         "South Korea (KOR)",
         54,
         54,
         73,
         181
        ],
        [
         1990,
         "Japan (JPN)",
         38,
         60,
         76,
         174
        ],
        [
         1990,
         "North Korea (PRK)",
         12,
         31,
         39,
         82
        ],
        [
         1990,
         "Iran (IRI)",
         4,
         6,
         8,
         18
        ],
        [
         1990,
         "Pakistan (PAK)",
         4,
         1,
         7,
         12
        ],
        [
         1990,
         "Indonesia (INA)",
         3,
         6,
         21,
         30
        ],
        [
         1990,
         "Qatar (QAT)",
         3,
         2,
         1,
         6
        ],
        [
         1990,
         "Thailand (THA)",
         2,
         7,
         8,
         17
        ],
        [
         1990,
         "Malaysia (MAS)",
         2,
         2,
         4,
         8
        ],
        [
         1990,
         "India (IND)",
         1,
         8,
         14,
         23
        ],
        [
         1990,
         "Mongolia (MGL)",
         1,
         7,
         9,
         17
        ],
        [
         1990,
         "Philippines (PHI)",
         1,
         2,
         7,
         10
        ],
        [
         1990,
         "Syria (SYR)",
         1,
         0,
         2,
         3
        ],
        [
         1990,
         "Oman (OMA)",
         1,
         0,
         0,
         1
        ],
        [
         1990,
         "Chinese Taipei (TPE)",
         0,
         10,
         21,
         31
        ],
        [
         1990,
         "Hong Kong (HKG)",
         0,
         2,
         5,
         7
        ],
        [
         1990,
         "Sri Lanka (SRI)",
         0,
         2,
         1,
         3
        ],
        [
         1990,
         "Singapore (SGP)",
         0,
         1,
         4,
         5
        ],
        [
         1990,
         "Bangladesh (BAN)",
         0,
         1,
         0,
         1
        ],
        [
         1990,
         "Myanmar (MYA)",
         0,
         0,
         2,
         2
        ],
        [
         1990,
         "Saudi Arabia (KSA)",
         0,
         0,
         1,
         1
        ],
        [
         1990,
         "Laos (LAO)",
         0,
         0,
         1,
         1
        ],
        [
         1990,
         "Macau (MAC)",
         0,
         0,
         1,
         1
        ],
        [
         1990,
         "Nepal (NEP)",
         0,
         0,
         1,
         1
        ],
        [
         1994,
         "China (CHN)",
         126,
         83,
         57,
         266
        ],
        [
         1994,
         "Japan (JPN)",
         64,
         75,
         79,
         218
        ],
        [
         1994,
         "South Korea (KOR)",
         63,
         56,
         64,
         183
        ],
        [
         1994,
         "Kazakhstan (KAZ)",
         27,
         25,
         27,
         79
        ],
        [
         1994,
         "Uzbekistan (UZB)",
         11,
         12,
         19,
         42
        ],
        [
         1994,
         "Iran (IRI)",
         9,
         9,
         8,
         26
        ],
        [
         1994,
         "Chinese Taipei (TPE)",
         7,
         13,
         24,
         44
        ],
        [
         1994,
         "India (IND)",
         4,
         3,
         16,
         23
        ],
        [
         1994,
         "Malaysia (MAS)",
         4,
         2,
         13,
         19
        ],
        [
         1994,
         "Qatar (QAT)",
         4,
         1,
         5,
         10
        ],
        [
         1994,
         "Indonesia (INA)",
         3,
         12,
         11,
         26
        ],
        [
         1994,
         "Thailand (THA)",
         3,
         9,
         14,
         26
        ],
        [
         1994,
         "Syria (SYR)",
         3,
         3,
         1,
         7
        ],
        [
         1994,
         "Philippines (PHI)",
         3,
         2,
         8,
         13
        ],
        [
         1994,
         "Kuwait (KUW)",
         3,
         1,
         5,
         9
        ],
        [
         1994,
         "Saudi Arabia (KSA)",
         1,
         3,
         5,
         9
        ],
        [
         1994,
         "Turkmenistan (TKM)",
         1,
         3,
         3,
         7
        ],
        [
         1994,
         "Mongolia (MGL)",
         1,
         2,
         6,
         9
        ],
        [
         1994,
         "Vietnam (VIE)",
         1,
         2,
         0,
         3
        ],
        [
         1994,
         "Singapore (SGP)",
         1,
         1,
         5,
         7
        ],
        [
         1994,
         "Hong Kong (HKG)",
         0,
         6,
         7,
         13
        ],
        [
         1994,
         "Pakistan (PAK)",
         0,
         4,
         6,
         10
        ],
        [
         1994,
         "Kyrgyzstan (KGZ)",
         0,
         4,
         5,
         9
        ],
        [
         1994,
         "Jordan (JOR)",
         0,
         2,
         2,
         4
        ],
        [
         1994,
         "United Arab Emirates (UAE)",
         0,
         1,
         3,
         4
        ],
        [
         1994,
         "Macau (MAC)",
         0,
         1,
         1,
         2
        ],
        [
         1994,
         "Sri Lanka (SRI)",
         0,
         1,
         1,
         2
        ],
        [
         1994,
         "Bangladesh (BAN)",
         0,
         1,
         0,
         1
        ],
        [
         1994,
         "Brunei (BRU)",
         0,
         0,
         2,
         2
        ],
        [
         1994,
         "Myanmar (MYA)",
         0,
         0,
         2,
         2
        ],
        [
         1994,
         "Nepal (NEP)",
         0,
         0,
         2,
         2
        ],
        [
         1994,
         "Tajikistan (TJK)",
         0,
         0,
         2,
         2
        ],
        [
         1998,
         "China (CHN)",
         129,
         78,
         67,
         274
        ],
        [
         1998,
         "South Korea (KOR)",
         65,
         46,
         53,
         164
        ],
        [
         1998,
         "Japan (JPN)",
         52,
         61,
         68,
         181
        ],
        [
         1998,
         "Thailand (THA)",
         24,
         26,
         40,
         90
        ],
        [
         1998,
         "Kazakhstan (KAZ)",
         24,
         24,
         30,
         78
        ],
        [
         1998,
         "Chinese Taipei (TPE)",
         19,
         17,
         41,
         77
        ],
        [
         1998,
         "Iran (IRI)",
         10,
         11,
         13,
         34
        ],
        [
         1998,
         "North Korea (PRK)",
         7,
         14,
         12,
         33
        ],
        [
         1998,
         "India (IND)",
         7,
         11,
         17,
         35
        ],
        [
         1998,
         "Uzbekistan (UZB)",
         6,
         22,
         12,
         40
        ],
        [
         1998,
         "Indonesia (INA)",
         6,
         10,
         11,
         27
        ],
        [
         1998,
         "Malaysia (MAS)",
         5,
         10,
         14,
         29
        ],
        [
         1998,
         "Hong Kong (HKG)",
         5,
         6,
         6,
         17
        ],
        [
         1998,
         "Kuwait (KUW)",
         4,
         6,
         4,
         14
        ],
        [
         1998,
         "Sri Lanka (SRI)",
         3,
         0,
         3,
         6
        ],
        [
         1998,
         "Pakistan (PAK)",
         2,
         4,
         9,
         15
        ],
        [
         1998,
         "Singapore (SGP)",
         2,
         3,
         9,
         14
        ],
        [
         1998,
         "Qatar (QAT)",
         2,
         3,
         3,
         8
        ],
        [
         1998,
         "Mongolia (MGL)",
         2,
         2,
         10,
         14
        ],
        [
         1998,
         "Myanmar (MYA)",
         1,
         6,
         4,
         11
        ],
        [
         1998,
         "Philippines (PHI)",
         1,
         5,
         12,
         18
        ],
        [
         1998,
         "Vietnam (VIE)",
         1,
         5,
         11,
         17
        ],
        [
         1998,
         "Turkmenistan (TKM)",
         1,
         0,
         1,
         2
        ],
        [
         1998,
         "Kyrgyzstan (KGZ)",
         0,
         3,
         3,
         6
        ],
        [
         1998,
         "Jordan (JOR)",
         0,
         3,
         2,
         5
        ],
        [
         1998,
         "Syria (SYR)",
         0,
         2,
         4,
         6
        ],
        [
         1998,
         "Nepal (NEP)",
         0,
         1,
         3,
         4
        ],
        [
         1998,
         "Macau (MAC)",
         0,
         1,
         0,
         1
        ],
        [
         1998,
         "Bangladesh (BAN)",
         0,
         0,
         1,
         1
        ],
        [
         1998,
         "Brunei (BRU)",
         0,
         0,
         1,
         1
        ],
        [
         1998,
         "Laos (LAO)",
         0,
         0,
         1,
         1
        ],
        [
         1998,
         "Oman (OMA)",
         0,
         0,
         1,
         1
        ],
        [
         1998,
         "United Arab Emirates (UAE)",
         0,
         0,
         1,
         1
        ],
        [
         2002,
         "China (CHN)",
         150,
         84,
         74,
         308
        ],
        [
         2002,
         "South Korea (KOR)",
         96,
         80,
         84,
         260
        ],
        [
         2002,
         "Japan (JPN)",
         44,
         73,
         72,
         189
        ],
        [
         2002,
         "Kazakhstan (KAZ)",
         20,
         26,
         30,
         76
        ],
        [
         2002,
         "Uzbekistan (UZB)",
         15,
         12,
         24,
         51
        ],
        [
         2002,
         "Thailand (THA)",
         14,
         19,
         10,
         43
        ],
        [
         2002,
         "India (IND)",
         11,
         12,
         13,
         36
        ],
        [
         2002,
         "Chinese Taipei (TPE)",
         10,
         17,
         25,
         52
        ],
        [
         2002,
         "North Korea (PRK)",
         9,
         11,
         13,
         33
        ],
        [
         2002,
         "Iran (IRI)",
         8,
         14,
         14,
         36
        ],
        [
         2002,
         "Saudi Arabia (KSA)",
         7,
         1,
         1,
         9
        ],
        [
         2002,
         "Malaysia (MAS)",
         6,
         8,
         16,
         30
        ],
        [
         2002,
         "Singapore (SGP)",
         5,
         2,
         10,
         17
        ],
        [
         2002,
         "Indonesia (INA)",
         4,
         7,
         12,
         23
        ],
        [
         2002,
         "Vietnam (VIE)",
         4,
         7,
         7,
         18
        ],
        [
         2002,
         "Hong Kong (HKG)",
         4,
         6,
         11,
         21
        ],
        [
         2002,
         "Qatar (QAT)",
         4,
         5,
         8,
         17
        ],
        [
         2002,
         "Philippines (PHI)",
         3,
         7,
         16,
         26
        ],
        [
         2002,
         "Bahrain (BRN)",
         3,
         2,
         2,
         7
        ],
        [
         2002,
         "Kuwait (KUW)",
         2,
         1,
         5,
         8
        ],
        [
         2002,
         "Sri Lanka (SRI)",
         2,
         1,
         3,
         6
        ],
        [
         2002,
         "Pakistan (PAK)",
         1,
         6,
         6,
         13
        ],
        [
         2002,
         "Kyrgyzstan (KGZ)",
         1,
         5,
         6,
         12
        ],
        [
         2002,
         "Myanmar (MYA)",
         1,
         5,
         6,
         12
        ],
        [
         2002,
         "Turkmenistan (TKM)",
         1,
         2,
         1,
         4
        ],
        [
         2002,
         "Mongolia (MGL)",
         1,
         1,
         12,
         14
        ],
        [
         2002,
         "Lebanon (LBN)",
         1,
         0,
         0,
         1
        ],
        [
         2002,
         "Tajikistan (TJK)",
         0,
         2,
         4,
         6
        ],
        [
         2002,
         "Macau (MAC)",
         0,
         2,
         2,
         4
        ],
        [
         2002,
         "United Arab Emirates (UAE)",
         0,
         2,
         1,
         3
        ],
        [
         2002,
         "Bangladesh (BAN)",
         0,
         1,
         0,
         1
        ],
        [
         2002,
         "Nepal (NEP)",
         0,
         0,
         3,
         3
        ],
        [
         2002,
         "Syria (SYR)",
         0,
         0,
         3,
         3
        ],
        [
         2002,
         "Jordan (JOR)",
         0,
         0,
         2,
         2
        ],
        [
         2002,
         "Laos (LAO)",
         0,
         0,
         2,
         2
        ],
        [
         2002,
         "Afghanistan (AFG)",
         0,
         0,
         1,
         1
        ],
        [
         2002,
         "Brunei (BRU)",
         0,
         0,
         1,
         1
        ],
        [
         2002,
         "Palestine (PLE)",
         0,
         0,
         1,
         1
        ],
        [
         2002,
         "Yemen (YEM)",
         0,
         0,
         1,
         1
        ],
        [
         2006,
         "China (CHN)",
         165,
         88,
         63,
         316
        ],
        [
         2006,
         "South Korea (KOR)",
         58,
         52,
         83,
         193
        ],
        [
         2006,
         "Japan (JPN)",
         50,
         72,
         78,
         200
        ],
        [
         2006,
         "Kazakhstan (KAZ)",
         23,
         20,
         42,
         85
        ],
        [
         2006,
         "Thailand (THA)",
         13,
         15,
         26,
         54
        ],
        [
         2006,
         "Iran (IRI)",
         11,
         15,
         22,
         48
        ],
        [
         2006,
         "Uzbekistan (UZB)",
         11,
         14,
         15,
         40
        ],
        [
         2006,
         "India (IND)",
         10,
         17,
         26,
         53
        ],
        [
         2006,
         "Qatar (QAT)",
         9,
         12,
         11,
         32
        ],
        [
         2006,
         "Chinese Taipei (TPE)",
         9,
         10,
         27,
         46
        ],
        [
         2006,
         "Malaysia (MAS)",
         8,
         17,
         17,
         42
        ],
        [
         2006,
         "Singapore (SGP)",
         8,
         7,
         12,
         27
        ],
        [
         2006,
         "Saudi Arabia (KSA)",
         8,
         0,
         6,
         14
        ],
        [
         2006,
         "Bahrain (BRN)",
         7,
         9,
         4,
         20
        ],
        [
         2006,
         "Hong Kong (HKG)",
         6,
         12,
         11,
         29
        ],
        [
         2006,
         "North Korea (PRK)",
         6,
         8,
         15,
         29
        ],
        [
         2006,
         "Kuwait (KUW)",
         6,
         5,
         2,
         13
        ],
        [
         2006,
         "Philippines (PHI)",
         4,
         6,
         9,
         19
        ],
        [
         2006,
         "Vietnam (VIE)",
         3,
         13,
         7,
         23
        ],
        [
         2006,
         "United Arab Emirates (UAE)",
         3,
         4,
         3,
         10
        ],
        [
         2006,
         "Mongolia (MGL)",
         2,
         5,
         8,
         15
        ],
        [
         2006,
         "Indonesia (INA)",
         2,
         4,
         14,
         20
        ],
        [
         2006,
         "Syria (SYR)",
         2,
         2,
         2,
         6
        ],
        [
         2006,
         "Tajikistan (TJK)",
         2,
         0,
         2,
         4
        ],
        [
         2006,
         "Jordan (JOR)",
         1,
         3,
         4,
         8
        ],
        [
         2006,
         "Lebanon (LBN)",
         1,
         0,
         2,
         3
        ],
        [
         2006,
         "Myanmar (MYA)",
         0,
         4,
         7,
         11
        ],
        [
         2006,
         "Kyrgyzstan (KGZ)",
         0,
         2,
         6,
         8
        ],
        [
         2006,
         "Iraq (IRQ)",
         0,
         2,
         1,
         3
        ],
        [
         2006,
         "Macau (MAC)",
         0,
         1,
         6,
         7
        ],
        [
         2006,
         "Pakistan (PAK)",
         0,
         1,
         3,
         4
        ],
        [
         2006,
         "Sri Lanka (SRI)",
         0,
         1,
         2,
         3
        ],
        [
         2006,
         "Laos (LAO)",
         0,
         1,
         0,
         1
        ],
        [
         2006,
         "Turkmenistan (TKM)",
         0,
         1,
         0,
         1
        ],
        [
         2006,
         "Nepal (NEP)",
         0,
         0,
         3,
         3
        ],
        [
         2006,
         "Afghanistan (AFG)",
         0,
         0,
         1,
         1
        ],
        [
         2006,
         "Bangladesh (BAN)",
         0,
         0,
         1,
         1
        ],
        [
         2006,
         "Yemen (YEM)",
         0,
         0,
         1,
         1
        ],
        [
         2010,
         "China (CHN)",
         199,
         119,
         98,
         416
        ],
        [
         2010,
         "South Korea (KOR)",
         76,
         65,
         91,
         232
        ],
        [
         2010,
         "Japan (JPN)",
         48,
         74,
         94,
         216
        ],
        [
         2010,
         "Iran (IRI)",
         20,
         15,
         24,
         59
        ],
        [
         2010,
         "Kazakhstan (KAZ)",
         18,
         23,
         38,
         79
        ],
        [
         2010,
         "India (IND)",
         14,
         17,
         34,
         65
        ],
        [
         2010,
         "Chinese Taipei (TPE)",
         13,
         16,
         38,
         67
        ],
        [
         2010,
         "Uzbekistan (UZB)",
         11,
         22,
         23,
         56
        ],
        [
         2010,
         "Thailand (THA)",
         11,
         9,
         32,
         52
        ],
        [
         2010,
         "Malaysia (MAS)",
         9,
         18,
         14,
         41
        ],
        [
         2010,
         "Hong Kong (HKG)",
         8,
         15,
         17,
         40
        ],
        [
         2010,
         "North Korea (PRK)",
         6,
         10,
         20,
         36
        ],
        [
         2010,
         "Saudi Arabia (KSA)",
         5,
         3,
         5,
         13
        ],
        [
         2010,
         "Bahrain (BRN)",
         5,
         0,
         4,
         9
        ],
        [
         2010,
         "Indonesia (INA)",
         4,
         9,
         13,
         26
        ],
        [
         2010,
         "Singapore (SGP)",
         4,
         7,
         6,
         17
        ],
        [
         2010,
         "Athletes from Kuwait (IOC)",
         4,
         6,
         1,
         11
        ],
        [
         2010,
         "Qatar (QAT)",
         4,
         4,
         7,
         15
        ],
        [
         2010,
         "Philippines (PHI)",
         3,
         4,
         9,
         16
        ],
        [
         2010,
         "Pakistan (PAK)",
         3,
         2,
         3,
         8
        ],
        [
         2010,
         "Mongolia (MGL)",
         2,
         5,
         9,
         16
        ],
        [
         2010,
         "Myanmar (MYA)",
         2,
         5,
         3,
         10
        ],
        [
         2010,
         "Jordan (JOR)",
         2,
         2,
         2,
         6
        ],
        [
         2010,
         "Vietnam (VIE)",
         1,
         17,
         15,
         33
        ],
        [
         2010,
         "Kyrgyzstan (KGZ)",
         1,
         2,
         2,
         5
        ],
        [
         2010,
         "Macau (MAC)",
         1,
         1,
         4,
         6
        ],
        [
         2010,
         "Bangladesh (BAN)",
         1,
         1,
         1,
         3
        ],
        [
         2010,
         "Tajikistan (TJK)",
         1,
         0,
         3,
         4
        ],
        [
         2010,
         "Syria (SYR)",
         1,
         0,
         1,
         2
        ],
        [
         2010,
         "United Arab Emirates (UAE)",
         0,
         4,
         1,
         5
        ],
        [
         2010,
         "Afghanistan (AFG)",
         0,
         2,
         1,
         3
        ],
        [
         2010,
         "Iraq (IRQ)",
         0,
         1,
         2,
         3
        ],
        [
         2010,
         "Lebanon (LBN)",
         0,
         1,
         2,
         3
        ],
        [
         2010,
         "Laos (LAO)",
         0,
         0,
         2,
         2
        ],
        [
         2010,
         "Nepal (NEP)",
         0,
         0,
         1,
         1
        ],
        [
         2010,
         "Oman (OMA)",
         0,
         0,
         1,
         1
        ],
        [
         2014,
         "China (CHN)",
         151,
         109,
         85,
         345
        ],
        [
         2014,
         "South Korea (KOR)*",
         79,
         70,
         79,
         228
        ],
        [
         2014,
         "Japan (JPN)",
         47,
         77,
         76,
         200
        ],
        [
         2014,
         "Kazakhstan (KAZ)",
         28,
         23,
         33,
         84
        ],
        [
         2014,
         "Iran (IRI)",
         21,
         18,
         18,
         57
        ],
        [
         2014,
         "Thailand (THA)",
         12,
         7,
         28,
         47
        ],
        [
         2014,
         "North Korea (PRK)",
         11,
         11,
         14,
         36
        ],
        [
         2014,
         "India (IND)",
         11,
         10,
         36,
         57
        ],
        [
         2014,
         "Chinese Taipei (TPE)",
         10,
         18,
         23,
         51
        ],
        [
         2014,
         "Qatar (QAT)",
         10,
         0,
         4,
         14
        ],
        [
         2014,
         "Uzbekistan (UZB)",
         9,
         14,
         22,
         45
        ],
        [
         2014,
         "Bahrain (BRN)",
         9,
         6,
         4,
         19
        ],
        [
         2014,
         "Hong Kong (HKG)",
         6,
         12,
         25,
         43
        ],
        [
         2014,
         "Malaysia (MAS)",
         5,
         14,
         14,
         33
        ],
        [
         2014,
         "Singapore (SGP)",
         5,
         6,
         14,
         25
        ],
        [
         2014,
         "Mongolia (MGL)",
         5,
         4,
         12,
         21
        ],
        [
         2014,
         "Indonesia (INA)",
         4,
         5,
         11,
         20
        ],
        [
         2014,
         "Kuwait (KUW)",
         3,
         5,
         4,
         12
        ],
        [
         2014,
         "Saudi Arabia (KSA)",
         3,
         3,
         1,
         7
        ],
        [
         2014,
         "Myanmar (MYA)",
         2,
         1,
         1,
         4
        ],
        [
         2014,
         "Vietnam (VIE)",
         1,
         10,
         25,
         36
        ],
        [
         2014,
         "Philippines (PHI)",
         1,
         3,
         11,
         15
        ],
        [
         2014,
         "Pakistan (PAK)",
         1,
         1,
         3,
         5
        ],
        [
         2014,
         "Tajikistan (TJK)",
         1,
         1,
         3,
         5
        ],
        [
         2014,
         "Iraq (IRQ)",
         1,
         0,
         3,
         4
        ],
        [
         2014,
         "United Arab Emirates (UAE)",
         1,
         0,
         3,
         4
        ],
        [
         2014,
         "Sri Lanka (SRI)",
         1,
         0,
         1,
         2
        ],
        [
         2014,
         "Cambodia (CAM)",
         1,
         0,
         0,
         1
        ],
        [
         2014,
         "Macau (MAC)",
         0,
         3,
         4,
         7
        ],
        [
         2014,
         "Kyrgyzstan (KGZ)",
         0,
         2,
         4,
         6
        ],
        [
         2014,
         "Jordan (JOR)",
         0,
         2,
         2,
         4
        ],
        [
         2014,
         "Turkmenistan (TKM)",
         0,
         1,
         5,
         6
        ],
        [
         2014,
         "Bangladesh (BAN)",
         0,
         1,
         2,
         3
        ],
        [
         2014,
         "Laos (LAO)",
         0,
         1,
         2,
         3
        ],
        [
         2014,
         "Afghanistan (AFG)",
         0,
         1,
         1,
         2
        ],
        [
         2014,
         "Lebanon (LBN)",
         0,
         1,
         1,
         2
        ],
        [
         2014,
         "Nepal (NEP)",
         0,
         0,
         1,
         1
        ],
        [
         2018,
         "China (CHN)",
         132,
         92,
         65,
         289
        ],
        [
         2018,
         "Japan (JPN)",
         75,
         56,
         74,
         205
        ],
        [
         2018,
         "South Korea (KOR)",
         49,
         58,
         70,
         177
        ],
        [
         2018,
         "Indonesia (INA)*",
         31,
         24,
         43,
         98
        ],
        [
         2018,
         "Uzbekistan (UZB)",
         21,
         24,
         25,
         70
        ],
        [
         2018,
         "Iran (IRI)",
         20,
         20,
         22,
         62
        ],
        [
         2018,
         "Chinese Taipei (TPE)",
         17,
         19,
         31,
         67
        ],
        [
         2018,
         "India (IND)",
         15,
         24,
         30,
         69
        ],
        [
         2018,
         "Kazakhstan (KAZ)",
         15,
         17,
         44,
         76
        ],
        [
         2018,
         "North Korea (PRK)",
         12,
         12,
         13,
         37
        ],
        [
         2018,
         "Bahrain (BRN)",
         12,
         7,
         7,
         26
        ],
        [
         2018,
         "Thailand (THA)",
         11,
         16,
         46,
         73
        ],
        [
         2018,
         "Hong Kong (HKG)",
         8,
         18,
         20,
         46
        ],
        [
         2018,
         "Malaysia (MAS)",
         7,
         13,
         16,
         36
        ],
        [
         2018,
         "Qatar (QAT)",
         6,
         4,
         3,
         13
        ],
        [
         2018,
         "Vietnam (VIE)",
         4,
         16,
         18,
         38
        ],
        [
         2018,
         "Mongolia (MGL)",
         4,
         9,
         11,
         24
        ],
        [
         2018,
         "Singapore (SGP)",
         4,
         4,
         14,
         22
        ],
        [
         2018,
         "Philippines (PHI)",
         4,
         2,
         15,
         21
        ],
        [
         2018,
         "United Arab Emirates (UAE)",
         3,
         6,
         5,
         14
        ],
        [
         2018,
         "Kuwait (KUW)",
         3,
         1,
         2,
         6
        ],
        [
         2018,
         "Kyrgyzstan (KGZ)",
         2,
         6,
         12,
         20
        ],
        [
         2018,
         "Jordan (JOR)",
         2,
         1,
         9,
         12
        ],
        [
         2018,
         "Cambodia (CAM)",
         2,
         0,
         1,
         3
        ],
        [
         2018,
         "Saudi Arabia (KSA)",
         1,
         2,
         3,
         6
        ],
        [
         2018,
         "Macau (MAC)",
         1,
         2,
         2,
         5
        ],
        [
         2018,
         "Iraq (IRQ)",
         1,
         2,
         0,
         3
        ],
        [
         2018,
         "Korea (COR)",
         1,
         1,
         2,
         4
        ],
        [
         2018,
         "Lebanon (LBN)",
         1,
         1,
         2,
         4
        ],
        [
         2018,
         "Tajikistan (TJK)",
         0,
         4,
         3,
         7
        ],
        [
         2018,
         "Laos (LAO)",
         0,
         2,
         3,
         5
        ],
        [
         2018,
         "Turkmenistan (TKM)",
         0,
         1,
         2,
         3
        ],
        [
         2018,
         "Nepal (NEP)",
         0,
         1,
         0,
         1
        ],
        [
         2018,
         "Pakistan (PAK)",
         0,
         0,
         4,
         4
        ],
        [
         2018,
         "Afghanistan (AFG)",
         0,
         0,
         2,
         2
        ],
        [
         2018,
         "Myanmar (MYA)",
         0,
         0,
         2,
         2
        ],
        [
         2018,
         "Syria (SYR)",
         0,
         0,
         1,
         1
        ]
       ],
       "datasetInfos": [],
       "dbfsResultPath": null,
       "isJsonSchema": true,
       "metadata": {},
       "overflow": false,
       "plotOptions": {
        "customPlotOptions": {},
        "displayType": "table",
        "pivotAggregation": null,
        "pivotColumns": null,
        "xColumns": null,
        "yColumns": null
       },
       "removedWidgets": [],
       "schema": [
        {
         "metadata": "{}",
         "name": "Year",
         "type": "\"integer\""
        },
        {
         "metadata": "{}",
         "name": "NOC",
         "type": "\"string\""
        },
        {
         "metadata": "{}",
         "name": "Gold",
         "type": "\"integer\""
        },
        {
         "metadata": "{}",
         "name": "Silver",
         "type": "\"integer\""
        },
        {
         "metadata": "{}",
         "name": "Bronze",
         "type": "\"integer\""
        },
        {
         "metadata": "{}",
         "name": "Total",
         "type": "\"integer\""
        }
       ],
       "type": "table"
      }
     },
     "output_type": "display_data"
    }
   ],
   "source": [
    "display(df)"
   ]
  },
  {
   "cell_type": "code",
   "execution_count": 0,
   "metadata": {
    "application/vnd.databricks.v1+cell": {
     "cellMetadata": {
      "byteLimit": 2048000,
      "rowLimit": 10000
     },
     "inputWidgets": {},
     "nuid": "c4903fdd-f6c9-4cea-a614-d92bc9505c56",
     "showTitle": false,
     "title": ""
    }
   },
   "outputs": [],
   "source": [
    "#Writing the data in ADLS\n",
    "df.write.mode('overwrite').parquet('/mnt/asiangames/transformeddata/factasiangames')"
   ]
  },
  {
   "cell_type": "code",
   "execution_count": 0,
   "metadata": {
    "application/vnd.databricks.v1+cell": {
     "cellMetadata": {
      "byteLimit": 2048000,
      "implicitDf": true,
      "rowLimit": 10000
     },
     "inputWidgets": {},
     "nuid": "4567a2e7-f725-4b3a-9954-1ccd9e3f43bc",
     "showTitle": false,
     "title": ""
    }
   },
   "outputs": [
    {
     "output_type": "display_data",
     "data": {
      "text/html": [
       "<style scoped>\n",
       "  .table-result-container {\n",
       "    max-height: 300px;\n",
       "    overflow: auto;\n",
       "  }\n",
       "  table, th, td {\n",
       "    border: 1px solid black;\n",
       "    border-collapse: collapse;\n",
       "  }\n",
       "  th, td {\n",
       "    padding: 5px;\n",
       "  }\n",
       "  th {\n",
       "    text-align: left;\n",
       "  }\n",
       "</style><div class='table-result-container'><table class='table-result'><thead style='background-color: white'><tr></tr></thead><tbody></tbody></table></div>"
      ]
     },
     "metadata": {
      "application/vnd.databricks.v1+output": {
       "addedWidgets": {},
       "aggData": [],
       "aggError": "",
       "aggOverflow": false,
       "aggSchema": [],
       "aggSeriesLimitReached": false,
       "aggType": "",
       "arguments": {},
       "columnCustomDisplayInfos": {},
       "data": [],
       "datasetInfos": [],
       "dbfsResultPath": null,
       "isJsonSchema": true,
       "metadata": {
        "dataframeName": null
       },
       "overflow": false,
       "plotOptions": {
        "customPlotOptions": {},
        "displayType": "table",
        "pivotAggregation": null,
        "pivotColumns": null,
        "xColumns": null,
        "yColumns": null
       },
       "removedWidgets": [],
       "schema": [],
       "type": "table"
      }
     },
     "output_type": "display_data"
    }
   ],
   "source": [
    "%sql\n",
    "\n",
    "CREATE DATABASE IF NOT EXISTS asiangames_transformeddata;"
   ]
  },
  {
   "cell_type": "code",
   "execution_count": 0,
   "metadata": {
    "application/vnd.databricks.v1+cell": {
     "cellMetadata": {
      "byteLimit": 2048000,
      "implicitDf": true,
      "rowLimit": 10000
     },
     "inputWidgets": {},
     "nuid": "a011196f-3601-455e-8c44-0fccddadba69",
     "showTitle": false,
     "title": ""
    }
   },
   "outputs": [
    {
     "output_type": "display_data",
     "data": {
      "text/html": [
       "<style scoped>\n",
       "  .table-result-container {\n",
       "    max-height: 300px;\n",
       "    overflow: auto;\n",
       "  }\n",
       "  table, th, td {\n",
       "    border: 1px solid black;\n",
       "    border-collapse: collapse;\n",
       "  }\n",
       "  th, td {\n",
       "    padding: 5px;\n",
       "  }\n",
       "  th {\n",
       "    text-align: left;\n",
       "  }\n",
       "</style><div class='table-result-container'><table class='table-result'><thead style='background-color: white'><tr></tr></thead><tbody></tbody></table></div>"
      ]
     },
     "metadata": {
      "application/vnd.databricks.v1+output": {
       "addedWidgets": {},
       "aggData": [],
       "aggError": "",
       "aggOverflow": false,
       "aggSchema": [],
       "aggSeriesLimitReached": false,
       "aggType": "",
       "arguments": {},
       "columnCustomDisplayInfos": {},
       "data": [],
       "datasetInfos": [],
       "dbfsResultPath": null,
       "isJsonSchema": true,
       "metadata": {
        "dataframeName": null
       },
       "overflow": false,
       "plotOptions": {
        "customPlotOptions": {},
        "displayType": "table",
        "pivotAggregation": null,
        "pivotColumns": null,
        "xColumns": null,
        "yColumns": null
       },
       "removedWidgets": [],
       "schema": [],
       "type": "table"
      }
     },
     "output_type": "display_data"
    }
   ],
   "source": [
    "%sql\n",
    "\n",
    "DROP TABLE IF EXISTS asiangames_transformeddata.tx_factasiangames;\n",
    "CREATE TABLE IF NOT EXISTS asiangames_transformeddata.tx_factasiangames(\n",
    "Year int,\n",
    "NOC string,\n",
    "Gold int,\n",
    "Silver int,\n",
    "Bronze int,\n",
    "Total int\n",
    ")\n",
    "USING PARQUET\n",
    "LOCATION '/mnt/asiangames/transformeddata/factasiangames';"
   ]
  },
  {
   "cell_type": "code",
   "execution_count": 0,
   "metadata": {
    "application/vnd.databricks.v1+cell": {
     "cellMetadata": {
      "byteLimit": 2048000,
      "implicitDf": true,
      "rowLimit": 10000
     },
     "inputWidgets": {},
     "nuid": "f937ed3a-e8af-4b44-9eeb-7b802ed5070d",
     "showTitle": false,
     "title": ""
    }
   },
   "outputs": [
    {
     "output_type": "display_data",
     "data": {
      "text/html": [
       "<style scoped>\n",
       "  .table-result-container {\n",
       "    max-height: 300px;\n",
       "    overflow: auto;\n",
       "  }\n",
       "  table, th, td {\n",
       "    border: 1px solid black;\n",
       "    border-collapse: collapse;\n",
       "  }\n",
       "  th, td {\n",
       "    padding: 5px;\n",
       "  }\n",
       "  th {\n",
       "    text-align: left;\n",
       "  }\n",
       "</style><div class='table-result-container'><table class='table-result'><thead style='background-color: white'><tr><th>Year</th><th>NOC</th><th>Gold</th><th>Silver</th><th>Bronze</th><th>Total</th></tr></thead><tbody><tr><td>1951</td><td>Japan (JPN)</td><td>24</td><td>21</td><td>15</td><td>60</td></tr><tr><td>1951</td><td>India (IND)</td><td>15</td><td>16</td><td>20</td><td>51</td></tr><tr><td>1951</td><td>Iran (IRI)</td><td>8</td><td>6</td><td>2</td><td>16</td></tr><tr><td>1951</td><td>Singapore (SGP)</td><td>5</td><td>7</td><td>2</td><td>14</td></tr><tr><td>1951</td><td>Philippines (PHI)</td><td>5</td><td>6</td><td>8</td><td>19</td></tr><tr><td>1951</td><td>Ceylon (CEY)</td><td>0</td><td>1</td><td>0</td><td>1</td></tr><tr><td>1951</td><td>Indonesia (INA)</td><td>0</td><td>0</td><td>5</td><td>5</td></tr><tr><td>1951</td><td>Burma (BIR)</td><td>0</td><td>0</td><td>3</td><td>3</td></tr><tr><td>1954</td><td>Japan (JPN)</td><td>38</td><td>36</td><td>24</td><td>98</td></tr><tr><td>1954</td><td>Philippines (PHI)</td><td>14</td><td>14</td><td>17</td><td>45</td></tr><tr><td>1954</td><td>South Korea (KOR)</td><td>8</td><td>6</td><td>5</td><td>19</td></tr><tr><td>1954</td><td>Pakistan (PAK)</td><td>5</td><td>6</td><td>2</td><td>13</td></tr><tr><td>1954</td><td>India (IND)</td><td>5</td><td>4</td><td>8</td><td>17</td></tr><tr><td>1954</td><td>Republic of China (ROC)</td><td>2</td><td>4</td><td>7</td><td>13</td></tr><tr><td>1954</td><td>Israel (ISR)</td><td>2</td><td>1</td><td>1</td><td>4</td></tr><tr><td>1954</td><td>Burma (BIR)</td><td>2</td><td>0</td><td>2</td><td>4</td></tr><tr><td>1954</td><td>Singapore (SGP)</td><td>1</td><td>4</td><td>4</td><td>9</td></tr><tr><td>1954</td><td>Ceylon (CEY)</td><td>0</td><td>1</td><td>1</td><td>2</td></tr><tr><td>1954</td><td>Afghanistan (AFG)</td><td>0</td><td>1</td><td>0</td><td>1</td></tr><tr><td>1954</td><td>Indonesia (INA)</td><td>0</td><td>0</td><td>3</td><td>3</td></tr><tr><td>1954</td><td>Hong Kong (HKG)</td><td>0</td><td>0</td><td>1</td><td>1</td></tr><tr><td>1958</td><td>Japan (JPN)</td><td>67</td><td>41</td><td>30</td><td>138</td></tr><tr><td>1958</td><td>Philippines (PHI)</td><td>8</td><td>19</td><td>21</td><td>48</td></tr><tr><td>1958</td><td>South Korea (KOR)</td><td>8</td><td>7</td><td>12</td><td>27</td></tr><tr><td>1958</td><td>Iran (IRI)</td><td>7</td><td>14</td><td>11</td><td>32</td></tr><tr><td>1958</td><td>Republic of China (ROC)</td><td>6</td><td>11</td><td>17</td><td>34</td></tr><tr><td>1958</td><td>Pakistan (PAK)</td><td>6</td><td>11</td><td>9</td><td>26</td></tr><tr><td>1958</td><td>India (IND)</td><td>5</td><td>4</td><td>4</td><td>13</td></tr><tr><td>1958</td><td>South Vietnam (VNM)</td><td>2</td><td>0</td><td>4</td><td>6</td></tr><tr><td>1958</td><td>Burma (BIR)</td><td>1</td><td>2</td><td>1</td><td>4</td></tr><tr><td>1958</td><td>Singapore (SGP)</td><td>1</td><td>1</td><td>1</td><td>3</td></tr><tr><td>1958</td><td>Ceylon (CEY)</td><td>1</td><td>0</td><td>1</td><td>2</td></tr><tr><td>1958</td><td>Thailand (THA)</td><td>0</td><td>1</td><td>3</td><td>4</td></tr><tr><td>1958</td><td>Hong Kong (HKG)</td><td>0</td><td>1</td><td>1</td><td>2</td></tr><tr><td>1958</td><td>Indonesia (INA)</td><td>0</td><td>0</td><td>6</td><td>6</td></tr><tr><td>1958</td><td>Malaya (MAL)</td><td>0</td><td>0</td><td>3</td><td>3</td></tr><tr><td>1958</td><td>Israel (ISR)</td><td>0</td><td>0</td><td>2</td><td>2</td></tr><tr><td>1962</td><td>Japan (JPN)</td><td>73</td><td>56</td><td>23</td><td>152</td></tr><tr><td>1962</td><td>Indonesia (INA)</td><td>11</td><td>12</td><td>28</td><td>51</td></tr><tr><td>1962</td><td>India (IND)</td><td>10</td><td>13</td><td>10</td><td>33</td></tr><tr><td>1962</td><td>Pakistan (PAK)</td><td>8</td><td>11</td><td>9</td><td>28</td></tr><tr><td>1962</td><td>Philippines (PHI)</td><td>7</td><td>6</td><td>24</td><td>37</td></tr><tr><td>1962</td><td>South Korea (KOR)</td><td>4</td><td>9</td><td>10</td><td>23</td></tr><tr><td>1962</td><td>Thailand (THA)</td><td>2</td><td>6</td><td>4</td><td>12</td></tr><tr><td>1962</td><td>Malaya (MAL)</td><td>2</td><td>4</td><td>9</td><td>15</td></tr><tr><td>1962</td><td>Burma (BIR)</td><td>2</td><td>1</td><td>5</td><td>8</td></tr><tr><td>1962</td><td>Singapore (SGP)</td><td>1</td><td>0</td><td>2</td><td>3</td></tr><tr><td>1962</td><td>Ceylon (CEY)</td><td>0</td><td>2</td><td>3</td><td>5</td></tr><tr><td>1962</td><td>Hong Kong (HKG)</td><td>0</td><td>2</td><td>0</td><td>2</td></tr><tr><td>1962</td><td>Afghanistan (AFG)</td><td>0</td><td>0</td><td>1</td><td>1</td></tr><tr><td>1962</td><td>Cambodia (CAM)</td><td>0</td><td>0</td><td>1</td><td>1</td></tr><tr><td>1962</td><td>South Vietnam (VNM)</td><td>0</td><td>0</td><td>1</td><td>1</td></tr><tr><td>1966</td><td>Japan (JPN)</td><td>78</td><td>53</td><td>33</td><td>164</td></tr><tr><td>1966</td><td>South Korea (KOR)</td><td>12</td><td>18</td><td>21</td><td>51</td></tr><tr><td>1966</td><td>Thailand (THA)</td><td>12</td><td>14</td><td>11</td><td>37</td></tr><tr><td>1966</td><td>Malaysia (MAS)</td><td>7</td><td>5</td><td>6</td><td>18</td></tr><tr><td>1966</td><td>India (IND)</td><td>7</td><td>3</td><td>11</td><td>21</td></tr><tr><td>1966</td><td>Iran (IRI)</td><td>6</td><td>8</td><td>17</td><td>31</td></tr><tr><td>1966</td><td>Indonesia (INA)</td><td>5</td><td>5</td><td>12</td><td>22</td></tr><tr><td>1966</td><td>Republic of China (ROC)</td><td>5</td><td>4</td><td>10</td><td>19</td></tr><tr><td>1966</td><td>Israel (ISR)</td><td>3</td><td>5</td><td>3</td><td>11</td></tr><tr><td>1966</td><td>Philippines (PHI)</td><td>2</td><td>15</td><td>25</td><td>42</td></tr><tr><td>1966</td><td>Pakistan (PAK)</td><td>2</td><td>4</td><td>2</td><td>8</td></tr><tr><td>1966</td><td>Burma (BIR)</td><td>1</td><td>0</td><td>4</td><td>5</td></tr><tr><td>1966</td><td>Singapore (SGP)</td><td>0</td><td>5</td><td>7</td><td>12</td></tr><tr><td>1966</td><td>South Vietnam (VNM)</td><td>0</td><td>1</td><td>1</td><td>2</td></tr><tr><td>1966</td><td>Ceylon (CEY)</td><td>0</td><td>0</td><td>6</td><td>6</td></tr><tr><td>1966</td><td>Hong Kong (HKG)</td><td>0</td><td>0</td><td>1</td><td>1</td></tr><tr><td>1970</td><td>Japan (JPN)</td><td>74</td><td>47</td><td>23</td><td>144</td></tr><tr><td>1970</td><td>South Korea (KOR)</td><td>18</td><td>13</td><td>23</td><td>54</td></tr><tr><td>1970</td><td>Thailand (THA)</td><td>9</td><td>17</td><td>13</td><td>39</td></tr><tr><td>1970</td><td>Iran (IRI)</td><td>9</td><td>7</td><td>7</td><td>23</td></tr><tr><td>1970</td><td>India (IND)</td><td>6</td><td>9</td><td>10</td><td>25</td></tr><tr><td>1970</td><td>Israel (ISR)</td><td>6</td><td>6</td><td>5</td><td>17</td></tr><tr><td>1970</td><td>Malaysia (MAS)</td><td>5</td><td>1</td><td>7</td><td>13</td></tr><tr><td>1970</td><td>Burma (BIR)</td><td>3</td><td>2</td><td>7</td><td>12</td></tr><tr><td>1970</td><td>Indonesia (INA)</td><td>2</td><td>5</td><td>13</td><td>20</td></tr><tr><td>1970</td><td>Ceylon (CEY)</td><td>2</td><td>2</td><td>0</td><td>4</td></tr><tr><td>1970</td><td>Philippines (PHI)</td><td>1</td><td>9</td><td>12</td><td>22</td></tr><tr><td>1970</td><td>Republic of China (ROC)</td><td>1</td><td>5</td><td>12</td><td>18</td></tr><tr><td>1970</td><td>Pakistan (PAK)</td><td>1</td><td>2</td><td>7</td><td>10</td></tr><tr><td>1970</td><td>Singapore (SGP)</td><td>0</td><td>6</td><td>9</td><td>15</td></tr><tr><td>1970</td><td>Khmer Republic (KHM)</td><td>0</td><td>2</td><td>3</td><td>5</td></tr><tr><td>1970</td><td>South Vietnam (VNM)</td><td>0</td><td>0</td><td>2</td><td>2</td></tr><tr><td>1974</td><td>Japan (JPN)</td><td>75</td><td>49</td><td>51</td><td>175</td></tr><tr><td>1974</td><td>Iran (IRI)</td><td>36</td><td>28</td><td>17</td><td>81</td></tr><tr><td>1974</td><td>China (CHN)</td><td>33</td><td>46</td><td>27</td><td>106</td></tr><tr><td>1974</td><td>South Korea (KOR)</td><td>16</td><td>26</td><td>15</td><td>57</td></tr><tr><td>1974</td><td>North Korea (PRK)</td><td>15</td><td>14</td><td>17</td><td>46</td></tr><tr><td>1974</td><td>Israel (ISR)</td><td>7</td><td>4</td><td>8</td><td>19</td></tr><tr><td>1974</td><td>India (IND)</td><td>4</td><td>12</td><td>12</td><td>28</td></tr><tr><td>1974</td><td>Thailand (THA)</td><td>4</td><td>2</td><td>8</td><td>14</td></tr><tr><td>1974</td><td>Indonesia (INA)</td><td>3</td><td>4</td><td>4</td><td>11</td></tr><tr><td>1974</td><td>Mongolia (MGL)</td><td>2</td><td>5</td><td>8</td><td>15</td></tr><tr><td>1974</td><td>Pakistan (PAK)</td><td>2</td><td>0</td><td>9</td><td>11</td></tr><tr><td>1974</td><td>Sri Lanka (SRI)</td><td>2</td><td>0</td><td>0</td><td>2</td></tr><tr><td>1974</td><td>Singapore (SGP)</td><td>1</td><td>3</td><td>7</td><td>11</td></tr><tr><td>1974</td><td>Burma (BIR)</td><td>1</td><td>2</td><td>3</td><td>6</td></tr><tr><td>1974</td><td>Iraq (IRQ)</td><td>1</td><td>0</td><td>5</td><td>6</td></tr><tr><td>1974</td><td>Philippines (PHI)</td><td>0</td><td>2</td><td>12</td><td>14</td></tr><tr><td>1974</td><td>Malaysia (MAS)</td><td>0</td><td>1</td><td>4</td><td>5</td></tr><tr><td>1974</td><td>Kuwait (KUW)</td><td>0</td><td>1</td><td>0</td><td>1</td></tr><tr><td>1974</td><td>Afghanistan (AFG)</td><td>0</td><td>0</td><td>1</td><td>1</td></tr><tr><td>1978</td><td>Japan (JPN)</td><td>70</td><td>59</td><td>49</td><td>178</td></tr><tr><td>1978</td><td>China (CHN)</td><td>51</td><td>54</td><td>46</td><td>151</td></tr><tr><td>1978</td><td>South Korea (KOR)</td><td>18</td><td>20</td><td>31</td><td>69</td></tr><tr><td>1978</td><td>North Korea (PRK)</td><td>15</td><td>13</td><td>15</td><td>43</td></tr><tr><td>1978</td><td>Thailand (THA)</td><td>11</td><td>12</td><td>19</td><td>42</td></tr><tr><td>1978</td><td>India (IND)</td><td>11</td><td>11</td><td>6</td><td>28</td></tr><tr><td>1978</td><td>Indonesia (INA)</td><td>8</td><td>7</td><td>18</td><td>33</td></tr><tr><td>1978</td><td>Pakistan (PAK)</td><td>4</td><td>4</td><td>9</td><td>17</td></tr><tr><td>1978</td><td>Philippines (PHI)</td><td>4</td><td>4</td><td>6</td><td>14</td></tr><tr><td>1978</td><td>Iraq (IRQ)</td><td>2</td><td>4</td><td>6</td><td>12</td></tr><tr><td>1978</td><td>Singapore (SGP)</td><td>2</td><td>1</td><td>4</td><td>7</td></tr><tr><td>1978</td><td>Malaysia (MAS)</td><td>2</td><td>1</td><td>3</td><td>6</td></tr><tr><td>1978</td><td>Mongolia (MGL)</td><td>1</td><td>3</td><td>5</td><td>9</td></tr><tr><td>1978</td><td>Lebanon (LBN)</td><td>1</td><td>1</td><td>0</td><td>2</td></tr><tr><td>1978</td><td>Syria (SYR)</td><td>1</td><td>0</td><td>0</td><td>1</td></tr><tr><td>1978</td><td>Burma (BIR)</td><td>0</td><td>3</td><td>3</td><td>6</td></tr><tr><td>1978</td><td>Hong Kong (HKG)</td><td>0</td><td>2</td><td>3</td><td>5</td></tr><tr><td>1978</td><td>Sri Lanka (SRI)</td><td>0</td><td>0</td><td>2</td><td>2</td></tr><tr><td>1978</td><td>Kuwait (KUW)</td><td>0</td><td>0</td><td>1</td><td>1</td></tr><tr><td>1982</td><td>China (CHN)</td><td>61</td><td>51</td><td>41</td><td>153</td></tr><tr><td>1982</td><td>Japan (JPN)</td><td>57</td><td>52</td><td>44</td><td>153</td></tr><tr><td>1982</td><td>South Korea (KOR)</td><td>28</td><td>28</td><td>37</td><td>93</td></tr><tr><td>1982</td><td>North Korea (PRK)</td><td>17</td><td>19</td><td>20</td><td>56</td></tr><tr><td>1982</td><td>India (IND)</td><td>13</td><td>19</td><td>25</td><td>57</td></tr><tr><td>1982</td><td>Indonesia (INA)</td><td>4</td><td>4</td><td>7</td><td>15</td></tr><tr><td>1982</td><td>Iran (IRI)</td><td>4</td><td>4</td><td>4</td><td>12</td></tr><tr><td>1982</td><td>Pakistan (PAK)</td><td>3</td><td>3</td><td>5</td><td>11</td></tr><tr><td>1982</td><td>Mongolia (MGL)</td><td>3</td><td>3</td><td>1</td><td>7</td></tr><tr><td>1982</td><td>Philippines (PHI)</td><td>2</td><td>3</td><td>9</td><td>14</td></tr><tr><td>1982</td><td>Iraq (IRQ)</td><td>2</td><td>3</td><td>4</td><td>9</td></tr><tr><td>1982</td><td>Thailand (THA)</td><td>1</td><td>5</td><td>4</td><td>10</td></tr><tr><td>1982</td><td>Kuwait (KUW)</td><td>1</td><td>3</td><td>3</td><td>7</td></tr><tr><td>1982</td><td>Syria (SYR)</td><td>1</td><td>1</td><td>1</td><td>3</td></tr><tr><td>1982</td><td>Malaysia (MAS)</td><td>1</td><td>0</td><td>3</td><td>4</td></tr><tr><td>1982</td><td>Singapore (SGP)</td><td>1</td><td>0</td><td>2</td><td>3</td></tr><tr><td>1982</td><td>Afghanistan (AFG)</td><td>0</td><td>1</td><td>0</td><td>1</td></tr><tr><td>1982</td><td>Lebanon (LBN)</td><td>0</td><td>1</td><td>0</td><td>1</td></tr><tr><td>1982</td><td>Bahrain (BRN)</td><td>0</td><td>0</td><td>1</td><td>1</td></tr><tr><td>1982</td><td>Hong Kong (HKG)</td><td>0</td><td>0</td><td>1</td><td>1</td></tr><tr><td>1982</td><td>Saudi Arabia (KSA)</td><td>0</td><td>0</td><td>1</td><td>1</td></tr><tr><td>1982</td><td>Qatar (QAT)</td><td>0</td><td>0</td><td>1</td><td>1</td></tr><tr><td>1982</td><td>Vietnam (VIE)</td><td>0</td><td>0</td><td>1</td><td>1</td></tr><tr><td>1986</td><td>China (CHN)</td><td>94</td><td>82</td><td>46</td><td>222</td></tr><tr><td>1986</td><td>South Korea (KOR)</td><td>93</td><td>55</td><td>76</td><td>224</td></tr><tr><td>1986</td><td>Japan (JPN)</td><td>58</td><td>76</td><td>77</td><td>211</td></tr><tr><td>1986</td><td>Iran (IRI)</td><td>6</td><td>6</td><td>10</td><td>22</td></tr><tr><td>1986</td><td>India (IND)</td><td>5</td><td>9</td><td>23</td><td>37</td></tr><tr><td>1986</td><td>Philippines (PHI)</td><td>4</td><td>5</td><td>9</td><td>18</td></tr><tr><td>1986</td><td>Thailand (THA)</td><td>3</td><td>10</td><td>13</td><td>26</td></tr><tr><td>1986</td><td>Pakistan (PAK)</td><td>2</td><td>3</td><td>4</td><td>9</td></tr><tr><td>1986</td><td>Indonesia (INA)</td><td>1</td><td>5</td><td>14</td><td>20</td></tr><tr><td>1986</td><td>Hong Kong (HKG)</td><td>1</td><td>1</td><td>3</td><td>5</td></tr><tr><td>1986</td><td>Qatar (QAT)</td><td>1</td><td>0</td><td>3</td><td>4</td></tr><tr><td>1986</td><td>Bahrain (BRN)</td><td>1</td><td>0</td><td>1</td><td>2</td></tr><tr><td>1986</td><td>Lebanon (LBN)</td><td>1</td><td>0</td><td>1</td><td>2</td></tr><tr><td>1986</td><td>Malaysia (MAS)</td><td>0</td><td>5</td><td>5</td><td>10</td></tr><tr><td>1986</td><td>Iraq (IRQ)</td><td>0</td><td>5</td><td>2</td><td>7</td></tr><tr><td>1986</td><td>Jordan (JOR)</td><td>0</td><td>3</td><td>1</td><td>4</td></tr><tr><td>1986</td><td>Kuwait (KUW)</td><td>0</td><td>1</td><td>8</td><td>9</td></tr><tr><td>1986</td><td>Singapore (SGP)</td><td>0</td><td>1</td><td>4</td><td>5</td></tr><tr><td>1986</td><td>Saudi Arabia (KSA)</td><td>0</td><td>1</td><td>0</td><td>1</td></tr><tr><td>1986</td><td>Nepal (NEP)</td><td>0</td><td>0</td><td>8</td><td>8</td></tr><tr><td>1986</td><td>Bangladesh (BAN)</td><td>0</td><td>0</td><td>1</td><td>1</td></tr><tr><td>1986</td><td>Oman (OMA)</td><td>0</td><td>0</td><td>1</td><td>1</td></tr><tr><td>1990</td><td>China (CHN)</td><td>183</td><td>107</td><td>51</td><td>341</td></tr><tr><td>1990</td><td>South Korea (KOR)</td><td>54</td><td>54</td><td>73</td><td>181</td></tr><tr><td>1990</td><td>Japan (JPN)</td><td>38</td><td>60</td><td>76</td><td>174</td></tr><tr><td>1990</td><td>North Korea (PRK)</td><td>12</td><td>31</td><td>39</td><td>82</td></tr><tr><td>1990</td><td>Iran (IRI)</td><td>4</td><td>6</td><td>8</td><td>18</td></tr><tr><td>1990</td><td>Pakistan (PAK)</td><td>4</td><td>1</td><td>7</td><td>12</td></tr><tr><td>1990</td><td>Indonesia (INA)</td><td>3</td><td>6</td><td>21</td><td>30</td></tr><tr><td>1990</td><td>Qatar (QAT)</td><td>3</td><td>2</td><td>1</td><td>6</td></tr><tr><td>1990</td><td>Thailand (THA)</td><td>2</td><td>7</td><td>8</td><td>17</td></tr><tr><td>1990</td><td>Malaysia (MAS)</td><td>2</td><td>2</td><td>4</td><td>8</td></tr><tr><td>1990</td><td>India (IND)</td><td>1</td><td>8</td><td>14</td><td>23</td></tr><tr><td>1990</td><td>Mongolia (MGL)</td><td>1</td><td>7</td><td>9</td><td>17</td></tr><tr><td>1990</td><td>Philippines (PHI)</td><td>1</td><td>2</td><td>7</td><td>10</td></tr><tr><td>1990</td><td>Syria (SYR)</td><td>1</td><td>0</td><td>2</td><td>3</td></tr><tr><td>1990</td><td>Oman (OMA)</td><td>1</td><td>0</td><td>0</td><td>1</td></tr><tr><td>1990</td><td>Chinese Taipei (TPE)</td><td>0</td><td>10</td><td>21</td><td>31</td></tr><tr><td>1990</td><td>Hong Kong (HKG)</td><td>0</td><td>2</td><td>5</td><td>7</td></tr><tr><td>1990</td><td>Sri Lanka (SRI)</td><td>0</td><td>2</td><td>1</td><td>3</td></tr><tr><td>1990</td><td>Singapore (SGP)</td><td>0</td><td>1</td><td>4</td><td>5</td></tr><tr><td>1990</td><td>Bangladesh (BAN)</td><td>0</td><td>1</td><td>0</td><td>1</td></tr><tr><td>1990</td><td>Myanmar (MYA)</td><td>0</td><td>0</td><td>2</td><td>2</td></tr><tr><td>1990</td><td>Saudi Arabia (KSA)</td><td>0</td><td>0</td><td>1</td><td>1</td></tr><tr><td>1990</td><td>Laos (LAO)</td><td>0</td><td>0</td><td>1</td><td>1</td></tr><tr><td>1990</td><td>Macau (MAC)</td><td>0</td><td>0</td><td>1</td><td>1</td></tr><tr><td>1990</td><td>Nepal (NEP)</td><td>0</td><td>0</td><td>1</td><td>1</td></tr><tr><td>1994</td><td>China (CHN)</td><td>126</td><td>83</td><td>57</td><td>266</td></tr><tr><td>1994</td><td>Japan (JPN)</td><td>64</td><td>75</td><td>79</td><td>218</td></tr><tr><td>1994</td><td>South Korea (KOR)</td><td>63</td><td>56</td><td>64</td><td>183</td></tr><tr><td>1994</td><td>Kazakhstan (KAZ)</td><td>27</td><td>25</td><td>27</td><td>79</td></tr><tr><td>1994</td><td>Uzbekistan (UZB)</td><td>11</td><td>12</td><td>19</td><td>42</td></tr><tr><td>1994</td><td>Iran (IRI)</td><td>9</td><td>9</td><td>8</td><td>26</td></tr><tr><td>1994</td><td>Chinese Taipei (TPE)</td><td>7</td><td>13</td><td>24</td><td>44</td></tr><tr><td>1994</td><td>India (IND)</td><td>4</td><td>3</td><td>16</td><td>23</td></tr><tr><td>1994</td><td>Malaysia (MAS)</td><td>4</td><td>2</td><td>13</td><td>19</td></tr><tr><td>1994</td><td>Qatar (QAT)</td><td>4</td><td>1</td><td>5</td><td>10</td></tr><tr><td>1994</td><td>Indonesia (INA)</td><td>3</td><td>12</td><td>11</td><td>26</td></tr><tr><td>1994</td><td>Thailand (THA)</td><td>3</td><td>9</td><td>14</td><td>26</td></tr><tr><td>1994</td><td>Syria (SYR)</td><td>3</td><td>3</td><td>1</td><td>7</td></tr><tr><td>1994</td><td>Philippines (PHI)</td><td>3</td><td>2</td><td>8</td><td>13</td></tr><tr><td>1994</td><td>Kuwait (KUW)</td><td>3</td><td>1</td><td>5</td><td>9</td></tr><tr><td>1994</td><td>Saudi Arabia (KSA)</td><td>1</td><td>3</td><td>5</td><td>9</td></tr><tr><td>1994</td><td>Turkmenistan (TKM)</td><td>1</td><td>3</td><td>3</td><td>7</td></tr><tr><td>1994</td><td>Mongolia (MGL)</td><td>1</td><td>2</td><td>6</td><td>9</td></tr><tr><td>1994</td><td>Vietnam (VIE)</td><td>1</td><td>2</td><td>0</td><td>3</td></tr><tr><td>1994</td><td>Singapore (SGP)</td><td>1</td><td>1</td><td>5</td><td>7</td></tr><tr><td>1994</td><td>Hong Kong (HKG)</td><td>0</td><td>6</td><td>7</td><td>13</td></tr><tr><td>1994</td><td>Pakistan (PAK)</td><td>0</td><td>4</td><td>6</td><td>10</td></tr><tr><td>1994</td><td>Kyrgyzstan (KGZ)</td><td>0</td><td>4</td><td>5</td><td>9</td></tr><tr><td>1994</td><td>Jordan (JOR)</td><td>0</td><td>2</td><td>2</td><td>4</td></tr><tr><td>1994</td><td>United Arab Emirates (UAE)</td><td>0</td><td>1</td><td>3</td><td>4</td></tr><tr><td>1994</td><td>Macau (MAC)</td><td>0</td><td>1</td><td>1</td><td>2</td></tr><tr><td>1994</td><td>Sri Lanka (SRI)</td><td>0</td><td>1</td><td>1</td><td>2</td></tr><tr><td>1994</td><td>Bangladesh (BAN)</td><td>0</td><td>1</td><td>0</td><td>1</td></tr><tr><td>1994</td><td>Brunei (BRU)</td><td>0</td><td>0</td><td>2</td><td>2</td></tr><tr><td>1994</td><td>Myanmar (MYA)</td><td>0</td><td>0</td><td>2</td><td>2</td></tr><tr><td>1994</td><td>Nepal (NEP)</td><td>0</td><td>0</td><td>2</td><td>2</td></tr><tr><td>1994</td><td>Tajikistan (TJK)</td><td>0</td><td>0</td><td>2</td><td>2</td></tr><tr><td>1998</td><td>China (CHN)</td><td>129</td><td>78</td><td>67</td><td>274</td></tr><tr><td>1998</td><td>South Korea (KOR)</td><td>65</td><td>46</td><td>53</td><td>164</td></tr><tr><td>1998</td><td>Japan (JPN)</td><td>52</td><td>61</td><td>68</td><td>181</td></tr><tr><td>1998</td><td>Thailand (THA)</td><td>24</td><td>26</td><td>40</td><td>90</td></tr><tr><td>1998</td><td>Kazakhstan (KAZ)</td><td>24</td><td>24</td><td>30</td><td>78</td></tr><tr><td>1998</td><td>Chinese Taipei (TPE)</td><td>19</td><td>17</td><td>41</td><td>77</td></tr><tr><td>1998</td><td>Iran (IRI)</td><td>10</td><td>11</td><td>13</td><td>34</td></tr><tr><td>1998</td><td>North Korea (PRK)</td><td>7</td><td>14</td><td>12</td><td>33</td></tr><tr><td>1998</td><td>India (IND)</td><td>7</td><td>11</td><td>17</td><td>35</td></tr><tr><td>1998</td><td>Uzbekistan (UZB)</td><td>6</td><td>22</td><td>12</td><td>40</td></tr><tr><td>1998</td><td>Indonesia (INA)</td><td>6</td><td>10</td><td>11</td><td>27</td></tr><tr><td>1998</td><td>Malaysia (MAS)</td><td>5</td><td>10</td><td>14</td><td>29</td></tr><tr><td>1998</td><td>Hong Kong (HKG)</td><td>5</td><td>6</td><td>6</td><td>17</td></tr><tr><td>1998</td><td>Kuwait (KUW)</td><td>4</td><td>6</td><td>4</td><td>14</td></tr><tr><td>1998</td><td>Sri Lanka (SRI)</td><td>3</td><td>0</td><td>3</td><td>6</td></tr><tr><td>1998</td><td>Pakistan (PAK)</td><td>2</td><td>4</td><td>9</td><td>15</td></tr><tr><td>1998</td><td>Singapore (SGP)</td><td>2</td><td>3</td><td>9</td><td>14</td></tr><tr><td>1998</td><td>Qatar (QAT)</td><td>2</td><td>3</td><td>3</td><td>8</td></tr><tr><td>1998</td><td>Mongolia (MGL)</td><td>2</td><td>2</td><td>10</td><td>14</td></tr><tr><td>1998</td><td>Myanmar (MYA)</td><td>1</td><td>6</td><td>4</td><td>11</td></tr><tr><td>1998</td><td>Philippines (PHI)</td><td>1</td><td>5</td><td>12</td><td>18</td></tr><tr><td>1998</td><td>Vietnam (VIE)</td><td>1</td><td>5</td><td>11</td><td>17</td></tr><tr><td>1998</td><td>Turkmenistan (TKM)</td><td>1</td><td>0</td><td>1</td><td>2</td></tr><tr><td>1998</td><td>Kyrgyzstan (KGZ)</td><td>0</td><td>3</td><td>3</td><td>6</td></tr><tr><td>1998</td><td>Jordan (JOR)</td><td>0</td><td>3</td><td>2</td><td>5</td></tr><tr><td>1998</td><td>Syria (SYR)</td><td>0</td><td>2</td><td>4</td><td>6</td></tr><tr><td>1998</td><td>Nepal (NEP)</td><td>0</td><td>1</td><td>3</td><td>4</td></tr><tr><td>1998</td><td>Macau (MAC)</td><td>0</td><td>1</td><td>0</td><td>1</td></tr><tr><td>1998</td><td>Bangladesh (BAN)</td><td>0</td><td>0</td><td>1</td><td>1</td></tr><tr><td>1998</td><td>Brunei (BRU)</td><td>0</td><td>0</td><td>1</td><td>1</td></tr><tr><td>1998</td><td>Laos (LAO)</td><td>0</td><td>0</td><td>1</td><td>1</td></tr><tr><td>1998</td><td>Oman (OMA)</td><td>0</td><td>0</td><td>1</td><td>1</td></tr><tr><td>1998</td><td>United Arab Emirates (UAE)</td><td>0</td><td>0</td><td>1</td><td>1</td></tr><tr><td>2002</td><td>China (CHN)</td><td>150</td><td>84</td><td>74</td><td>308</td></tr><tr><td>2002</td><td>South Korea (KOR)</td><td>96</td><td>80</td><td>84</td><td>260</td></tr><tr><td>2002</td><td>Japan (JPN)</td><td>44</td><td>73</td><td>72</td><td>189</td></tr><tr><td>2002</td><td>Kazakhstan (KAZ)</td><td>20</td><td>26</td><td>30</td><td>76</td></tr><tr><td>2002</td><td>Uzbekistan (UZB)</td><td>15</td><td>12</td><td>24</td><td>51</td></tr><tr><td>2002</td><td>Thailand (THA)</td><td>14</td><td>19</td><td>10</td><td>43</td></tr><tr><td>2002</td><td>India (IND)</td><td>11</td><td>12</td><td>13</td><td>36</td></tr><tr><td>2002</td><td>Chinese Taipei (TPE)</td><td>10</td><td>17</td><td>25</td><td>52</td></tr><tr><td>2002</td><td>North Korea (PRK)</td><td>9</td><td>11</td><td>13</td><td>33</td></tr><tr><td>2002</td><td>Iran (IRI)</td><td>8</td><td>14</td><td>14</td><td>36</td></tr><tr><td>2002</td><td>Saudi Arabia (KSA)</td><td>7</td><td>1</td><td>1</td><td>9</td></tr><tr><td>2002</td><td>Malaysia (MAS)</td><td>6</td><td>8</td><td>16</td><td>30</td></tr><tr><td>2002</td><td>Singapore (SGP)</td><td>5</td><td>2</td><td>10</td><td>17</td></tr><tr><td>2002</td><td>Indonesia (INA)</td><td>4</td><td>7</td><td>12</td><td>23</td></tr><tr><td>2002</td><td>Vietnam (VIE)</td><td>4</td><td>7</td><td>7</td><td>18</td></tr><tr><td>2002</td><td>Hong Kong (HKG)</td><td>4</td><td>6</td><td>11</td><td>21</td></tr><tr><td>2002</td><td>Qatar (QAT)</td><td>4</td><td>5</td><td>8</td><td>17</td></tr><tr><td>2002</td><td>Philippines (PHI)</td><td>3</td><td>7</td><td>16</td><td>26</td></tr><tr><td>2002</td><td>Bahrain (BRN)</td><td>3</td><td>2</td><td>2</td><td>7</td></tr><tr><td>2002</td><td>Kuwait (KUW)</td><td>2</td><td>1</td><td>5</td><td>8</td></tr><tr><td>2002</td><td>Sri Lanka (SRI)</td><td>2</td><td>1</td><td>3</td><td>6</td></tr><tr><td>2002</td><td>Pakistan (PAK)</td><td>1</td><td>6</td><td>6</td><td>13</td></tr><tr><td>2002</td><td>Kyrgyzstan (KGZ)</td><td>1</td><td>5</td><td>6</td><td>12</td></tr><tr><td>2002</td><td>Myanmar (MYA)</td><td>1</td><td>5</td><td>6</td><td>12</td></tr><tr><td>2002</td><td>Turkmenistan (TKM)</td><td>1</td><td>2</td><td>1</td><td>4</td></tr><tr><td>2002</td><td>Mongolia (MGL)</td><td>1</td><td>1</td><td>12</td><td>14</td></tr><tr><td>2002</td><td>Lebanon (LBN)</td><td>1</td><td>0</td><td>0</td><td>1</td></tr><tr><td>2002</td><td>Tajikistan (TJK)</td><td>0</td><td>2</td><td>4</td><td>6</td></tr><tr><td>2002</td><td>Macau (MAC)</td><td>0</td><td>2</td><td>2</td><td>4</td></tr><tr><td>2002</td><td>United Arab Emirates (UAE)</td><td>0</td><td>2</td><td>1</td><td>3</td></tr><tr><td>2002</td><td>Bangladesh (BAN)</td><td>0</td><td>1</td><td>0</td><td>1</td></tr><tr><td>2002</td><td>Nepal (NEP)</td><td>0</td><td>0</td><td>3</td><td>3</td></tr><tr><td>2002</td><td>Syria (SYR)</td><td>0</td><td>0</td><td>3</td><td>3</td></tr><tr><td>2002</td><td>Jordan (JOR)</td><td>0</td><td>0</td><td>2</td><td>2</td></tr><tr><td>2002</td><td>Laos (LAO)</td><td>0</td><td>0</td><td>2</td><td>2</td></tr><tr><td>2002</td><td>Afghanistan (AFG)</td><td>0</td><td>0</td><td>1</td><td>1</td></tr><tr><td>2002</td><td>Brunei (BRU)</td><td>0</td><td>0</td><td>1</td><td>1</td></tr><tr><td>2002</td><td>Palestine (PLE)</td><td>0</td><td>0</td><td>1</td><td>1</td></tr><tr><td>2002</td><td>Yemen (YEM)</td><td>0</td><td>0</td><td>1</td><td>1</td></tr><tr><td>2006</td><td>China (CHN)</td><td>165</td><td>88</td><td>63</td><td>316</td></tr><tr><td>2006</td><td>South Korea (KOR)</td><td>58</td><td>52</td><td>83</td><td>193</td></tr><tr><td>2006</td><td>Japan (JPN)</td><td>50</td><td>72</td><td>78</td><td>200</td></tr><tr><td>2006</td><td>Kazakhstan (KAZ)</td><td>23</td><td>20</td><td>42</td><td>85</td></tr><tr><td>2006</td><td>Thailand (THA)</td><td>13</td><td>15</td><td>26</td><td>54</td></tr><tr><td>2006</td><td>Iran (IRI)</td><td>11</td><td>15</td><td>22</td><td>48</td></tr><tr><td>2006</td><td>Uzbekistan (UZB)</td><td>11</td><td>14</td><td>15</td><td>40</td></tr><tr><td>2006</td><td>India (IND)</td><td>10</td><td>17</td><td>26</td><td>53</td></tr><tr><td>2006</td><td>Qatar (QAT)</td><td>9</td><td>12</td><td>11</td><td>32</td></tr><tr><td>2006</td><td>Chinese Taipei (TPE)</td><td>9</td><td>10</td><td>27</td><td>46</td></tr><tr><td>2006</td><td>Malaysia (MAS)</td><td>8</td><td>17</td><td>17</td><td>42</td></tr><tr><td>2006</td><td>Singapore (SGP)</td><td>8</td><td>7</td><td>12</td><td>27</td></tr><tr><td>2006</td><td>Saudi Arabia (KSA)</td><td>8</td><td>0</td><td>6</td><td>14</td></tr><tr><td>2006</td><td>Bahrain (BRN)</td><td>7</td><td>9</td><td>4</td><td>20</td></tr><tr><td>2006</td><td>Hong Kong (HKG)</td><td>6</td><td>12</td><td>11</td><td>29</td></tr><tr><td>2006</td><td>North Korea (PRK)</td><td>6</td><td>8</td><td>15</td><td>29</td></tr><tr><td>2006</td><td>Kuwait (KUW)</td><td>6</td><td>5</td><td>2</td><td>13</td></tr><tr><td>2006</td><td>Philippines (PHI)</td><td>4</td><td>6</td><td>9</td><td>19</td></tr><tr><td>2006</td><td>Vietnam (VIE)</td><td>3</td><td>13</td><td>7</td><td>23</td></tr><tr><td>2006</td><td>United Arab Emirates (UAE)</td><td>3</td><td>4</td><td>3</td><td>10</td></tr><tr><td>2006</td><td>Mongolia (MGL)</td><td>2</td><td>5</td><td>8</td><td>15</td></tr><tr><td>2006</td><td>Indonesia (INA)</td><td>2</td><td>4</td><td>14</td><td>20</td></tr><tr><td>2006</td><td>Syria (SYR)</td><td>2</td><td>2</td><td>2</td><td>6</td></tr><tr><td>2006</td><td>Tajikistan (TJK)</td><td>2</td><td>0</td><td>2</td><td>4</td></tr><tr><td>2006</td><td>Jordan (JOR)</td><td>1</td><td>3</td><td>4</td><td>8</td></tr><tr><td>2006</td><td>Lebanon (LBN)</td><td>1</td><td>0</td><td>2</td><td>3</td></tr><tr><td>2006</td><td>Myanmar (MYA)</td><td>0</td><td>4</td><td>7</td><td>11</td></tr><tr><td>2006</td><td>Kyrgyzstan (KGZ)</td><td>0</td><td>2</td><td>6</td><td>8</td></tr><tr><td>2006</td><td>Iraq (IRQ)</td><td>0</td><td>2</td><td>1</td><td>3</td></tr><tr><td>2006</td><td>Macau (MAC)</td><td>0</td><td>1</td><td>6</td><td>7</td></tr><tr><td>2006</td><td>Pakistan (PAK)</td><td>0</td><td>1</td><td>3</td><td>4</td></tr><tr><td>2006</td><td>Sri Lanka (SRI)</td><td>0</td><td>1</td><td>2</td><td>3</td></tr><tr><td>2006</td><td>Laos (LAO)</td><td>0</td><td>1</td><td>0</td><td>1</td></tr><tr><td>2006</td><td>Turkmenistan (TKM)</td><td>0</td><td>1</td><td>0</td><td>1</td></tr><tr><td>2006</td><td>Nepal (NEP)</td><td>0</td><td>0</td><td>3</td><td>3</td></tr><tr><td>2006</td><td>Afghanistan (AFG)</td><td>0</td><td>0</td><td>1</td><td>1</td></tr><tr><td>2006</td><td>Bangladesh (BAN)</td><td>0</td><td>0</td><td>1</td><td>1</td></tr><tr><td>2006</td><td>Yemen (YEM)</td><td>0</td><td>0</td><td>1</td><td>1</td></tr><tr><td>2010</td><td>China (CHN)</td><td>199</td><td>119</td><td>98</td><td>416</td></tr><tr><td>2010</td><td>South Korea (KOR)</td><td>76</td><td>65</td><td>91</td><td>232</td></tr><tr><td>2010</td><td>Japan (JPN)</td><td>48</td><td>74</td><td>94</td><td>216</td></tr><tr><td>2010</td><td>Iran (IRI)</td><td>20</td><td>15</td><td>24</td><td>59</td></tr><tr><td>2010</td><td>Kazakhstan (KAZ)</td><td>18</td><td>23</td><td>38</td><td>79</td></tr><tr><td>2010</td><td>India (IND)</td><td>14</td><td>17</td><td>34</td><td>65</td></tr><tr><td>2010</td><td>Chinese Taipei (TPE)</td><td>13</td><td>16</td><td>38</td><td>67</td></tr><tr><td>2010</td><td>Uzbekistan (UZB)</td><td>11</td><td>22</td><td>23</td><td>56</td></tr><tr><td>2010</td><td>Thailand (THA)</td><td>11</td><td>9</td><td>32</td><td>52</td></tr><tr><td>2010</td><td>Malaysia (MAS)</td><td>9</td><td>18</td><td>14</td><td>41</td></tr><tr><td>2010</td><td>Hong Kong (HKG)</td><td>8</td><td>15</td><td>17</td><td>40</td></tr><tr><td>2010</td><td>North Korea (PRK)</td><td>6</td><td>10</td><td>20</td><td>36</td></tr><tr><td>2010</td><td>Saudi Arabia (KSA)</td><td>5</td><td>3</td><td>5</td><td>13</td></tr><tr><td>2010</td><td>Bahrain (BRN)</td><td>5</td><td>0</td><td>4</td><td>9</td></tr><tr><td>2010</td><td>Indonesia (INA)</td><td>4</td><td>9</td><td>13</td><td>26</td></tr><tr><td>2010</td><td>Singapore (SGP)</td><td>4</td><td>7</td><td>6</td><td>17</td></tr><tr><td>2010</td><td>Athletes from Kuwait (IOC)</td><td>4</td><td>6</td><td>1</td><td>11</td></tr><tr><td>2010</td><td>Qatar (QAT)</td><td>4</td><td>4</td><td>7</td><td>15</td></tr><tr><td>2010</td><td>Philippines (PHI)</td><td>3</td><td>4</td><td>9</td><td>16</td></tr><tr><td>2010</td><td>Pakistan (PAK)</td><td>3</td><td>2</td><td>3</td><td>8</td></tr><tr><td>2010</td><td>Mongolia (MGL)</td><td>2</td><td>5</td><td>9</td><td>16</td></tr><tr><td>2010</td><td>Myanmar (MYA)</td><td>2</td><td>5</td><td>3</td><td>10</td></tr><tr><td>2010</td><td>Jordan (JOR)</td><td>2</td><td>2</td><td>2</td><td>6</td></tr><tr><td>2010</td><td>Vietnam (VIE)</td><td>1</td><td>17</td><td>15</td><td>33</td></tr><tr><td>2010</td><td>Kyrgyzstan (KGZ)</td><td>1</td><td>2</td><td>2</td><td>5</td></tr><tr><td>2010</td><td>Macau (MAC)</td><td>1</td><td>1</td><td>4</td><td>6</td></tr><tr><td>2010</td><td>Bangladesh (BAN)</td><td>1</td><td>1</td><td>1</td><td>3</td></tr><tr><td>2010</td><td>Tajikistan (TJK)</td><td>1</td><td>0</td><td>3</td><td>4</td></tr><tr><td>2010</td><td>Syria (SYR)</td><td>1</td><td>0</td><td>1</td><td>2</td></tr><tr><td>2010</td><td>United Arab Emirates (UAE)</td><td>0</td><td>4</td><td>1</td><td>5</td></tr><tr><td>2010</td><td>Afghanistan (AFG)</td><td>0</td><td>2</td><td>1</td><td>3</td></tr><tr><td>2010</td><td>Iraq (IRQ)</td><td>0</td><td>1</td><td>2</td><td>3</td></tr><tr><td>2010</td><td>Lebanon (LBN)</td><td>0</td><td>1</td><td>2</td><td>3</td></tr><tr><td>2010</td><td>Laos (LAO)</td><td>0</td><td>0</td><td>2</td><td>2</td></tr><tr><td>2010</td><td>Nepal (NEP)</td><td>0</td><td>0</td><td>1</td><td>1</td></tr><tr><td>2010</td><td>Oman (OMA)</td><td>0</td><td>0</td><td>1</td><td>1</td></tr><tr><td>2014</td><td>China (CHN)</td><td>151</td><td>109</td><td>85</td><td>345</td></tr><tr><td>2014</td><td>South Korea (KOR)*</td><td>79</td><td>70</td><td>79</td><td>228</td></tr><tr><td>2014</td><td>Japan (JPN)</td><td>47</td><td>77</td><td>76</td><td>200</td></tr><tr><td>2014</td><td>Kazakhstan (KAZ)</td><td>28</td><td>23</td><td>33</td><td>84</td></tr><tr><td>2014</td><td>Iran (IRI)</td><td>21</td><td>18</td><td>18</td><td>57</td></tr><tr><td>2014</td><td>Thailand (THA)</td><td>12</td><td>7</td><td>28</td><td>47</td></tr><tr><td>2014</td><td>North Korea (PRK)</td><td>11</td><td>11</td><td>14</td><td>36</td></tr><tr><td>2014</td><td>India (IND)</td><td>11</td><td>10</td><td>36</td><td>57</td></tr><tr><td>2014</td><td>Chinese Taipei (TPE)</td><td>10</td><td>18</td><td>23</td><td>51</td></tr><tr><td>2014</td><td>Qatar (QAT)</td><td>10</td><td>0</td><td>4</td><td>14</td></tr><tr><td>2014</td><td>Uzbekistan (UZB)</td><td>9</td><td>14</td><td>22</td><td>45</td></tr><tr><td>2014</td><td>Bahrain (BRN)</td><td>9</td><td>6</td><td>4</td><td>19</td></tr><tr><td>2014</td><td>Hong Kong (HKG)</td><td>6</td><td>12</td><td>25</td><td>43</td></tr><tr><td>2014</td><td>Malaysia (MAS)</td><td>5</td><td>14</td><td>14</td><td>33</td></tr><tr><td>2014</td><td>Singapore (SGP)</td><td>5</td><td>6</td><td>14</td><td>25</td></tr><tr><td>2014</td><td>Mongolia (MGL)</td><td>5</td><td>4</td><td>12</td><td>21</td></tr><tr><td>2014</td><td>Indonesia (INA)</td><td>4</td><td>5</td><td>11</td><td>20</td></tr><tr><td>2014</td><td>Kuwait (KUW)</td><td>3</td><td>5</td><td>4</td><td>12</td></tr><tr><td>2014</td><td>Saudi Arabia (KSA)</td><td>3</td><td>3</td><td>1</td><td>7</td></tr><tr><td>2014</td><td>Myanmar (MYA)</td><td>2</td><td>1</td><td>1</td><td>4</td></tr><tr><td>2014</td><td>Vietnam (VIE)</td><td>1</td><td>10</td><td>25</td><td>36</td></tr><tr><td>2014</td><td>Philippines (PHI)</td><td>1</td><td>3</td><td>11</td><td>15</td></tr><tr><td>2014</td><td>Pakistan (PAK)</td><td>1</td><td>1</td><td>3</td><td>5</td></tr><tr><td>2014</td><td>Tajikistan (TJK)</td><td>1</td><td>1</td><td>3</td><td>5</td></tr><tr><td>2014</td><td>Iraq (IRQ)</td><td>1</td><td>0</td><td>3</td><td>4</td></tr><tr><td>2014</td><td>United Arab Emirates (UAE)</td><td>1</td><td>0</td><td>3</td><td>4</td></tr><tr><td>2014</td><td>Sri Lanka (SRI)</td><td>1</td><td>0</td><td>1</td><td>2</td></tr><tr><td>2014</td><td>Cambodia (CAM)</td><td>1</td><td>0</td><td>0</td><td>1</td></tr><tr><td>2014</td><td>Macau (MAC)</td><td>0</td><td>3</td><td>4</td><td>7</td></tr><tr><td>2014</td><td>Kyrgyzstan (KGZ)</td><td>0</td><td>2</td><td>4</td><td>6</td></tr><tr><td>2014</td><td>Jordan (JOR)</td><td>0</td><td>2</td><td>2</td><td>4</td></tr><tr><td>2014</td><td>Turkmenistan (TKM)</td><td>0</td><td>1</td><td>5</td><td>6</td></tr><tr><td>2014</td><td>Bangladesh (BAN)</td><td>0</td><td>1</td><td>2</td><td>3</td></tr><tr><td>2014</td><td>Laos (LAO)</td><td>0</td><td>1</td><td>2</td><td>3</td></tr><tr><td>2014</td><td>Afghanistan (AFG)</td><td>0</td><td>1</td><td>1</td><td>2</td></tr><tr><td>2014</td><td>Lebanon (LBN)</td><td>0</td><td>1</td><td>1</td><td>2</td></tr><tr><td>2014</td><td>Nepal (NEP)</td><td>0</td><td>0</td><td>1</td><td>1</td></tr><tr><td>2018</td><td>China (CHN)</td><td>132</td><td>92</td><td>65</td><td>289</td></tr><tr><td>2018</td><td>Japan (JPN)</td><td>75</td><td>56</td><td>74</td><td>205</td></tr><tr><td>2018</td><td>South Korea (KOR)</td><td>49</td><td>58</td><td>70</td><td>177</td></tr><tr><td>2018</td><td>Indonesia (INA)*</td><td>31</td><td>24</td><td>43</td><td>98</td></tr><tr><td>2018</td><td>Uzbekistan (UZB)</td><td>21</td><td>24</td><td>25</td><td>70</td></tr><tr><td>2018</td><td>Iran (IRI)</td><td>20</td><td>20</td><td>22</td><td>62</td></tr><tr><td>2018</td><td>Chinese Taipei (TPE)</td><td>17</td><td>19</td><td>31</td><td>67</td></tr><tr><td>2018</td><td>India (IND)</td><td>15</td><td>24</td><td>30</td><td>69</td></tr><tr><td>2018</td><td>Kazakhstan (KAZ)</td><td>15</td><td>17</td><td>44</td><td>76</td></tr><tr><td>2018</td><td>North Korea (PRK)</td><td>12</td><td>12</td><td>13</td><td>37</td></tr><tr><td>2018</td><td>Bahrain (BRN)</td><td>12</td><td>7</td><td>7</td><td>26</td></tr><tr><td>2018</td><td>Thailand (THA)</td><td>11</td><td>16</td><td>46</td><td>73</td></tr><tr><td>2018</td><td>Hong Kong (HKG)</td><td>8</td><td>18</td><td>20</td><td>46</td></tr><tr><td>2018</td><td>Malaysia (MAS)</td><td>7</td><td>13</td><td>16</td><td>36</td></tr><tr><td>2018</td><td>Qatar (QAT)</td><td>6</td><td>4</td><td>3</td><td>13</td></tr><tr><td>2018</td><td>Vietnam (VIE)</td><td>4</td><td>16</td><td>18</td><td>38</td></tr><tr><td>2018</td><td>Mongolia (MGL)</td><td>4</td><td>9</td><td>11</td><td>24</td></tr><tr><td>2018</td><td>Singapore (SGP)</td><td>4</td><td>4</td><td>14</td><td>22</td></tr><tr><td>2018</td><td>Philippines (PHI)</td><td>4</td><td>2</td><td>15</td><td>21</td></tr><tr><td>2018</td><td>United Arab Emirates (UAE)</td><td>3</td><td>6</td><td>5</td><td>14</td></tr><tr><td>2018</td><td>Kuwait (KUW)</td><td>3</td><td>1</td><td>2</td><td>6</td></tr><tr><td>2018</td><td>Kyrgyzstan (KGZ)</td><td>2</td><td>6</td><td>12</td><td>20</td></tr><tr><td>2018</td><td>Jordan (JOR)</td><td>2</td><td>1</td><td>9</td><td>12</td></tr><tr><td>2018</td><td>Cambodia (CAM)</td><td>2</td><td>0</td><td>1</td><td>3</td></tr><tr><td>2018</td><td>Saudi Arabia (KSA)</td><td>1</td><td>2</td><td>3</td><td>6</td></tr><tr><td>2018</td><td>Macau (MAC)</td><td>1</td><td>2</td><td>2</td><td>5</td></tr><tr><td>2018</td><td>Iraq (IRQ)</td><td>1</td><td>2</td><td>0</td><td>3</td></tr><tr><td>2018</td><td>Korea (COR)</td><td>1</td><td>1</td><td>2</td><td>4</td></tr><tr><td>2018</td><td>Lebanon (LBN)</td><td>1</td><td>1</td><td>2</td><td>4</td></tr><tr><td>2018</td><td>Tajikistan (TJK)</td><td>0</td><td>4</td><td>3</td><td>7</td></tr><tr><td>2018</td><td>Laos (LAO)</td><td>0</td><td>2</td><td>3</td><td>5</td></tr><tr><td>2018</td><td>Turkmenistan (TKM)</td><td>0</td><td>1</td><td>2</td><td>3</td></tr><tr><td>2018</td><td>Nepal (NEP)</td><td>0</td><td>1</td><td>0</td><td>1</td></tr><tr><td>2018</td><td>Pakistan (PAK)</td><td>0</td><td>0</td><td>4</td><td>4</td></tr><tr><td>2018</td><td>Afghanistan (AFG)</td><td>0</td><td>0</td><td>2</td><td>2</td></tr><tr><td>2018</td><td>Myanmar (MYA)</td><td>0</td><td>0</td><td>2</td><td>2</td></tr><tr><td>2018</td><td>Syria (SYR)</td><td>0</td><td>0</td><td>1</td><td>1</td></tr></tbody></table></div>"
      ]
     },
     "metadata": {
      "application/vnd.databricks.v1+output": {
       "addedWidgets": {},
       "aggData": [],
       "aggError": "",
       "aggOverflow": false,
       "aggSchema": [],
       "aggSeriesLimitReached": false,
       "aggType": "",
       "arguments": {},
       "columnCustomDisplayInfos": {},
       "data": [
        [
         1951,
         "Japan (JPN)",
         24,
         21,
         15,
         60
        ],
        [
         1951,
         "India (IND)",
         15,
         16,
         20,
         51
        ],
        [
         1951,
         "Iran (IRI)",
         8,
         6,
         2,
         16
        ],
        [
         1951,
         "Singapore (SGP)",
         5,
         7,
         2,
         14
        ],
        [
         1951,
         "Philippines (PHI)",
         5,
         6,
         8,
         19
        ],
        [
         1951,
         "Ceylon (CEY)",
         0,
         1,
         0,
         1
        ],
        [
         1951,
         "Indonesia (INA)",
         0,
         0,
         5,
         5
        ],
        [
         1951,
         "Burma (BIR)",
         0,
         0,
         3,
         3
        ],
        [
         1954,
         "Japan (JPN)",
         38,
         36,
         24,
         98
        ],
        [
         1954,
         "Philippines (PHI)",
         14,
         14,
         17,
         45
        ],
        [
         1954,
         "South Korea (KOR)",
         8,
         6,
         5,
         19
        ],
        [
         1954,
         "Pakistan (PAK)",
         5,
         6,
         2,
         13
        ],
        [
         1954,
         "India (IND)",
         5,
         4,
         8,
         17
        ],
        [
         1954,
         "Republic of China (ROC)",
         2,
         4,
         7,
         13
        ],
        [
         1954,
         "Israel (ISR)",
         2,
         1,
         1,
         4
        ],
        [
         1954,
         "Burma (BIR)",
         2,
         0,
         2,
         4
        ],
        [
         1954,
         "Singapore (SGP)",
         1,
         4,
         4,
         9
        ],
        [
         1954,
         "Ceylon (CEY)",
         0,
         1,
         1,
         2
        ],
        [
         1954,
         "Afghanistan (AFG)",
         0,
         1,
         0,
         1
        ],
        [
         1954,
         "Indonesia (INA)",
         0,
         0,
         3,
         3
        ],
        [
         1954,
         "Hong Kong (HKG)",
         0,
         0,
         1,
         1
        ],
        [
         1958,
         "Japan (JPN)",
         67,
         41,
         30,
         138
        ],
        [
         1958,
         "Philippines (PHI)",
         8,
         19,
         21,
         48
        ],
        [
         1958,
         "South Korea (KOR)",
         8,
         7,
         12,
         27
        ],
        [
         1958,
         "Iran (IRI)",
         7,
         14,
         11,
         32
        ],
        [
         1958,
         "Republic of China (ROC)",
         6,
         11,
         17,
         34
        ],
        [
         1958,
         "Pakistan (PAK)",
         6,
         11,
         9,
         26
        ],
        [
         1958,
         "India (IND)",
         5,
         4,
         4,
         13
        ],
        [
         1958,
         "South Vietnam (VNM)",
         2,
         0,
         4,
         6
        ],
        [
         1958,
         "Burma (BIR)",
         1,
         2,
         1,
         4
        ],
        [
         1958,
         "Singapore (SGP)",
         1,
         1,
         1,
         3
        ],
        [
         1958,
         "Ceylon (CEY)",
         1,
         0,
         1,
         2
        ],
        [
         1958,
         "Thailand (THA)",
         0,
         1,
         3,
         4
        ],
        [
         1958,
         "Hong Kong (HKG)",
         0,
         1,
         1,
         2
        ],
        [
         1958,
         "Indonesia (INA)",
         0,
         0,
         6,
         6
        ],
        [
         1958,
         "Malaya (MAL)",
         0,
         0,
         3,
         3
        ],
        [
         1958,
         "Israel (ISR)",
         0,
         0,
         2,
         2
        ],
        [
         1962,
         "Japan (JPN)",
         73,
         56,
         23,
         152
        ],
        [
         1962,
         "Indonesia (INA)",
         11,
         12,
         28,
         51
        ],
        [
         1962,
         "India (IND)",
         10,
         13,
         10,
         33
        ],
        [
         1962,
         "Pakistan (PAK)",
         8,
         11,
         9,
         28
        ],
        [
         1962,
         "Philippines (PHI)",
         7,
         6,
         24,
         37
        ],
        [
         1962,
         "South Korea (KOR)",
         4,
         9,
         10,
         23
        ],
        [
         1962,
         "Thailand (THA)",
         2,
         6,
         4,
         12
        ],
        [
         1962,
         "Malaya (MAL)",
         2,
         4,
         9,
         15
        ],
        [
         1962,
         "Burma (BIR)",
         2,
         1,
         5,
         8
        ],
        [
         1962,
         "Singapore (SGP)",
         1,
         0,
         2,
         3
        ],
        [
         1962,
         "Ceylon (CEY)",
         0,
         2,
         3,
         5
        ],
        [
         1962,
         "Hong Kong (HKG)",
         0,
         2,
         0,
         2
        ],
        [
         1962,
         "Afghanistan (AFG)",
         0,
         0,
         1,
         1
        ],
        [
         1962,
         "Cambodia (CAM)",
         0,
         0,
         1,
         1
        ],
        [
         1962,
         "South Vietnam (VNM)",
         0,
         0,
         1,
         1
        ],
        [
         1966,
         "Japan (JPN)",
         78,
         53,
         33,
         164
        ],
        [
         1966,
         "South Korea (KOR)",
         12,
         18,
         21,
         51
        ],
        [
         1966,
         "Thailand (THA)",
         12,
         14,
         11,
         37
        ],
        [
         1966,
         "Malaysia (MAS)",
         7,
         5,
         6,
         18
        ],
        [
         1966,
         "India (IND)",
         7,
         3,
         11,
         21
        ],
        [
         1966,
         "Iran (IRI)",
         6,
         8,
         17,
         31
        ],
        [
         1966,
         "Indonesia (INA)",
         5,
         5,
         12,
         22
        ],
        [
         1966,
         "Republic of China (ROC)",
         5,
         4,
         10,
         19
        ],
        [
         1966,
         "Israel (ISR)",
         3,
         5,
         3,
         11
        ],
        [
         1966,
         "Philippines (PHI)",
         2,
         15,
         25,
         42
        ],
        [
         1966,
         "Pakistan (PAK)",
         2,
         4,
         2,
         8
        ],
        [
         1966,
         "Burma (BIR)",
         1,
         0,
         4,
         5
        ],
        [
         1966,
         "Singapore (SGP)",
         0,
         5,
         7,
         12
        ],
        [
         1966,
         "South Vietnam (VNM)",
         0,
         1,
         1,
         2
        ],
        [
         1966,
         "Ceylon (CEY)",
         0,
         0,
         6,
         6
        ],
        [
         1966,
         "Hong Kong (HKG)",
         0,
         0,
         1,
         1
        ],
        [
         1970,
         "Japan (JPN)",
         74,
         47,
         23,
         144
        ],
        [
         1970,
         "South Korea (KOR)",
         18,
         13,
         23,
         54
        ],
        [
         1970,
         "Thailand (THA)",
         9,
         17,
         13,
         39
        ],
        [
         1970,
         "Iran (IRI)",
         9,
         7,
         7,
         23
        ],
        [
         1970,
         "India (IND)",
         6,
         9,
         10,
         25
        ],
        [
         1970,
         "Israel (ISR)",
         6,
         6,
         5,
         17
        ],
        [
         1970,
         "Malaysia (MAS)",
         5,
         1,
         7,
         13
        ],
        [
         1970,
         "Burma (BIR)",
         3,
         2,
         7,
         12
        ],
        [
         1970,
         "Indonesia (INA)",
         2,
         5,
         13,
         20
        ],
        [
         1970,
         "Ceylon (CEY)",
         2,
         2,
         0,
         4
        ],
        [
         1970,
         "Philippines (PHI)",
         1,
         9,
         12,
         22
        ],
        [
         1970,
         "Republic of China (ROC)",
         1,
         5,
         12,
         18
        ],
        [
         1970,
         "Pakistan (PAK)",
         1,
         2,
         7,
         10
        ],
        [
         1970,
         "Singapore (SGP)",
         0,
         6,
         9,
         15
        ],
        [
         1970,
         "Khmer Republic (KHM)",
         0,
         2,
         3,
         5
        ],
        [
         1970,
         "South Vietnam (VNM)",
         0,
         0,
         2,
         2
        ],
        [
         1974,
         "Japan (JPN)",
         75,
         49,
         51,
         175
        ],
        [
         1974,
         "Iran (IRI)",
         36,
         28,
         17,
         81
        ],
        [
         1974,
         "China (CHN)",
         33,
         46,
         27,
         106
        ],
        [
         1974,
         "South Korea (KOR)",
         16,
         26,
         15,
         57
        ],
        [
         1974,
         "North Korea (PRK)",
         15,
         14,
         17,
         46
        ],
        [
         1974,
         "Israel (ISR)",
         7,
         4,
         8,
         19
        ],
        [
         1974,
         "India (IND)",
         4,
         12,
         12,
         28
        ],
        [
         1974,
         "Thailand (THA)",
         4,
         2,
         8,
         14
        ],
        [
         1974,
         "Indonesia (INA)",
         3,
         4,
         4,
         11
        ],
        [
         1974,
         "Mongolia (MGL)",
         2,
         5,
         8,
         15
        ],
        [
         1974,
         "Pakistan (PAK)",
         2,
         0,
         9,
         11
        ],
        [
         1974,
         "Sri Lanka (SRI)",
         2,
         0,
         0,
         2
        ],
        [
         1974,
         "Singapore (SGP)",
         1,
         3,
         7,
         11
        ],
        [
         1974,
         "Burma (BIR)",
         1,
         2,
         3,
         6
        ],
        [
         1974,
         "Iraq (IRQ)",
         1,
         0,
         5,
         6
        ],
        [
         1974,
         "Philippines (PHI)",
         0,
         2,
         12,
         14
        ],
        [
         1974,
         "Malaysia (MAS)",
         0,
         1,
         4,
         5
        ],
        [
         1974,
         "Kuwait (KUW)",
         0,
         1,
         0,
         1
        ],
        [
         1974,
         "Afghanistan (AFG)",
         0,
         0,
         1,
         1
        ],
        [
         1978,
         "Japan (JPN)",
         70,
         59,
         49,
         178
        ],
        [
         1978,
         "China (CHN)",
         51,
         54,
         46,
         151
        ],
        [
         1978,
         "South Korea (KOR)",
         18,
         20,
         31,
         69
        ],
        [
         1978,
         "North Korea (PRK)",
         15,
         13,
         15,
         43
        ],
        [
         1978,
         "Thailand (THA)",
         11,
         12,
         19,
         42
        ],
        [
         1978,
         "India (IND)",
         11,
         11,
         6,
         28
        ],
        [
         1978,
         "Indonesia (INA)",
         8,
         7,
         18,
         33
        ],
        [
         1978,
         "Pakistan (PAK)",
         4,
         4,
         9,
         17
        ],
        [
         1978,
         "Philippines (PHI)",
         4,
         4,
         6,
         14
        ],
        [
         1978,
         "Iraq (IRQ)",
         2,
         4,
         6,
         12
        ],
        [
         1978,
         "Singapore (SGP)",
         2,
         1,
         4,
         7
        ],
        [
         1978,
         "Malaysia (MAS)",
         2,
         1,
         3,
         6
        ],
        [
         1978,
         "Mongolia (MGL)",
         1,
         3,
         5,
         9
        ],
        [
         1978,
         "Lebanon (LBN)",
         1,
         1,
         0,
         2
        ],
        [
         1978,
         "Syria (SYR)",
         1,
         0,
         0,
         1
        ],
        [
         1978,
         "Burma (BIR)",
         0,
         3,
         3,
         6
        ],
        [
         1978,
         "Hong Kong (HKG)",
         0,
         2,
         3,
         5
        ],
        [
         1978,
         "Sri Lanka (SRI)",
         0,
         0,
         2,
         2
        ],
        [
         1978,
         "Kuwait (KUW)",
         0,
         0,
         1,
         1
        ],
        [
         1982,
         "China (CHN)",
         61,
         51,
         41,
         153
        ],
        [
         1982,
         "Japan (JPN)",
         57,
         52,
         44,
         153
        ],
        [
         1982,
         "South Korea (KOR)",
         28,
         28,
         37,
         93
        ],
        [
         1982,
         "North Korea (PRK)",
         17,
         19,
         20,
         56
        ],
        [
         1982,
         "India (IND)",
         13,
         19,
         25,
         57
        ],
        [
         1982,
         "Indonesia (INA)",
         4,
         4,
         7,
         15
        ],
        [
         1982,
         "Iran (IRI)",
         4,
         4,
         4,
         12
        ],
        [
         1982,
         "Pakistan (PAK)",
         3,
         3,
         5,
         11
        ],
        [
         1982,
         "Mongolia (MGL)",
         3,
         3,
         1,
         7
        ],
        [
         1982,
         "Philippines (PHI)",
         2,
         3,
         9,
         14
        ],
        [
         1982,
         "Iraq (IRQ)",
         2,
         3,
         4,
         9
        ],
        [
         1982,
         "Thailand (THA)",
         1,
         5,
         4,
         10
        ],
        [
         1982,
         "Kuwait (KUW)",
         1,
         3,
         3,
         7
        ],
        [
         1982,
         "Syria (SYR)",
         1,
         1,
         1,
         3
        ],
        [
         1982,
         "Malaysia (MAS)",
         1,
         0,
         3,
         4
        ],
        [
         1982,
         "Singapore (SGP)",
         1,
         0,
         2,
         3
        ],
        [
         1982,
         "Afghanistan (AFG)",
         0,
         1,
         0,
         1
        ],
        [
         1982,
         "Lebanon (LBN)",
         0,
         1,
         0,
         1
        ],
        [
         1982,
         "Bahrain (BRN)",
         0,
         0,
         1,
         1
        ],
        [
         1982,
         "Hong Kong (HKG)",
         0,
         0,
         1,
         1
        ],
        [
         1982,
         "Saudi Arabia (KSA)",
         0,
         0,
         1,
         1
        ],
        [
         1982,
         "Qatar (QAT)",
         0,
         0,
         1,
         1
        ],
        [
         1982,
         "Vietnam (VIE)",
         0,
         0,
         1,
         1
        ],
        [
         1986,
         "China (CHN)",
         94,
         82,
         46,
         222
        ],
        [
         1986,
         "South Korea (KOR)",
         93,
         55,
         76,
         224
        ],
        [
         1986,
         "Japan (JPN)",
         58,
         76,
         77,
         211
        ],
        [
         1986,
         "Iran (IRI)",
         6,
         6,
         10,
         22
        ],
        [
         1986,
         "India (IND)",
         5,
         9,
         23,
         37
        ],
        [
         1986,
         "Philippines (PHI)",
         4,
         5,
         9,
         18
        ],
        [
         1986,
         "Thailand (THA)",
         3,
         10,
         13,
         26
        ],
        [
         1986,
         "Pakistan (PAK)",
         2,
         3,
         4,
         9
        ],
        [
         1986,
         "Indonesia (INA)",
         1,
         5,
         14,
         20
        ],
        [
         1986,
         "Hong Kong (HKG)",
         1,
         1,
         3,
         5
        ],
        [
         1986,
         "Qatar (QAT)",
         1,
         0,
         3,
         4
        ],
        [
         1986,
         "Bahrain (BRN)",
         1,
         0,
         1,
         2
        ],
        [
         1986,
         "Lebanon (LBN)",
         1,
         0,
         1,
         2
        ],
        [
         1986,
         "Malaysia (MAS)",
         0,
         5,
         5,
         10
        ],
        [
         1986,
         "Iraq (IRQ)",
         0,
         5,
         2,
         7
        ],
        [
         1986,
         "Jordan (JOR)",
         0,
         3,
         1,
         4
        ],
        [
         1986,
         "Kuwait (KUW)",
         0,
         1,
         8,
         9
        ],
        [
         1986,
         "Singapore (SGP)",
         0,
         1,
         4,
         5
        ],
        [
         1986,
         "Saudi Arabia (KSA)",
         0,
         1,
         0,
         1
        ],
        [
         1986,
         "Nepal (NEP)",
         0,
         0,
         8,
         8
        ],
        [
         1986,
         "Bangladesh (BAN)",
         0,
         0,
         1,
         1
        ],
        [
         1986,
         "Oman (OMA)",
         0,
         0,
         1,
         1
        ],
        [
         1990,
         "China (CHN)",
         183,
         107,
         51,
         341
        ],
        [
         1990,
         "South Korea (KOR)",
         54,
         54,
         73,
         181
        ],
        [
         1990,
         "Japan (JPN)",
         38,
         60,
         76,
         174
        ],
        [
         1990,
         "North Korea (PRK)",
         12,
         31,
         39,
         82
        ],
        [
         1990,
         "Iran (IRI)",
         4,
         6,
         8,
         18
        ],
        [
         1990,
         "Pakistan (PAK)",
         4,
         1,
         7,
         12
        ],
        [
         1990,
         "Indonesia (INA)",
         3,
         6,
         21,
         30
        ],
        [
         1990,
         "Qatar (QAT)",
         3,
         2,
         1,
         6
        ],
        [
         1990,
         "Thailand (THA)",
         2,
         7,
         8,
         17
        ],
        [
         1990,
         "Malaysia (MAS)",
         2,
         2,
         4,
         8
        ],
        [
         1990,
         "India (IND)",
         1,
         8,
         14,
         23
        ],
        [
         1990,
         "Mongolia (MGL)",
         1,
         7,
         9,
         17
        ],
        [
         1990,
         "Philippines (PHI)",
         1,
         2,
         7,
         10
        ],
        [
         1990,
         "Syria (SYR)",
         1,
         0,
         2,
         3
        ],
        [
         1990,
         "Oman (OMA)",
         1,
         0,
         0,
         1
        ],
        [
         1990,
         "Chinese Taipei (TPE)",
         0,
         10,
         21,
         31
        ],
        [
         1990,
         "Hong Kong (HKG)",
         0,
         2,
         5,
         7
        ],
        [
         1990,
         "Sri Lanka (SRI)",
         0,
         2,
         1,
         3
        ],
        [
         1990,
         "Singapore (SGP)",
         0,
         1,
         4,
         5
        ],
        [
         1990,
         "Bangladesh (BAN)",
         0,
         1,
         0,
         1
        ],
        [
         1990,
         "Myanmar (MYA)",
         0,
         0,
         2,
         2
        ],
        [
         1990,
         "Saudi Arabia (KSA)",
         0,
         0,
         1,
         1
        ],
        [
         1990,
         "Laos (LAO)",
         0,
         0,
         1,
         1
        ],
        [
         1990,
         "Macau (MAC)",
         0,
         0,
         1,
         1
        ],
        [
         1990,
         "Nepal (NEP)",
         0,
         0,
         1,
         1
        ],
        [
         1994,
         "China (CHN)",
         126,
         83,
         57,
         266
        ],
        [
         1994,
         "Japan (JPN)",
         64,
         75,
         79,
         218
        ],
        [
         1994,
         "South Korea (KOR)",
         63,
         56,
         64,
         183
        ],
        [
         1994,
         "Kazakhstan (KAZ)",
         27,
         25,
         27,
         79
        ],
        [
         1994,
         "Uzbekistan (UZB)",
         11,
         12,
         19,
         42
        ],
        [
         1994,
         "Iran (IRI)",
         9,
         9,
         8,
         26
        ],
        [
         1994,
         "Chinese Taipei (TPE)",
         7,
         13,
         24,
         44
        ],
        [
         1994,
         "India (IND)",
         4,
         3,
         16,
         23
        ],
        [
         1994,
         "Malaysia (MAS)",
         4,
         2,
         13,
         19
        ],
        [
         1994,
         "Qatar (QAT)",
         4,
         1,
         5,
         10
        ],
        [
         1994,
         "Indonesia (INA)",
         3,
         12,
         11,
         26
        ],
        [
         1994,
         "Thailand (THA)",
         3,
         9,
         14,
         26
        ],
        [
         1994,
         "Syria (SYR)",
         3,
         3,
         1,
         7
        ],
        [
         1994,
         "Philippines (PHI)",
         3,
         2,
         8,
         13
        ],
        [
         1994,
         "Kuwait (KUW)",
         3,
         1,
         5,
         9
        ],
        [
         1994,
         "Saudi Arabia (KSA)",
         1,
         3,
         5,
         9
        ],
        [
         1994,
         "Turkmenistan (TKM)",
         1,
         3,
         3,
         7
        ],
        [
         1994,
         "Mongolia (MGL)",
         1,
         2,
         6,
         9
        ],
        [
         1994,
         "Vietnam (VIE)",
         1,
         2,
         0,
         3
        ],
        [
         1994,
         "Singapore (SGP)",
         1,
         1,
         5,
         7
        ],
        [
         1994,
         "Hong Kong (HKG)",
         0,
         6,
         7,
         13
        ],
        [
         1994,
         "Pakistan (PAK)",
         0,
         4,
         6,
         10
        ],
        [
         1994,
         "Kyrgyzstan (KGZ)",
         0,
         4,
         5,
         9
        ],
        [
         1994,
         "Jordan (JOR)",
         0,
         2,
         2,
         4
        ],
        [
         1994,
         "United Arab Emirates (UAE)",
         0,
         1,
         3,
         4
        ],
        [
         1994,
         "Macau (MAC)",
         0,
         1,
         1,
         2
        ],
        [
         1994,
         "Sri Lanka (SRI)",
         0,
         1,
         1,
         2
        ],
        [
         1994,
         "Bangladesh (BAN)",
         0,
         1,
         0,
         1
        ],
        [
         1994,
         "Brunei (BRU)",
         0,
         0,
         2,
         2
        ],
        [
         1994,
         "Myanmar (MYA)",
         0,
         0,
         2,
         2
        ],
        [
         1994,
         "Nepal (NEP)",
         0,
         0,
         2,
         2
        ],
        [
         1994,
         "Tajikistan (TJK)",
         0,
         0,
         2,
         2
        ],
        [
         1998,
         "China (CHN)",
         129,
         78,
         67,
         274
        ],
        [
         1998,
         "South Korea (KOR)",
         65,
         46,
         53,
         164
        ],
        [
         1998,
         "Japan (JPN)",
         52,
         61,
         68,
         181
        ],
        [
         1998,
         "Thailand (THA)",
         24,
         26,
         40,
         90
        ],
        [
         1998,
         "Kazakhstan (KAZ)",
         24,
         24,
         30,
         78
        ],
        [
         1998,
         "Chinese Taipei (TPE)",
         19,
         17,
         41,
         77
        ],
        [
         1998,
         "Iran (IRI)",
         10,
         11,
         13,
         34
        ],
        [
         1998,
         "North Korea (PRK)",
         7,
         14,
         12,
         33
        ],
        [
         1998,
         "India (IND)",
         7,
         11,
         17,
         35
        ],
        [
         1998,
         "Uzbekistan (UZB)",
         6,
         22,
         12,
         40
        ],
        [
         1998,
         "Indonesia (INA)",
         6,
         10,
         11,
         27
        ],
        [
         1998,
         "Malaysia (MAS)",
         5,
         10,
         14,
         29
        ],
        [
         1998,
         "Hong Kong (HKG)",
         5,
         6,
         6,
         17
        ],
        [
         1998,
         "Kuwait (KUW)",
         4,
         6,
         4,
         14
        ],
        [
         1998,
         "Sri Lanka (SRI)",
         3,
         0,
         3,
         6
        ],
        [
         1998,
         "Pakistan (PAK)",
         2,
         4,
         9,
         15
        ],
        [
         1998,
         "Singapore (SGP)",
         2,
         3,
         9,
         14
        ],
        [
         1998,
         "Qatar (QAT)",
         2,
         3,
         3,
         8
        ],
        [
         1998,
         "Mongolia (MGL)",
         2,
         2,
         10,
         14
        ],
        [
         1998,
         "Myanmar (MYA)",
         1,
         6,
         4,
         11
        ],
        [
         1998,
         "Philippines (PHI)",
         1,
         5,
         12,
         18
        ],
        [
         1998,
         "Vietnam (VIE)",
         1,
         5,
         11,
         17
        ],
        [
         1998,
         "Turkmenistan (TKM)",
         1,
         0,
         1,
         2
        ],
        [
         1998,
         "Kyrgyzstan (KGZ)",
         0,
         3,
         3,
         6
        ],
        [
         1998,
         "Jordan (JOR)",
         0,
         3,
         2,
         5
        ],
        [
         1998,
         "Syria (SYR)",
         0,
         2,
         4,
         6
        ],
        [
         1998,
         "Nepal (NEP)",
         0,
         1,
         3,
         4
        ],
        [
         1998,
         "Macau (MAC)",
         0,
         1,
         0,
         1
        ],
        [
         1998,
         "Bangladesh (BAN)",
         0,
         0,
         1,
         1
        ],
        [
         1998,
         "Brunei (BRU)",
         0,
         0,
         1,
         1
        ],
        [
         1998,
         "Laos (LAO)",
         0,
         0,
         1,
         1
        ],
        [
         1998,
         "Oman (OMA)",
         0,
         0,
         1,
         1
        ],
        [
         1998,
         "United Arab Emirates (UAE)",
         0,
         0,
         1,
         1
        ],
        [
         2002,
         "China (CHN)",
         150,
         84,
         74,
         308
        ],
        [
         2002,
         "South Korea (KOR)",
         96,
         80,
         84,
         260
        ],
        [
         2002,
         "Japan (JPN)",
         44,
         73,
         72,
         189
        ],
        [
         2002,
         "Kazakhstan (KAZ)",
         20,
         26,
         30,
         76
        ],
        [
         2002,
         "Uzbekistan (UZB)",
         15,
         12,
         24,
         51
        ],
        [
         2002,
         "Thailand (THA)",
         14,
         19,
         10,
         43
        ],
        [
         2002,
         "India (IND)",
         11,
         12,
         13,
         36
        ],
        [
         2002,
         "Chinese Taipei (TPE)",
         10,
         17,
         25,
         52
        ],
        [
         2002,
         "North Korea (PRK)",
         9,
         11,
         13,
         33
        ],
        [
         2002,
         "Iran (IRI)",
         8,
         14,
         14,
         36
        ],
        [
         2002,
         "Saudi Arabia (KSA)",
         7,
         1,
         1,
         9
        ],
        [
         2002,
         "Malaysia (MAS)",
         6,
         8,
         16,
         30
        ],
        [
         2002,
         "Singapore (SGP)",
         5,
         2,
         10,
         17
        ],
        [
         2002,
         "Indonesia (INA)",
         4,
         7,
         12,
         23
        ],
        [
         2002,
         "Vietnam (VIE)",
         4,
         7,
         7,
         18
        ],
        [
         2002,
         "Hong Kong (HKG)",
         4,
         6,
         11,
         21
        ],
        [
         2002,
         "Qatar (QAT)",
         4,
         5,
         8,
         17
        ],
        [
         2002,
         "Philippines (PHI)",
         3,
         7,
         16,
         26
        ],
        [
         2002,
         "Bahrain (BRN)",
         3,
         2,
         2,
         7
        ],
        [
         2002,
         "Kuwait (KUW)",
         2,
         1,
         5,
         8
        ],
        [
         2002,
         "Sri Lanka (SRI)",
         2,
         1,
         3,
         6
        ],
        [
         2002,
         "Pakistan (PAK)",
         1,
         6,
         6,
         13
        ],
        [
         2002,
         "Kyrgyzstan (KGZ)",
         1,
         5,
         6,
         12
        ],
        [
         2002,
         "Myanmar (MYA)",
         1,
         5,
         6,
         12
        ],
        [
         2002,
         "Turkmenistan (TKM)",
         1,
         2,
         1,
         4
        ],
        [
         2002,
         "Mongolia (MGL)",
         1,
         1,
         12,
         14
        ],
        [
         2002,
         "Lebanon (LBN)",
         1,
         0,
         0,
         1
        ],
        [
         2002,
         "Tajikistan (TJK)",
         0,
         2,
         4,
         6
        ],
        [
         2002,
         "Macau (MAC)",
         0,
         2,
         2,
         4
        ],
        [
         2002,
         "United Arab Emirates (UAE)",
         0,
         2,
         1,
         3
        ],
        [
         2002,
         "Bangladesh (BAN)",
         0,
         1,
         0,
         1
        ],
        [
         2002,
         "Nepal (NEP)",
         0,
         0,
         3,
         3
        ],
        [
         2002,
         "Syria (SYR)",
         0,
         0,
         3,
         3
        ],
        [
         2002,
         "Jordan (JOR)",
         0,
         0,
         2,
         2
        ],
        [
         2002,
         "Laos (LAO)",
         0,
         0,
         2,
         2
        ],
        [
         2002,
         "Afghanistan (AFG)",
         0,
         0,
         1,
         1
        ],
        [
         2002,
         "Brunei (BRU)",
         0,
         0,
         1,
         1
        ],
        [
         2002,
         "Palestine (PLE)",
         0,
         0,
         1,
         1
        ],
        [
         2002,
         "Yemen (YEM)",
         0,
         0,
         1,
         1
        ],
        [
         2006,
         "China (CHN)",
         165,
         88,
         63,
         316
        ],
        [
         2006,
         "South Korea (KOR)",
         58,
         52,
         83,
         193
        ],
        [
         2006,
         "Japan (JPN)",
         50,
         72,
         78,
         200
        ],
        [
         2006,
         "Kazakhstan (KAZ)",
         23,
         20,
         42,
         85
        ],
        [
         2006,
         "Thailand (THA)",
         13,
         15,
         26,
         54
        ],
        [
         2006,
         "Iran (IRI)",
         11,
         15,
         22,
         48
        ],
        [
         2006,
         "Uzbekistan (UZB)",
         11,
         14,
         15,
         40
        ],
        [
         2006,
         "India (IND)",
         10,
         17,
         26,
         53
        ],
        [
         2006,
         "Qatar (QAT)",
         9,
         12,
         11,
         32
        ],
        [
         2006,
         "Chinese Taipei (TPE)",
         9,
         10,
         27,
         46
        ],
        [
         2006,
         "Malaysia (MAS)",
         8,
         17,
         17,
         42
        ],
        [
         2006,
         "Singapore (SGP)",
         8,
         7,
         12,
         27
        ],
        [
         2006,
         "Saudi Arabia (KSA)",
         8,
         0,
         6,
         14
        ],
        [
         2006,
         "Bahrain (BRN)",
         7,
         9,
         4,
         20
        ],
        [
         2006,
         "Hong Kong (HKG)",
         6,
         12,
         11,
         29
        ],
        [
         2006,
         "North Korea (PRK)",
         6,
         8,
         15,
         29
        ],
        [
         2006,
         "Kuwait (KUW)",
         6,
         5,
         2,
         13
        ],
        [
         2006,
         "Philippines (PHI)",
         4,
         6,
         9,
         19
        ],
        [
         2006,
         "Vietnam (VIE)",
         3,
         13,
         7,
         23
        ],
        [
         2006,
         "United Arab Emirates (UAE)",
         3,
         4,
         3,
         10
        ],
        [
         2006,
         "Mongolia (MGL)",
         2,
         5,
         8,
         15
        ],
        [
         2006,
         "Indonesia (INA)",
         2,
         4,
         14,
         20
        ],
        [
         2006,
         "Syria (SYR)",
         2,
         2,
         2,
         6
        ],
        [
         2006,
         "Tajikistan (TJK)",
         2,
         0,
         2,
         4
        ],
        [
         2006,
         "Jordan (JOR)",
         1,
         3,
         4,
         8
        ],
        [
         2006,
         "Lebanon (LBN)",
         1,
         0,
         2,
         3
        ],
        [
         2006,
         "Myanmar (MYA)",
         0,
         4,
         7,
         11
        ],
        [
         2006,
         "Kyrgyzstan (KGZ)",
         0,
         2,
         6,
         8
        ],
        [
         2006,
         "Iraq (IRQ)",
         0,
         2,
         1,
         3
        ],
        [
         2006,
         "Macau (MAC)",
         0,
         1,
         6,
         7
        ],
        [
         2006,
         "Pakistan (PAK)",
         0,
         1,
         3,
         4
        ],
        [
         2006,
         "Sri Lanka (SRI)",
         0,
         1,
         2,
         3
        ],
        [
         2006,
         "Laos (LAO)",
         0,
         1,
         0,
         1
        ],
        [
         2006,
         "Turkmenistan (TKM)",
         0,
         1,
         0,
         1
        ],
        [
         2006,
         "Nepal (NEP)",
         0,
         0,
         3,
         3
        ],
        [
         2006,
         "Afghanistan (AFG)",
         0,
         0,
         1,
         1
        ],
        [
         2006,
         "Bangladesh (BAN)",
         0,
         0,
         1,
         1
        ],
        [
         2006,
         "Yemen (YEM)",
         0,
         0,
         1,
         1
        ],
        [
         2010,
         "China (CHN)",
         199,
         119,
         98,
         416
        ],
        [
         2010,
         "South Korea (KOR)",
         76,
         65,
         91,
         232
        ],
        [
         2010,
         "Japan (JPN)",
         48,
         74,
         94,
         216
        ],
        [
         2010,
         "Iran (IRI)",
         20,
         15,
         24,
         59
        ],
        [
         2010,
         "Kazakhstan (KAZ)",
         18,
         23,
         38,
         79
        ],
        [
         2010,
         "India (IND)",
         14,
         17,
         34,
         65
        ],
        [
         2010,
         "Chinese Taipei (TPE)",
         13,
         16,
         38,
         67
        ],
        [
         2010,
         "Uzbekistan (UZB)",
         11,
         22,
         23,
         56
        ],
        [
         2010,
         "Thailand (THA)",
         11,
         9,
         32,
         52
        ],
        [
         2010,
         "Malaysia (MAS)",
         9,
         18,
         14,
         41
        ],
        [
         2010,
         "Hong Kong (HKG)",
         8,
         15,
         17,
         40
        ],
        [
         2010,
         "North Korea (PRK)",
         6,
         10,
         20,
         36
        ],
        [
         2010,
         "Saudi Arabia (KSA)",
         5,
         3,
         5,
         13
        ],
        [
         2010,
         "Bahrain (BRN)",
         5,
         0,
         4,
         9
        ],
        [
         2010,
         "Indonesia (INA)",
         4,
         9,
         13,
         26
        ],
        [
         2010,
         "Singapore (SGP)",
         4,
         7,
         6,
         17
        ],
        [
         2010,
         "Athletes from Kuwait (IOC)",
         4,
         6,
         1,
         11
        ],
        [
         2010,
         "Qatar (QAT)",
         4,
         4,
         7,
         15
        ],
        [
         2010,
         "Philippines (PHI)",
         3,
         4,
         9,
         16
        ],
        [
         2010,
         "Pakistan (PAK)",
         3,
         2,
         3,
         8
        ],
        [
         2010,
         "Mongolia (MGL)",
         2,
         5,
         9,
         16
        ],
        [
         2010,
         "Myanmar (MYA)",
         2,
         5,
         3,
         10
        ],
        [
         2010,
         "Jordan (JOR)",
         2,
         2,
         2,
         6
        ],
        [
         2010,
         "Vietnam (VIE)",
         1,
         17,
         15,
         33
        ],
        [
         2010,
         "Kyrgyzstan (KGZ)",
         1,
         2,
         2,
         5
        ],
        [
         2010,
         "Macau (MAC)",
         1,
         1,
         4,
         6
        ],
        [
         2010,
         "Bangladesh (BAN)",
         1,
         1,
         1,
         3
        ],
        [
         2010,
         "Tajikistan (TJK)",
         1,
         0,
         3,
         4
        ],
        [
         2010,
         "Syria (SYR)",
         1,
         0,
         1,
         2
        ],
        [
         2010,
         "United Arab Emirates (UAE)",
         0,
         4,
         1,
         5
        ],
        [
         2010,
         "Afghanistan (AFG)",
         0,
         2,
         1,
         3
        ],
        [
         2010,
         "Iraq (IRQ)",
         0,
         1,
         2,
         3
        ],
        [
         2010,
         "Lebanon (LBN)",
         0,
         1,
         2,
         3
        ],
        [
         2010,
         "Laos (LAO)",
         0,
         0,
         2,
         2
        ],
        [
         2010,
         "Nepal (NEP)",
         0,
         0,
         1,
         1
        ],
        [
         2010,
         "Oman (OMA)",
         0,
         0,
         1,
         1
        ],
        [
         2014,
         "China (CHN)",
         151,
         109,
         85,
         345
        ],
        [
         2014,
         "South Korea (KOR)*",
         79,
         70,
         79,
         228
        ],
        [
         2014,
         "Japan (JPN)",
         47,
         77,
         76,
         200
        ],
        [
         2014,
         "Kazakhstan (KAZ)",
         28,
         23,
         33,
         84
        ],
        [
         2014,
         "Iran (IRI)",
         21,
         18,
         18,
         57
        ],
        [
         2014,
         "Thailand (THA)",
         12,
         7,
         28,
         47
        ],
        [
         2014,
         "North Korea (PRK)",
         11,
         11,
         14,
         36
        ],
        [
         2014,
         "India (IND)",
         11,
         10,
         36,
         57
        ],
        [
         2014,
         "Chinese Taipei (TPE)",
         10,
         18,
         23,
         51
        ],
        [
         2014,
         "Qatar (QAT)",
         10,
         0,
         4,
         14
        ],
        [
         2014,
         "Uzbekistan (UZB)",
         9,
         14,
         22,
         45
        ],
        [
         2014,
         "Bahrain (BRN)",
         9,
         6,
         4,
         19
        ],
        [
         2014,
         "Hong Kong (HKG)",
         6,
         12,
         25,
         43
        ],
        [
         2014,
         "Malaysia (MAS)",
         5,
         14,
         14,
         33
        ],
        [
         2014,
         "Singapore (SGP)",
         5,
         6,
         14,
         25
        ],
        [
         2014,
         "Mongolia (MGL)",
         5,
         4,
         12,
         21
        ],
        [
         2014,
         "Indonesia (INA)",
         4,
         5,
         11,
         20
        ],
        [
         2014,
         "Kuwait (KUW)",
         3,
         5,
         4,
         12
        ],
        [
         2014,
         "Saudi Arabia (KSA)",
         3,
         3,
         1,
         7
        ],
        [
         2014,
         "Myanmar (MYA)",
         2,
         1,
         1,
         4
        ],
        [
         2014,
         "Vietnam (VIE)",
         1,
         10,
         25,
         36
        ],
        [
         2014,
         "Philippines (PHI)",
         1,
         3,
         11,
         15
        ],
        [
         2014,
         "Pakistan (PAK)",
         1,
         1,
         3,
         5
        ],
        [
         2014,
         "Tajikistan (TJK)",
         1,
         1,
         3,
         5
        ],
        [
         2014,
         "Iraq (IRQ)",
         1,
         0,
         3,
         4
        ],
        [
         2014,
         "United Arab Emirates (UAE)",
         1,
         0,
         3,
         4
        ],
        [
         2014,
         "Sri Lanka (SRI)",
         1,
         0,
         1,
         2
        ],
        [
         2014,
         "Cambodia (CAM)",
         1,
         0,
         0,
         1
        ],
        [
         2014,
         "Macau (MAC)",
         0,
         3,
         4,
         7
        ],
        [
         2014,
         "Kyrgyzstan (KGZ)",
         0,
         2,
         4,
         6
        ],
        [
         2014,
         "Jordan (JOR)",
         0,
         2,
         2,
         4
        ],
        [
         2014,
         "Turkmenistan (TKM)",
         0,
         1,
         5,
         6
        ],
        [
         2014,
         "Bangladesh (BAN)",
         0,
         1,
         2,
         3
        ],
        [
         2014,
         "Laos (LAO)",
         0,
         1,
         2,
         3
        ],
        [
         2014,
         "Afghanistan (AFG)",
         0,
         1,
         1,
         2
        ],
        [
         2014,
         "Lebanon (LBN)",
         0,
         1,
         1,
         2
        ],
        [
         2014,
         "Nepal (NEP)",
         0,
         0,
         1,
         1
        ],
        [
         2018,
         "China (CHN)",
         132,
         92,
         65,
         289
        ],
        [
         2018,
         "Japan (JPN)",
         75,
         56,
         74,
         205
        ],
        [
         2018,
         "South Korea (KOR)",
         49,
         58,
         70,
         177
        ],
        [
         2018,
         "Indonesia (INA)*",
         31,
         24,
         43,
         98
        ],
        [
         2018,
         "Uzbekistan (UZB)",
         21,
         24,
         25,
         70
        ],
        [
         2018,
         "Iran (IRI)",
         20,
         20,
         22,
         62
        ],
        [
         2018,
         "Chinese Taipei (TPE)",
         17,
         19,
         31,
         67
        ],
        [
         2018,
         "India (IND)",
         15,
         24,
         30,
         69
        ],
        [
         2018,
         "Kazakhstan (KAZ)",
         15,
         17,
         44,
         76
        ],
        [
         2018,
         "North Korea (PRK)",
         12,
         12,
         13,
         37
        ],
        [
         2018,
         "Bahrain (BRN)",
         12,
         7,
         7,
         26
        ],
        [
         2018,
         "Thailand (THA)",
         11,
         16,
         46,
         73
        ],
        [
         2018,
         "Hong Kong (HKG)",
         8,
         18,
         20,
         46
        ],
        [
         2018,
         "Malaysia (MAS)",
         7,
         13,
         16,
         36
        ],
        [
         2018,
         "Qatar (QAT)",
         6,
         4,
         3,
         13
        ],
        [
         2018,
         "Vietnam (VIE)",
         4,
         16,
         18,
         38
        ],
        [
         2018,
         "Mongolia (MGL)",
         4,
         9,
         11,
         24
        ],
        [
         2018,
         "Singapore (SGP)",
         4,
         4,
         14,
         22
        ],
        [
         2018,
         "Philippines (PHI)",
         4,
         2,
         15,
         21
        ],
        [
         2018,
         "United Arab Emirates (UAE)",
         3,
         6,
         5,
         14
        ],
        [
         2018,
         "Kuwait (KUW)",
         3,
         1,
         2,
         6
        ],
        [
         2018,
         "Kyrgyzstan (KGZ)",
         2,
         6,
         12,
         20
        ],
        [
         2018,
         "Jordan (JOR)",
         2,
         1,
         9,
         12
        ],
        [
         2018,
         "Cambodia (CAM)",
         2,
         0,
         1,
         3
        ],
        [
         2018,
         "Saudi Arabia (KSA)",
         1,
         2,
         3,
         6
        ],
        [
         2018,
         "Macau (MAC)",
         1,
         2,
         2,
         5
        ],
        [
         2018,
         "Iraq (IRQ)",
         1,
         2,
         0,
         3
        ],
        [
         2018,
         "Korea (COR)",
         1,
         1,
         2,
         4
        ],
        [
         2018,
         "Lebanon (LBN)",
         1,
         1,
         2,
         4
        ],
        [
         2018,
         "Tajikistan (TJK)",
         0,
         4,
         3,
         7
        ],
        [
         2018,
         "Laos (LAO)",
         0,
         2,
         3,
         5
        ],
        [
         2018,
         "Turkmenistan (TKM)",
         0,
         1,
         2,
         3
        ],
        [
         2018,
         "Nepal (NEP)",
         0,
         1,
         0,
         1
        ],
        [
         2018,
         "Pakistan (PAK)",
         0,
         0,
         4,
         4
        ],
        [
         2018,
         "Afghanistan (AFG)",
         0,
         0,
         2,
         2
        ],
        [
         2018,
         "Myanmar (MYA)",
         0,
         0,
         2,
         2
        ],
        [
         2018,
         "Syria (SYR)",
         0,
         0,
         1,
         1
        ]
       ],
       "datasetInfos": [],
       "dbfsResultPath": null,
       "isJsonSchema": true,
       "metadata": {
        "dataframeName": "_sqldf",
        "executionCount": 13
       },
       "overflow": false,
       "plotOptions": {
        "customPlotOptions": {},
        "displayType": "table",
        "pivotAggregation": null,
        "pivotColumns": null,
        "xColumns": null,
        "yColumns": null
       },
       "removedWidgets": [],
       "schema": [
        {
         "metadata": "{}",
         "name": "Year",
         "type": "\"integer\""
        },
        {
         "metadata": "{}",
         "name": "NOC",
         "type": "\"string\""
        },
        {
         "metadata": "{}",
         "name": "Gold",
         "type": "\"integer\""
        },
        {
         "metadata": "{}",
         "name": "Silver",
         "type": "\"integer\""
        },
        {
         "metadata": "{}",
         "name": "Bronze",
         "type": "\"integer\""
        },
        {
         "metadata": "{}",
         "name": "Total",
         "type": "\"integer\""
        }
       ],
       "type": "table"
      }
     },
     "output_type": "display_data"
    }
   ],
   "source": [
    "%sql\n",
    "\n",
    "select * from asiangames_transformeddata.tx_factasiangames"
   ]
  }
 ],
 "metadata": {
  "application/vnd.databricks.v1+notebook": {
   "dashboards": [],
   "language": "python",
   "notebookMetadata": {
    "mostRecentlyExecutedCommandWithImplicitDF": {
     "commandId": 4453533447429750,
     "dataframes": [
      "_sqldf"
     ]
    },
    "pythonIndentUnit": 4
   },
   "notebookName": "transformation",
   "widgets": {}
  }
 },
 "nbformat": 4,
 "nbformat_minor": 0
}
